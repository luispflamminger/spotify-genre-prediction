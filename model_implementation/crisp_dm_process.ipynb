{
 "cells": [
  {
   "cell_type": "markdown",
   "metadata": {},
   "source": [
    "# Imports"
   ]
  },
  {
   "cell_type": "code",
   "execution_count": 174,
   "metadata": {},
   "outputs": [],
   "source": [
    "import os\n",
    "import pandas as pd\n",
    "import seaborn as sns \n",
    "import matplotlib as plt\n",
    "import numpy as np\n",
    "import matplotlib as mpl\n",
    "from matplotlib import pyplot as plt\n",
    "from sklearn.model_selection import train_test_split\n",
    "from sklearn.ensemble import GradientBoostingClassifier\n",
    "from sklearn.model_selection import GridSearchCV\n",
    "from sklearn.model_selection import validation_curve\n",
    "from sklearn.decomposition import PCA\n",
    "from sklearn.preprocessing import StandardScaler\n",
    "from sklearn.tree import DecisionTreeClassifier\n",
    "from sklearn.metrics import classification_report\n",
    "from sklearn.metrics import roc_curve, auc\n",
    "from sklearn.preprocessing import label_binarize\n",
    "from itertools import cycle"
   ]
  },
  {
   "cell_type": "markdown",
   "metadata": {},
   "source": [
    "# Preprocessing"
   ]
  },
  {
   "cell_type": "markdown",
   "metadata": {},
   "source": [
    "### Importing CSV from Data Collection"
   ]
  },
  {
   "cell_type": "code",
   "execution_count": 175,
   "metadata": {},
   "outputs": [
    {
     "data": {
      "text/html": [
       "<div>\n",
       "<style scoped>\n",
       "    .dataframe tbody tr th:only-of-type {\n",
       "        vertical-align: middle;\n",
       "    }\n",
       "\n",
       "    .dataframe tbody tr th {\n",
       "        vertical-align: top;\n",
       "    }\n",
       "\n",
       "    .dataframe thead th {\n",
       "        text-align: right;\n",
       "    }\n",
       "</style>\n",
       "<table border=\"1\" class=\"dataframe\">\n",
       "  <thead>\n",
       "    <tr style=\"text-align: right;\">\n",
       "      <th></th>\n",
       "      <th>categories.id</th>\n",
       "      <th>categories.name</th>\n",
       "      <th>categories.playlists.id</th>\n",
       "      <th>categories.playlists.name</th>\n",
       "      <th>categories.playlists.tracks.id</th>\n",
       "      <th>categories.playlists.tracks.name</th>\n",
       "      <th>categories.playlists.tracks.album.id</th>\n",
       "      <th>categories.playlists.tracks.album.name</th>\n",
       "      <th>categories.playlists.tracks.artists</th>\n",
       "      <th>categories.playlists.tracks.features.danceability</th>\n",
       "      <th>...</th>\n",
       "      <th>categories.playlists.tracks.features.loudness</th>\n",
       "      <th>categories.playlists.tracks.features.mode</th>\n",
       "      <th>categories.playlists.tracks.features.speechiness</th>\n",
       "      <th>categories.playlists.tracks.features.acousticness</th>\n",
       "      <th>categories.playlists.tracks.features.instrumentalness</th>\n",
       "      <th>categories.playlists.tracks.features.liveness</th>\n",
       "      <th>categories.playlists.tracks.features.valence</th>\n",
       "      <th>categories.playlists.tracks.features.tempo</th>\n",
       "      <th>categories.playlists.tracks.features.duration_ms</th>\n",
       "      <th>categories.playlists.tracks.features.time_signature</th>\n",
       "    </tr>\n",
       "  </thead>\n",
       "  <tbody>\n",
       "    <tr>\n",
       "      <th>0</th>\n",
       "      <td>hiphop</td>\n",
       "      <td>Hip-Hop</td>\n",
       "      <td>37i9dQZF1DX0XUsuxWHRQd</td>\n",
       "      <td>RapCaviar</td>\n",
       "      <td>2AaJeBEq3WLcfFW1y8svDf</td>\n",
       "      <td>By Your Side</td>\n",
       "      <td>2RrZgDND03MLu6pRJdTkz5</td>\n",
       "      <td>By Your Side</td>\n",
       "      <td>Rod Wave</td>\n",
       "      <td>0.649</td>\n",
       "      <td>...</td>\n",
       "      <td>-10.232</td>\n",
       "      <td>1</td>\n",
       "      <td>0.0959</td>\n",
       "      <td>0.03450</td>\n",
       "      <td>0.000036</td>\n",
       "      <td>0.0736</td>\n",
       "      <td>0.405</td>\n",
       "      <td>157.975</td>\n",
       "      <td>194051</td>\n",
       "      <td>4</td>\n",
       "    </tr>\n",
       "    <tr>\n",
       "      <th>1</th>\n",
       "      <td>hiphop</td>\n",
       "      <td>Hip-Hop</td>\n",
       "      <td>37i9dQZF1DX0XUsuxWHRQd</td>\n",
       "      <td>RapCaviar</td>\n",
       "      <td>7uLFOXgLrS90tEYPO1DGXy</td>\n",
       "      <td>Man in the Mirror</td>\n",
       "      <td>1VxVQAgekwkFo8yoXvFZ8o</td>\n",
       "      <td>B4 AVA</td>\n",
       "      <td>A Boogie Wit da Hoodie</td>\n",
       "      <td>0.849</td>\n",
       "      <td>...</td>\n",
       "      <td>-4.241</td>\n",
       "      <td>0</td>\n",
       "      <td>0.0637</td>\n",
       "      <td>0.17100</td>\n",
       "      <td>0.000000</td>\n",
       "      <td>0.1490</td>\n",
       "      <td>0.550</td>\n",
       "      <td>135.997</td>\n",
       "      <td>215304</td>\n",
       "      <td>4</td>\n",
       "    </tr>\n",
       "    <tr>\n",
       "      <th>2</th>\n",
       "      <td>hiphop</td>\n",
       "      <td>Hip-Hop</td>\n",
       "      <td>37i9dQZF1DX0XUsuxWHRQd</td>\n",
       "      <td>RapCaviar</td>\n",
       "      <td>2lUDBd7JrgAMltcp6dcd7D</td>\n",
       "      <td>25 million</td>\n",
       "      <td>1eVrpJbHRLBbioB9sb5b94</td>\n",
       "      <td>LIVE LIFE FAST</td>\n",
       "      <td>Roddy Ricch</td>\n",
       "      <td>0.793</td>\n",
       "      <td>...</td>\n",
       "      <td>-9.258</td>\n",
       "      <td>1</td>\n",
       "      <td>0.1240</td>\n",
       "      <td>0.01900</td>\n",
       "      <td>0.000001</td>\n",
       "      <td>0.1390</td>\n",
       "      <td>0.395</td>\n",
       "      <td>132.202</td>\n",
       "      <td>204626</td>\n",
       "      <td>4</td>\n",
       "    </tr>\n",
       "    <tr>\n",
       "      <th>3</th>\n",
       "      <td>hiphop</td>\n",
       "      <td>Hip-Hop</td>\n",
       "      <td>37i9dQZF1DX0XUsuxWHRQd</td>\n",
       "      <td>RapCaviar</td>\n",
       "      <td>0qHPxjC83zQYcxe39xSShx</td>\n",
       "      <td>thailand</td>\n",
       "      <td>1eVrpJbHRLBbioB9sb5b94</td>\n",
       "      <td>LIVE LIFE FAST</td>\n",
       "      <td>Roddy Ricch</td>\n",
       "      <td>0.875</td>\n",
       "      <td>...</td>\n",
       "      <td>-10.562</td>\n",
       "      <td>1</td>\n",
       "      <td>0.2180</td>\n",
       "      <td>0.00717</td>\n",
       "      <td>0.000000</td>\n",
       "      <td>0.1470</td>\n",
       "      <td>0.409</td>\n",
       "      <td>128.990</td>\n",
       "      <td>200959</td>\n",
       "      <td>4</td>\n",
       "    </tr>\n",
       "    <tr>\n",
       "      <th>4</th>\n",
       "      <td>hiphop</td>\n",
       "      <td>Hip-Hop</td>\n",
       "      <td>37i9dQZF1DX0XUsuxWHRQd</td>\n",
       "      <td>RapCaviar</td>\n",
       "      <td>2QIBJFl8DJR1mDh9GwfZef</td>\n",
       "      <td>Don’t Play (with Lil Baby)</td>\n",
       "      <td>2rLqUcipEjIKK9rma5OTN8</td>\n",
       "      <td>Hall of Fame 2.0</td>\n",
       "      <td>Polo G,Lil Baby</td>\n",
       "      <td>0.684</td>\n",
       "      <td>...</td>\n",
       "      <td>-7.414</td>\n",
       "      <td>0</td>\n",
       "      <td>0.3470</td>\n",
       "      <td>0.23900</td>\n",
       "      <td>0.000000</td>\n",
       "      <td>0.1120</td>\n",
       "      <td>0.708</td>\n",
       "      <td>146.925</td>\n",
       "      <td>156735</td>\n",
       "      <td>4</td>\n",
       "    </tr>\n",
       "    <tr>\n",
       "      <th>...</th>\n",
       "      <td>...</td>\n",
       "      <td>...</td>\n",
       "      <td>...</td>\n",
       "      <td>...</td>\n",
       "      <td>...</td>\n",
       "      <td>...</td>\n",
       "      <td>...</td>\n",
       "      <td>...</td>\n",
       "      <td>...</td>\n",
       "      <td>...</td>\n",
       "      <td>...</td>\n",
       "      <td>...</td>\n",
       "      <td>...</td>\n",
       "      <td>...</td>\n",
       "      <td>...</td>\n",
       "      <td>...</td>\n",
       "      <td>...</td>\n",
       "      <td>...</td>\n",
       "      <td>...</td>\n",
       "      <td>...</td>\n",
       "      <td>...</td>\n",
       "    </tr>\n",
       "    <tr>\n",
       "      <th>158317</th>\n",
       "      <td>funk</td>\n",
       "      <td>Funk &amp; Disco</td>\n",
       "      <td>37i9dQZF1DX0oFpWfPwcGv</td>\n",
       "      <td>Disco Decadence</td>\n",
       "      <td>00Zum0eGUHgcE5l8MoNuUG</td>\n",
       "      <td>Turn the Beat Around - 7\" Single Edit</td>\n",
       "      <td>7vlYGZ9hnsuC57PUiqy0WC</td>\n",
       "      <td>Never Gonna Let You Go (Expanded Edition)</td>\n",
       "      <td>Vicki Sue Robinson</td>\n",
       "      <td>0.707</td>\n",
       "      <td>...</td>\n",
       "      <td>-7.540</td>\n",
       "      <td>0</td>\n",
       "      <td>0.0720</td>\n",
       "      <td>0.44500</td>\n",
       "      <td>0.000000</td>\n",
       "      <td>0.3660</td>\n",
       "      <td>0.822</td>\n",
       "      <td>131.242</td>\n",
       "      <td>204653</td>\n",
       "      <td>4</td>\n",
       "    </tr>\n",
       "    <tr>\n",
       "      <th>158318</th>\n",
       "      <td>funk</td>\n",
       "      <td>Funk &amp; Disco</td>\n",
       "      <td>37i9dQZF1DX0oFpWfPwcGv</td>\n",
       "      <td>Disco Decadence</td>\n",
       "      <td>2vLaES21zwbX1Rnmj56Bbb</td>\n",
       "      <td>I'll Be Around</td>\n",
       "      <td>6QVemXFGMR4OLvlXvtQVjg</td>\n",
       "      <td>Spinners</td>\n",
       "      <td>The Spinners</td>\n",
       "      <td>0.593</td>\n",
       "      <td>...</td>\n",
       "      <td>-8.698</td>\n",
       "      <td>0</td>\n",
       "      <td>0.0680</td>\n",
       "      <td>0.17500</td>\n",
       "      <td>0.000000</td>\n",
       "      <td>0.0976</td>\n",
       "      <td>0.630</td>\n",
       "      <td>112.295</td>\n",
       "      <td>188800</td>\n",
       "      <td>4</td>\n",
       "    </tr>\n",
       "    <tr>\n",
       "      <th>158319</th>\n",
       "      <td>funk</td>\n",
       "      <td>Funk &amp; Disco</td>\n",
       "      <td>37i9dQZF1DX0oFpWfPwcGv</td>\n",
       "      <td>Disco Decadence</td>\n",
       "      <td>3eudp9ZxZAGaDBOuWGrW2D</td>\n",
       "      <td>Got to Be Real - Single Version</td>\n",
       "      <td>059jmsqbxhu2n78LMS0H3P</td>\n",
       "      <td>Cheryl Lynn (Expanded Edition)</td>\n",
       "      <td>Cheryl Lynn</td>\n",
       "      <td>0.830</td>\n",
       "      <td>...</td>\n",
       "      <td>-7.462</td>\n",
       "      <td>1</td>\n",
       "      <td>0.0448</td>\n",
       "      <td>0.20200</td>\n",
       "      <td>0.044800</td>\n",
       "      <td>0.1370</td>\n",
       "      <td>0.901</td>\n",
       "      <td>114.646</td>\n",
       "      <td>223173</td>\n",
       "      <td>4</td>\n",
       "    </tr>\n",
       "    <tr>\n",
       "      <th>158320</th>\n",
       "      <td>funk</td>\n",
       "      <td>Funk &amp; Disco</td>\n",
       "      <td>37i9dQZF1DX0oFpWfPwcGv</td>\n",
       "      <td>Disco Decadence</td>\n",
       "      <td>3YJx77Xx8JSwEoxqrkQO5c</td>\n",
       "      <td>Knock on Wood</td>\n",
       "      <td>07ojYfe9B08p7nmOL2kgNF</td>\n",
       "      <td>Knock On Wood</td>\n",
       "      <td>Eddie Floyd</td>\n",
       "      <td>0.864</td>\n",
       "      <td>...</td>\n",
       "      <td>-12.918</td>\n",
       "      <td>1</td>\n",
       "      <td>0.0365</td>\n",
       "      <td>0.27700</td>\n",
       "      <td>0.005210</td>\n",
       "      <td>0.0514</td>\n",
       "      <td>0.964</td>\n",
       "      <td>105.164</td>\n",
       "      <td>189840</td>\n",
       "      <td>4</td>\n",
       "    </tr>\n",
       "    <tr>\n",
       "      <th>158321</th>\n",
       "      <td>funk</td>\n",
       "      <td>Funk &amp; Disco</td>\n",
       "      <td>37i9dQZF1DX0oFpWfPwcGv</td>\n",
       "      <td>Disco Decadence</td>\n",
       "      <td>0Dj3iMM3fvHMOqWsqS64Fu</td>\n",
       "      <td>White Lines (Long Version) [Re-Recorded]</td>\n",
       "      <td>5bl0ggdoV1nNEGuVkUG9c3</td>\n",
       "      <td>Hip Hop Soundtrack To The Concrete Jungle (Re-...</td>\n",
       "      <td>Grandmaster Flash &amp; The Furious Five</td>\n",
       "      <td>0.814</td>\n",
       "      <td>...</td>\n",
       "      <td>-7.525</td>\n",
       "      <td>1</td>\n",
       "      <td>0.0376</td>\n",
       "      <td>0.01030</td>\n",
       "      <td>0.007750</td>\n",
       "      <td>0.1320</td>\n",
       "      <td>0.786</td>\n",
       "      <td>114.998</td>\n",
       "      <td>465048</td>\n",
       "      <td>4</td>\n",
       "    </tr>\n",
       "  </tbody>\n",
       "</table>\n",
       "<p>158322 rows × 22 columns</p>\n",
       "</div>"
      ],
      "text/plain": [
       "       categories.id categories.name categories.playlists.id  \\\n",
       "0             hiphop         Hip-Hop  37i9dQZF1DX0XUsuxWHRQd   \n",
       "1             hiphop         Hip-Hop  37i9dQZF1DX0XUsuxWHRQd   \n",
       "2             hiphop         Hip-Hop  37i9dQZF1DX0XUsuxWHRQd   \n",
       "3             hiphop         Hip-Hop  37i9dQZF1DX0XUsuxWHRQd   \n",
       "4             hiphop         Hip-Hop  37i9dQZF1DX0XUsuxWHRQd   \n",
       "...              ...             ...                     ...   \n",
       "158317          funk    Funk & Disco  37i9dQZF1DX0oFpWfPwcGv   \n",
       "158318          funk    Funk & Disco  37i9dQZF1DX0oFpWfPwcGv   \n",
       "158319          funk    Funk & Disco  37i9dQZF1DX0oFpWfPwcGv   \n",
       "158320          funk    Funk & Disco  37i9dQZF1DX0oFpWfPwcGv   \n",
       "158321          funk    Funk & Disco  37i9dQZF1DX0oFpWfPwcGv   \n",
       "\n",
       "       categories.playlists.name categories.playlists.tracks.id  \\\n",
       "0                      RapCaviar         2AaJeBEq3WLcfFW1y8svDf   \n",
       "1                      RapCaviar         7uLFOXgLrS90tEYPO1DGXy   \n",
       "2                      RapCaviar         2lUDBd7JrgAMltcp6dcd7D   \n",
       "3                      RapCaviar         0qHPxjC83zQYcxe39xSShx   \n",
       "4                      RapCaviar         2QIBJFl8DJR1mDh9GwfZef   \n",
       "...                          ...                            ...   \n",
       "158317           Disco Decadence         00Zum0eGUHgcE5l8MoNuUG   \n",
       "158318           Disco Decadence         2vLaES21zwbX1Rnmj56Bbb   \n",
       "158319           Disco Decadence         3eudp9ZxZAGaDBOuWGrW2D   \n",
       "158320           Disco Decadence         3YJx77Xx8JSwEoxqrkQO5c   \n",
       "158321           Disco Decadence         0Dj3iMM3fvHMOqWsqS64Fu   \n",
       "\n",
       "                categories.playlists.tracks.name  \\\n",
       "0                                   By Your Side   \n",
       "1                              Man in the Mirror   \n",
       "2                                     25 million   \n",
       "3                                       thailand   \n",
       "4                     Don’t Play (with Lil Baby)   \n",
       "...                                          ...   \n",
       "158317     Turn the Beat Around - 7\" Single Edit   \n",
       "158318                            I'll Be Around   \n",
       "158319           Got to Be Real - Single Version   \n",
       "158320                             Knock on Wood   \n",
       "158321  White Lines (Long Version) [Re-Recorded]   \n",
       "\n",
       "       categories.playlists.tracks.album.id  \\\n",
       "0                    2RrZgDND03MLu6pRJdTkz5   \n",
       "1                    1VxVQAgekwkFo8yoXvFZ8o   \n",
       "2                    1eVrpJbHRLBbioB9sb5b94   \n",
       "3                    1eVrpJbHRLBbioB9sb5b94   \n",
       "4                    2rLqUcipEjIKK9rma5OTN8   \n",
       "...                                     ...   \n",
       "158317               7vlYGZ9hnsuC57PUiqy0WC   \n",
       "158318               6QVemXFGMR4OLvlXvtQVjg   \n",
       "158319               059jmsqbxhu2n78LMS0H3P   \n",
       "158320               07ojYfe9B08p7nmOL2kgNF   \n",
       "158321               5bl0ggdoV1nNEGuVkUG9c3   \n",
       "\n",
       "                   categories.playlists.tracks.album.name  \\\n",
       "0                                            By Your Side   \n",
       "1                                                  B4 AVA   \n",
       "2                                          LIVE LIFE FAST   \n",
       "3                                          LIVE LIFE FAST   \n",
       "4                                        Hall of Fame 2.0   \n",
       "...                                                   ...   \n",
       "158317          Never Gonna Let You Go (Expanded Edition)   \n",
       "158318                                           Spinners   \n",
       "158319                     Cheryl Lynn (Expanded Edition)   \n",
       "158320                                      Knock On Wood   \n",
       "158321  Hip Hop Soundtrack To The Concrete Jungle (Re-...   \n",
       "\n",
       "         categories.playlists.tracks.artists  \\\n",
       "0                                   Rod Wave   \n",
       "1                     A Boogie Wit da Hoodie   \n",
       "2                                Roddy Ricch   \n",
       "3                                Roddy Ricch   \n",
       "4                            Polo G,Lil Baby   \n",
       "...                                      ...   \n",
       "158317                    Vicki Sue Robinson   \n",
       "158318                          The Spinners   \n",
       "158319                           Cheryl Lynn   \n",
       "158320                           Eddie Floyd   \n",
       "158321  Grandmaster Flash & The Furious Five   \n",
       "\n",
       "        categories.playlists.tracks.features.danceability  ...  \\\n",
       "0                                                   0.649  ...   \n",
       "1                                                   0.849  ...   \n",
       "2                                                   0.793  ...   \n",
       "3                                                   0.875  ...   \n",
       "4                                                   0.684  ...   \n",
       "...                                                   ...  ...   \n",
       "158317                                              0.707  ...   \n",
       "158318                                              0.593  ...   \n",
       "158319                                              0.830  ...   \n",
       "158320                                              0.864  ...   \n",
       "158321                                              0.814  ...   \n",
       "\n",
       "        categories.playlists.tracks.features.loudness  \\\n",
       "0                                             -10.232   \n",
       "1                                              -4.241   \n",
       "2                                              -9.258   \n",
       "3                                             -10.562   \n",
       "4                                              -7.414   \n",
       "...                                               ...   \n",
       "158317                                         -7.540   \n",
       "158318                                         -8.698   \n",
       "158319                                         -7.462   \n",
       "158320                                        -12.918   \n",
       "158321                                         -7.525   \n",
       "\n",
       "        categories.playlists.tracks.features.mode  \\\n",
       "0                                               1   \n",
       "1                                               0   \n",
       "2                                               1   \n",
       "3                                               1   \n",
       "4                                               0   \n",
       "...                                           ...   \n",
       "158317                                          0   \n",
       "158318                                          0   \n",
       "158319                                          1   \n",
       "158320                                          1   \n",
       "158321                                          1   \n",
       "\n",
       "        categories.playlists.tracks.features.speechiness  \\\n",
       "0                                                 0.0959   \n",
       "1                                                 0.0637   \n",
       "2                                                 0.1240   \n",
       "3                                                 0.2180   \n",
       "4                                                 0.3470   \n",
       "...                                                  ...   \n",
       "158317                                            0.0720   \n",
       "158318                                            0.0680   \n",
       "158319                                            0.0448   \n",
       "158320                                            0.0365   \n",
       "158321                                            0.0376   \n",
       "\n",
       "        categories.playlists.tracks.features.acousticness  \\\n",
       "0                                                 0.03450   \n",
       "1                                                 0.17100   \n",
       "2                                                 0.01900   \n",
       "3                                                 0.00717   \n",
       "4                                                 0.23900   \n",
       "...                                                   ...   \n",
       "158317                                            0.44500   \n",
       "158318                                            0.17500   \n",
       "158319                                            0.20200   \n",
       "158320                                            0.27700   \n",
       "158321                                            0.01030   \n",
       "\n",
       "        categories.playlists.tracks.features.instrumentalness  \\\n",
       "0                                                0.000036       \n",
       "1                                                0.000000       \n",
       "2                                                0.000001       \n",
       "3                                                0.000000       \n",
       "4                                                0.000000       \n",
       "...                                                   ...       \n",
       "158317                                           0.000000       \n",
       "158318                                           0.000000       \n",
       "158319                                           0.044800       \n",
       "158320                                           0.005210       \n",
       "158321                                           0.007750       \n",
       "\n",
       "        categories.playlists.tracks.features.liveness  \\\n",
       "0                                              0.0736   \n",
       "1                                              0.1490   \n",
       "2                                              0.1390   \n",
       "3                                              0.1470   \n",
       "4                                              0.1120   \n",
       "...                                               ...   \n",
       "158317                                         0.3660   \n",
       "158318                                         0.0976   \n",
       "158319                                         0.1370   \n",
       "158320                                         0.0514   \n",
       "158321                                         0.1320   \n",
       "\n",
       "        categories.playlists.tracks.features.valence  \\\n",
       "0                                              0.405   \n",
       "1                                              0.550   \n",
       "2                                              0.395   \n",
       "3                                              0.409   \n",
       "4                                              0.708   \n",
       "...                                              ...   \n",
       "158317                                         0.822   \n",
       "158318                                         0.630   \n",
       "158319                                         0.901   \n",
       "158320                                         0.964   \n",
       "158321                                         0.786   \n",
       "\n",
       "        categories.playlists.tracks.features.tempo  \\\n",
       "0                                          157.975   \n",
       "1                                          135.997   \n",
       "2                                          132.202   \n",
       "3                                          128.990   \n",
       "4                                          146.925   \n",
       "...                                            ...   \n",
       "158317                                     131.242   \n",
       "158318                                     112.295   \n",
       "158319                                     114.646   \n",
       "158320                                     105.164   \n",
       "158321                                     114.998   \n",
       "\n",
       "        categories.playlists.tracks.features.duration_ms  \\\n",
       "0                                                 194051   \n",
       "1                                                 215304   \n",
       "2                                                 204626   \n",
       "3                                                 200959   \n",
       "4                                                 156735   \n",
       "...                                                  ...   \n",
       "158317                                            204653   \n",
       "158318                                            188800   \n",
       "158319                                            223173   \n",
       "158320                                            189840   \n",
       "158321                                            465048   \n",
       "\n",
       "        categories.playlists.tracks.features.time_signature  \n",
       "0                                                       4    \n",
       "1                                                       4    \n",
       "2                                                       4    \n",
       "3                                                       4    \n",
       "4                                                       4    \n",
       "...                                                   ...    \n",
       "158317                                                  4    \n",
       "158318                                                  4    \n",
       "158319                                                  4    \n",
       "158320                                                  4    \n",
       "158321                                                  4    \n",
       "\n",
       "[158322 rows x 22 columns]"
      ]
     },
     "execution_count": 175,
     "metadata": {},
     "output_type": "execute_result"
    }
   ],
   "source": [
    "df_import = pd.read_csv(os.path.join('data_collection', 'final_result.csv'))\n",
    "df_import"
   ]
  },
  {
   "cell_type": "code",
   "execution_count": 176,
   "metadata": {},
   "outputs": [
    {
     "data": {
      "text/plain": [
       "categories.id                                             object\n",
       "categories.name                                           object\n",
       "categories.playlists.id                                   object\n",
       "categories.playlists.name                                 object\n",
       "categories.playlists.tracks.id                            object\n",
       "categories.playlists.tracks.name                          object\n",
       "categories.playlists.tracks.album.id                      object\n",
       "categories.playlists.tracks.album.name                    object\n",
       "categories.playlists.tracks.artists                       object\n",
       "categories.playlists.tracks.features.danceability        float64\n",
       "categories.playlists.tracks.features.energy              float64\n",
       "categories.playlists.tracks.features.key                   int64\n",
       "categories.playlists.tracks.features.loudness            float64\n",
       "categories.playlists.tracks.features.mode                  int64\n",
       "categories.playlists.tracks.features.speechiness         float64\n",
       "categories.playlists.tracks.features.acousticness        float64\n",
       "categories.playlists.tracks.features.instrumentalness    float64\n",
       "categories.playlists.tracks.features.liveness            float64\n",
       "categories.playlists.tracks.features.valence             float64\n",
       "categories.playlists.tracks.features.tempo               float64\n",
       "categories.playlists.tracks.features.duration_ms           int64\n",
       "categories.playlists.tracks.features.time_signature        int64\n",
       "dtype: object"
      ]
     },
     "execution_count": 176,
     "metadata": {},
     "output_type": "execute_result"
    }
   ],
   "source": [
    "df_import.dtypes"
   ]
  },
  {
   "cell_type": "markdown",
   "metadata": {},
   "source": [
    "### Removing duplicates\n",
    "Duplicates are removed by artist and track names.\n",
    "This ensures that tracks that were released twice (e.g. single before album) are still deduplicated.\n",
    "Using the track id as a deduplication criterion wouldn't achieve this."
   ]
  },
  {
   "cell_type": "code",
   "execution_count": 177,
   "metadata": {},
   "outputs": [],
   "source": [
    "df_dedup = df_import.drop_duplicates(subset=['categories.playlists.tracks.artists', 'categories.playlists.tracks.name'])"
   ]
  },
  {
   "cell_type": "markdown",
   "metadata": {},
   "source": [
    "### List all genre names"
   ]
  },
  {
   "cell_type": "code",
   "execution_count": 178,
   "metadata": {},
   "outputs": [
    {
     "name": "stdout",
     "output_type": "stream",
     "text": [
      "['Hip-Hop' 'Pop' 'Country' 'Rock' 'Latin' 'R&B' 'Mood' 'Indie'\n",
      " 'Regional Mexican' 'Dance/Electronic' 'Christian & Gospel' 'Chill'\n",
      " 'Party' 'Folk & Acoustic' 'K-Pop' 'Instrumental' 'Ambient' 'Alternative'\n",
      " 'Classical' 'Jazz' 'Soul' 'Punk' 'Blues' 'Arab' 'Metal' 'Caribbean'\n",
      " 'Funk & Disco']\n"
     ]
    }
   ],
   "source": [
    "genres = df_dedup['categories.name'].unique()\n",
    "print(genres)"
   ]
  },
  {
   "cell_type": "markdown",
   "metadata": {},
   "source": [
    "### Filter genres"
   ]
  },
  {
   "cell_type": "code",
   "execution_count": 179,
   "metadata": {},
   "outputs": [],
   "source": [
    "genre_filter = ['hiphop', 'jazz', 'rock']\n",
    "df_filtered = df_dedup[df_dedup['categories.id'].isin(genre_filter)]"
   ]
  },
  {
   "cell_type": "markdown",
   "metadata": {},
   "source": [
    "### Drop unneeded columns and rename"
   ]
  },
  {
   "cell_type": "code",
   "execution_count": 180,
   "metadata": {},
   "outputs": [
    {
     "data": {
      "text/html": [
       "<div>\n",
       "<style scoped>\n",
       "    .dataframe tbody tr th:only-of-type {\n",
       "        vertical-align: middle;\n",
       "    }\n",
       "\n",
       "    .dataframe tbody tr th {\n",
       "        vertical-align: top;\n",
       "    }\n",
       "\n",
       "    .dataframe thead th {\n",
       "        text-align: right;\n",
       "    }\n",
       "</style>\n",
       "<table border=\"1\" class=\"dataframe\">\n",
       "  <thead>\n",
       "    <tr style=\"text-align: right;\">\n",
       "      <th></th>\n",
       "      <th>category</th>\n",
       "      <th>feature_danceability</th>\n",
       "      <th>feature_energy</th>\n",
       "      <th>feature_key</th>\n",
       "      <th>feature_loudness</th>\n",
       "      <th>feature_mode</th>\n",
       "      <th>feature_speechiness</th>\n",
       "      <th>feature_acousticness</th>\n",
       "      <th>feature_instrumentalness</th>\n",
       "      <th>feature_liveness</th>\n",
       "      <th>feature_valence</th>\n",
       "      <th>feature_tempo</th>\n",
       "      <th>feature_duration_ms</th>\n",
       "      <th>feature_time_signature</th>\n",
       "    </tr>\n",
       "  </thead>\n",
       "  <tbody>\n",
       "    <tr>\n",
       "      <th>0</th>\n",
       "      <td>hiphop</td>\n",
       "      <td>0.649</td>\n",
       "      <td>0.5080</td>\n",
       "      <td>8</td>\n",
       "      <td>-10.232</td>\n",
       "      <td>1</td>\n",
       "      <td>0.0959</td>\n",
       "      <td>0.03450</td>\n",
       "      <td>0.000036</td>\n",
       "      <td>0.0736</td>\n",
       "      <td>0.4050</td>\n",
       "      <td>157.975</td>\n",
       "      <td>194051</td>\n",
       "      <td>4</td>\n",
       "    </tr>\n",
       "    <tr>\n",
       "      <th>1</th>\n",
       "      <td>hiphop</td>\n",
       "      <td>0.849</td>\n",
       "      <td>0.6310</td>\n",
       "      <td>3</td>\n",
       "      <td>-4.241</td>\n",
       "      <td>0</td>\n",
       "      <td>0.0637</td>\n",
       "      <td>0.17100</td>\n",
       "      <td>0.000000</td>\n",
       "      <td>0.1490</td>\n",
       "      <td>0.5500</td>\n",
       "      <td>135.997</td>\n",
       "      <td>215304</td>\n",
       "      <td>4</td>\n",
       "    </tr>\n",
       "    <tr>\n",
       "      <th>2</th>\n",
       "      <td>hiphop</td>\n",
       "      <td>0.793</td>\n",
       "      <td>0.4810</td>\n",
       "      <td>9</td>\n",
       "      <td>-9.258</td>\n",
       "      <td>1</td>\n",
       "      <td>0.1240</td>\n",
       "      <td>0.01900</td>\n",
       "      <td>0.000001</td>\n",
       "      <td>0.1390</td>\n",
       "      <td>0.3950</td>\n",
       "      <td>132.202</td>\n",
       "      <td>204626</td>\n",
       "      <td>4</td>\n",
       "    </tr>\n",
       "    <tr>\n",
       "      <th>3</th>\n",
       "      <td>hiphop</td>\n",
       "      <td>0.875</td>\n",
       "      <td>0.4780</td>\n",
       "      <td>7</td>\n",
       "      <td>-10.562</td>\n",
       "      <td>1</td>\n",
       "      <td>0.2180</td>\n",
       "      <td>0.00717</td>\n",
       "      <td>0.000000</td>\n",
       "      <td>0.1470</td>\n",
       "      <td>0.4090</td>\n",
       "      <td>128.990</td>\n",
       "      <td>200959</td>\n",
       "      <td>4</td>\n",
       "    </tr>\n",
       "    <tr>\n",
       "      <th>4</th>\n",
       "      <td>hiphop</td>\n",
       "      <td>0.684</td>\n",
       "      <td>0.6240</td>\n",
       "      <td>2</td>\n",
       "      <td>-7.414</td>\n",
       "      <td>0</td>\n",
       "      <td>0.3470</td>\n",
       "      <td>0.23900</td>\n",
       "      <td>0.000000</td>\n",
       "      <td>0.1120</td>\n",
       "      <td>0.7080</td>\n",
       "      <td>146.925</td>\n",
       "      <td>156735</td>\n",
       "      <td>4</td>\n",
       "    </tr>\n",
       "    <tr>\n",
       "      <th>...</th>\n",
       "      <td>...</td>\n",
       "      <td>...</td>\n",
       "      <td>...</td>\n",
       "      <td>...</td>\n",
       "      <td>...</td>\n",
       "      <td>...</td>\n",
       "      <td>...</td>\n",
       "      <td>...</td>\n",
       "      <td>...</td>\n",
       "      <td>...</td>\n",
       "      <td>...</td>\n",
       "      <td>...</td>\n",
       "      <td>...</td>\n",
       "      <td>...</td>\n",
       "    </tr>\n",
       "    <tr>\n",
       "      <th>13372</th>\n",
       "      <td>jazz</td>\n",
       "      <td>0.421</td>\n",
       "      <td>0.0952</td>\n",
       "      <td>6</td>\n",
       "      <td>-12.561</td>\n",
       "      <td>1</td>\n",
       "      <td>0.0479</td>\n",
       "      <td>0.93100</td>\n",
       "      <td>0.000201</td>\n",
       "      <td>0.1260</td>\n",
       "      <td>0.0773</td>\n",
       "      <td>109.698</td>\n",
       "      <td>177922</td>\n",
       "      <td>4</td>\n",
       "    </tr>\n",
       "    <tr>\n",
       "      <th>13373</th>\n",
       "      <td>jazz</td>\n",
       "      <td>0.503</td>\n",
       "      <td>0.4910</td>\n",
       "      <td>0</td>\n",
       "      <td>-12.020</td>\n",
       "      <td>1</td>\n",
       "      <td>0.0295</td>\n",
       "      <td>0.04120</td>\n",
       "      <td>0.922000</td>\n",
       "      <td>0.0965</td>\n",
       "      <td>0.4890</td>\n",
       "      <td>166.105</td>\n",
       "      <td>263447</td>\n",
       "      <td>4</td>\n",
       "    </tr>\n",
       "    <tr>\n",
       "      <th>13374</th>\n",
       "      <td>jazz</td>\n",
       "      <td>0.644</td>\n",
       "      <td>0.5940</td>\n",
       "      <td>5</td>\n",
       "      <td>-9.965</td>\n",
       "      <td>1</td>\n",
       "      <td>0.1170</td>\n",
       "      <td>0.75100</td>\n",
       "      <td>0.224000</td>\n",
       "      <td>0.1070</td>\n",
       "      <td>0.6320</td>\n",
       "      <td>90.564</td>\n",
       "      <td>494467</td>\n",
       "      <td>4</td>\n",
       "    </tr>\n",
       "    <tr>\n",
       "      <th>13375</th>\n",
       "      <td>jazz</td>\n",
       "      <td>0.462</td>\n",
       "      <td>0.2110</td>\n",
       "      <td>0</td>\n",
       "      <td>-13.396</td>\n",
       "      <td>1</td>\n",
       "      <td>0.0586</td>\n",
       "      <td>0.66500</td>\n",
       "      <td>0.946000</td>\n",
       "      <td>0.1140</td>\n",
       "      <td>0.4260</td>\n",
       "      <td>179.658</td>\n",
       "      <td>77190</td>\n",
       "      <td>3</td>\n",
       "    </tr>\n",
       "    <tr>\n",
       "      <th>13376</th>\n",
       "      <td>jazz</td>\n",
       "      <td>0.309</td>\n",
       "      <td>0.8370</td>\n",
       "      <td>2</td>\n",
       "      <td>-8.135</td>\n",
       "      <td>1</td>\n",
       "      <td>0.1310</td>\n",
       "      <td>0.08500</td>\n",
       "      <td>0.621000</td>\n",
       "      <td>0.1430</td>\n",
       "      <td>0.3880</td>\n",
       "      <td>114.757</td>\n",
       "      <td>810322</td>\n",
       "      <td>4</td>\n",
       "    </tr>\n",
       "  </tbody>\n",
       "</table>\n",
       "<p>13377 rows × 14 columns</p>\n",
       "</div>"
      ],
      "text/plain": [
       "      category  feature_danceability  feature_energy  feature_key  \\\n",
       "0       hiphop                 0.649          0.5080            8   \n",
       "1       hiphop                 0.849          0.6310            3   \n",
       "2       hiphop                 0.793          0.4810            9   \n",
       "3       hiphop                 0.875          0.4780            7   \n",
       "4       hiphop                 0.684          0.6240            2   \n",
       "...        ...                   ...             ...          ...   \n",
       "13372     jazz                 0.421          0.0952            6   \n",
       "13373     jazz                 0.503          0.4910            0   \n",
       "13374     jazz                 0.644          0.5940            5   \n",
       "13375     jazz                 0.462          0.2110            0   \n",
       "13376     jazz                 0.309          0.8370            2   \n",
       "\n",
       "       feature_loudness  feature_mode  feature_speechiness  \\\n",
       "0               -10.232             1               0.0959   \n",
       "1                -4.241             0               0.0637   \n",
       "2                -9.258             1               0.1240   \n",
       "3               -10.562             1               0.2180   \n",
       "4                -7.414             0               0.3470   \n",
       "...                 ...           ...                  ...   \n",
       "13372           -12.561             1               0.0479   \n",
       "13373           -12.020             1               0.0295   \n",
       "13374            -9.965             1               0.1170   \n",
       "13375           -13.396             1               0.0586   \n",
       "13376            -8.135             1               0.1310   \n",
       "\n",
       "       feature_acousticness  feature_instrumentalness  feature_liveness  \\\n",
       "0                   0.03450                  0.000036            0.0736   \n",
       "1                   0.17100                  0.000000            0.1490   \n",
       "2                   0.01900                  0.000001            0.1390   \n",
       "3                   0.00717                  0.000000            0.1470   \n",
       "4                   0.23900                  0.000000            0.1120   \n",
       "...                     ...                       ...               ...   \n",
       "13372               0.93100                  0.000201            0.1260   \n",
       "13373               0.04120                  0.922000            0.0965   \n",
       "13374               0.75100                  0.224000            0.1070   \n",
       "13375               0.66500                  0.946000            0.1140   \n",
       "13376               0.08500                  0.621000            0.1430   \n",
       "\n",
       "       feature_valence  feature_tempo  feature_duration_ms  \\\n",
       "0               0.4050        157.975               194051   \n",
       "1               0.5500        135.997               215304   \n",
       "2               0.3950        132.202               204626   \n",
       "3               0.4090        128.990               200959   \n",
       "4               0.7080        146.925               156735   \n",
       "...                ...            ...                  ...   \n",
       "13372           0.0773        109.698               177922   \n",
       "13373           0.4890        166.105               263447   \n",
       "13374           0.6320         90.564               494467   \n",
       "13375           0.4260        179.658                77190   \n",
       "13376           0.3880        114.757               810322   \n",
       "\n",
       "       feature_time_signature  \n",
       "0                           4  \n",
       "1                           4  \n",
       "2                           4  \n",
       "3                           4  \n",
       "4                           4  \n",
       "...                       ...  \n",
       "13372                       4  \n",
       "13373                       4  \n",
       "13374                       4  \n",
       "13375                       3  \n",
       "13376                       4  \n",
       "\n",
       "[13377 rows x 14 columns]"
      ]
     },
     "execution_count": 180,
     "metadata": {},
     "output_type": "execute_result"
    }
   ],
   "source": [
    "columns_to_drop = [\n",
    "    \"categories.name\",\n",
    "    \"categories.playlists.id\",\n",
    "    \"categories.playlists.name\",\n",
    "    \"categories.playlists.tracks.id\",\n",
    "    \"categories.playlists.tracks.name\",\n",
    "    \"categories.playlists.tracks.album.id\",\n",
    "    \"categories.playlists.tracks.album.name\",\n",
    "    \"categories.playlists.tracks.artists\"\n",
    "    ]\n",
    "df_dropped = df_filtered.drop(columns=columns_to_drop)\n",
    "\n",
    "df_dropped = df_dropped.rename(columns={\n",
    "    \"categories.id\": \"category\",\n",
    "    \"categories.playlists.tracks.features.danceability\": \"feature_danceability\",\n",
    "    \"categories.playlists.tracks.features.energy\": \"feature_energy\",\n",
    "    \"categories.playlists.tracks.features.key\": \"feature_key\",\n",
    "    \"categories.playlists.tracks.features.loudness\": \"feature_loudness\",\n",
    "    \"categories.playlists.tracks.features.mode\": \"feature_mode\",\n",
    "    \"categories.playlists.tracks.features.speechiness\": \"feature_speechiness\",\n",
    "    \"categories.playlists.tracks.features.acousticness\": \"feature_acousticness\",\n",
    "    \"categories.playlists.tracks.features.instrumentalness\": \"feature_instrumentalness\",\n",
    "    \"categories.playlists.tracks.features.liveness\": \"feature_liveness\",\n",
    "    \"categories.playlists.tracks.features.valence\": \"feature_valence\",\n",
    "    \"categories.playlists.tracks.features.tempo\": \"feature_tempo\",\n",
    "    \"categories.playlists.tracks.features.duration_ms\": \"feature_duration_ms\",\n",
    "    \"categories.playlists.tracks.features.time_signature\": \"feature_time_signature\"\n",
    "})\n",
    "df_dropped = df_dropped.reset_index(drop=True)\n",
    "df_dropped"
   ]
  },
  {
   "cell_type": "markdown",
   "metadata": {},
   "source": [
    "### See, if data contains any null or NA values"
   ]
  },
  {
   "cell_type": "code",
   "execution_count": 181,
   "metadata": {},
   "outputs": [
    {
     "data": {
      "text/plain": [
       "category                    0\n",
       "feature_danceability        0\n",
       "feature_energy              0\n",
       "feature_key                 0\n",
       "feature_loudness            0\n",
       "feature_mode                0\n",
       "feature_speechiness         0\n",
       "feature_acousticness        0\n",
       "feature_instrumentalness    0\n",
       "feature_liveness            0\n",
       "feature_valence             0\n",
       "feature_tempo               0\n",
       "feature_duration_ms         0\n",
       "feature_time_signature      0\n",
       "dtype: int64"
      ]
     },
     "execution_count": 181,
     "metadata": {},
     "output_type": "execute_result"
    }
   ],
   "source": [
    "df_dropped.isnull().sum()"
   ]
  },
  {
   "cell_type": "markdown",
   "metadata": {},
   "source": [
    "# Data Understanding"
   ]
  },
  {
   "cell_type": "markdown",
   "metadata": {},
   "source": [
    "## Basic Understanding"
   ]
  },
  {
   "cell_type": "markdown",
   "metadata": {},
   "source": [
    "Show table head"
   ]
  },
  {
   "cell_type": "code",
   "execution_count": 182,
   "metadata": {},
   "outputs": [
    {
     "data": {
      "text/html": [
       "<div>\n",
       "<style scoped>\n",
       "    .dataframe tbody tr th:only-of-type {\n",
       "        vertical-align: middle;\n",
       "    }\n",
       "\n",
       "    .dataframe tbody tr th {\n",
       "        vertical-align: top;\n",
       "    }\n",
       "\n",
       "    .dataframe thead th {\n",
       "        text-align: right;\n",
       "    }\n",
       "</style>\n",
       "<table border=\"1\" class=\"dataframe\">\n",
       "  <thead>\n",
       "    <tr style=\"text-align: right;\">\n",
       "      <th></th>\n",
       "      <th>category</th>\n",
       "      <th>feature_danceability</th>\n",
       "      <th>feature_energy</th>\n",
       "      <th>feature_key</th>\n",
       "      <th>feature_loudness</th>\n",
       "      <th>feature_mode</th>\n",
       "      <th>feature_speechiness</th>\n",
       "      <th>feature_acousticness</th>\n",
       "      <th>feature_instrumentalness</th>\n",
       "      <th>feature_liveness</th>\n",
       "      <th>feature_valence</th>\n",
       "      <th>feature_tempo</th>\n",
       "      <th>feature_duration_ms</th>\n",
       "      <th>feature_time_signature</th>\n",
       "    </tr>\n",
       "  </thead>\n",
       "  <tbody>\n",
       "    <tr>\n",
       "      <th>0</th>\n",
       "      <td>hiphop</td>\n",
       "      <td>0.649</td>\n",
       "      <td>0.508</td>\n",
       "      <td>8</td>\n",
       "      <td>-10.232</td>\n",
       "      <td>1</td>\n",
       "      <td>0.0959</td>\n",
       "      <td>0.03450</td>\n",
       "      <td>0.000036</td>\n",
       "      <td>0.0736</td>\n",
       "      <td>0.405</td>\n",
       "      <td>157.975</td>\n",
       "      <td>194051</td>\n",
       "      <td>4</td>\n",
       "    </tr>\n",
       "    <tr>\n",
       "      <th>1</th>\n",
       "      <td>hiphop</td>\n",
       "      <td>0.849</td>\n",
       "      <td>0.631</td>\n",
       "      <td>3</td>\n",
       "      <td>-4.241</td>\n",
       "      <td>0</td>\n",
       "      <td>0.0637</td>\n",
       "      <td>0.17100</td>\n",
       "      <td>0.000000</td>\n",
       "      <td>0.1490</td>\n",
       "      <td>0.550</td>\n",
       "      <td>135.997</td>\n",
       "      <td>215304</td>\n",
       "      <td>4</td>\n",
       "    </tr>\n",
       "    <tr>\n",
       "      <th>2</th>\n",
       "      <td>hiphop</td>\n",
       "      <td>0.793</td>\n",
       "      <td>0.481</td>\n",
       "      <td>9</td>\n",
       "      <td>-9.258</td>\n",
       "      <td>1</td>\n",
       "      <td>0.1240</td>\n",
       "      <td>0.01900</td>\n",
       "      <td>0.000001</td>\n",
       "      <td>0.1390</td>\n",
       "      <td>0.395</td>\n",
       "      <td>132.202</td>\n",
       "      <td>204626</td>\n",
       "      <td>4</td>\n",
       "    </tr>\n",
       "    <tr>\n",
       "      <th>3</th>\n",
       "      <td>hiphop</td>\n",
       "      <td>0.875</td>\n",
       "      <td>0.478</td>\n",
       "      <td>7</td>\n",
       "      <td>-10.562</td>\n",
       "      <td>1</td>\n",
       "      <td>0.2180</td>\n",
       "      <td>0.00717</td>\n",
       "      <td>0.000000</td>\n",
       "      <td>0.1470</td>\n",
       "      <td>0.409</td>\n",
       "      <td>128.990</td>\n",
       "      <td>200959</td>\n",
       "      <td>4</td>\n",
       "    </tr>\n",
       "    <tr>\n",
       "      <th>4</th>\n",
       "      <td>hiphop</td>\n",
       "      <td>0.684</td>\n",
       "      <td>0.624</td>\n",
       "      <td>2</td>\n",
       "      <td>-7.414</td>\n",
       "      <td>0</td>\n",
       "      <td>0.3470</td>\n",
       "      <td>0.23900</td>\n",
       "      <td>0.000000</td>\n",
       "      <td>0.1120</td>\n",
       "      <td>0.708</td>\n",
       "      <td>146.925</td>\n",
       "      <td>156735</td>\n",
       "      <td>4</td>\n",
       "    </tr>\n",
       "  </tbody>\n",
       "</table>\n",
       "</div>"
      ],
      "text/plain": [
       "  category  feature_danceability  feature_energy  feature_key  \\\n",
       "0   hiphop                 0.649           0.508            8   \n",
       "1   hiphop                 0.849           0.631            3   \n",
       "2   hiphop                 0.793           0.481            9   \n",
       "3   hiphop                 0.875           0.478            7   \n",
       "4   hiphop                 0.684           0.624            2   \n",
       "\n",
       "   feature_loudness  feature_mode  feature_speechiness  feature_acousticness  \\\n",
       "0           -10.232             1               0.0959               0.03450   \n",
       "1            -4.241             0               0.0637               0.17100   \n",
       "2            -9.258             1               0.1240               0.01900   \n",
       "3           -10.562             1               0.2180               0.00717   \n",
       "4            -7.414             0               0.3470               0.23900   \n",
       "\n",
       "   feature_instrumentalness  feature_liveness  feature_valence  feature_tempo  \\\n",
       "0                  0.000036            0.0736            0.405        157.975   \n",
       "1                  0.000000            0.1490            0.550        135.997   \n",
       "2                  0.000001            0.1390            0.395        132.202   \n",
       "3                  0.000000            0.1470            0.409        128.990   \n",
       "4                  0.000000            0.1120            0.708        146.925   \n",
       "\n",
       "   feature_duration_ms  feature_time_signature  \n",
       "0               194051                       4  \n",
       "1               215304                       4  \n",
       "2               204626                       4  \n",
       "3               200959                       4  \n",
       "4               156735                       4  "
      ]
     },
     "execution_count": 182,
     "metadata": {},
     "output_type": "execute_result"
    }
   ],
   "source": [
    "df_und = df_dropped\n",
    "df_und.head()"
   ]
  },
  {
   "cell_type": "markdown",
   "metadata": {},
   "source": [
    "Show shape of data and samples per category"
   ]
  },
  {
   "cell_type": "code",
   "execution_count": 183,
   "metadata": {},
   "outputs": [
    {
     "name": "stdout",
     "output_type": "stream",
     "text": [
      "basic shape:   (13377, 14)\n",
      "amount of samples for ...\n",
      "hiphop:   2694\n",
      "rock:    7252\n",
      "jazz:     3431\n"
     ]
    }
   ],
   "source": [
    "# shape (rows, columns)\n",
    "print('basic shape:  ', df_und.shape)\n",
    "\n",
    "# amount of each category \n",
    "print('amount of samples for ...')\n",
    "print('hiphop:  ', df_und.loc[df_und['category'] == 'hiphop'].shape[0])\n",
    "print('rock:   ' , df_und.loc[df_und['category'] == 'rock'].shape[0])\n",
    "print('jazz:    ', df_und.loc[df_und['category'] == 'jazz'].shape[0])"
   ]
  },
  {
   "cell_type": "markdown",
   "metadata": {},
   "source": [
    "## Analysis of a single feature\n",
    "Change the following variable feature to select which features should be analysed in this section."
   ]
  },
  {
   "cell_type": "code",
   "execution_count": 184,
   "metadata": {},
   "outputs": [],
   "source": [
    "feature = 'feature_energy'"
   ]
  },
  {
   "cell_type": "markdown",
   "metadata": {},
   "source": [
    "### Basic feature information"
   ]
  },
  {
   "cell_type": "code",
   "execution_count": 185,
   "metadata": {},
   "outputs": [
    {
     "name": "stdout",
     "output_type": "stream",
     "text": [
      "overall:\n",
      "count    13377.000000\n",
      "mean         0.650739\n",
      "std          0.235224\n",
      "min          0.001530\n",
      "25%          0.505000\n",
      "50%          0.687000\n",
      "75%          0.845000\n",
      "max          0.999000\n",
      "Name: feature_energy, dtype: float64\n",
      "\n",
      "skewness: -0.689911\n",
      "kurtosis: -0.254297\n"
     ]
    }
   ],
   "source": [
    "# overall basic feature information\n",
    "print('overall:')\n",
    "print(df_und[feature].describe())\n",
    "#skewness and kurtosis\n",
    "\n",
    "# skewness and kurtosis\n",
    "print('\\nskewness: %f' % df_und[feature].skew())\n",
    "print('kurtosis: %f'   % df_und[feature].kurt())"
   ]
  },
  {
   "cell_type": "markdown",
   "metadata": {},
   "source": [
    "### Category specific feature information"
   ]
  },
  {
   "cell_type": "code",
   "execution_count": 186,
   "metadata": {},
   "outputs": [],
   "source": [
    "df_hiphop   = df_und.loc[df['category'] == 'hiphop']\n",
    "df_rock     = df_und.loc[df['category'] == 'rock']\n",
    "df_jazz     = df_und.loc[df['category'] == 'jazz']"
   ]
  },
  {
   "cell_type": "markdown",
   "metadata": {},
   "source": [
    "Hip-Hop"
   ]
  },
  {
   "cell_type": "code",
   "execution_count": 187,
   "metadata": {},
   "outputs": [
    {
     "name": "stdout",
     "output_type": "stream",
     "text": [
      "hiphop:\n",
      "count    2694.000000\n",
      "mean        0.641614\n",
      "std         0.149233\n",
      "min         0.097600\n",
      "25%         0.536000\n",
      "50%         0.641000\n",
      "75%         0.750000\n",
      "max         0.995000\n",
      "Name: feature_energy, dtype: float64\n",
      "\n",
      "skewness: -0.118530\n",
      "kurtosis: -0.365503\n"
     ]
    }
   ],
   "source": [
    "print('hiphop:')\n",
    "print(df_hiphop[feature].describe())\n",
    "\n",
    "# skewness and kurtosis\n",
    "print('\\nskewness: %f' % df_hiphop[feature].skew())\n",
    "print('kurtosis: %f'   % df_hiphop[feature].kurt())"
   ]
  },
  {
   "cell_type": "markdown",
   "metadata": {},
   "source": [
    "Jazz"
   ]
  },
  {
   "cell_type": "code",
   "execution_count": 188,
   "metadata": {},
   "outputs": [
    {
     "name": "stdout",
     "output_type": "stream",
     "text": [
      "jazz:\n",
      "count    3431.000000\n",
      "mean        0.441448\n",
      "std         0.248839\n",
      "min         0.001530\n",
      "25%         0.231500\n",
      "50%         0.436000\n",
      "75%         0.638000\n",
      "max         0.992000\n",
      "Name: feature_energy, dtype: float64\n",
      "\n",
      "skewness: 0.126479\n",
      "kurtosis: -1.005078\n"
     ]
    }
   ],
   "source": [
    "print('jazz:')\n",
    "print(df_jazz[feature].describe())\n",
    "\n",
    "# skewness and kurtosis\n",
    "print('\\nskewness: %f' % df_jazz[feature].skew())\n",
    "print('kurtosis: %f'   % df_jazz[feature].kurt())"
   ]
  },
  {
   "cell_type": "markdown",
   "metadata": {},
   "source": [
    "Rock"
   ]
  },
  {
   "cell_type": "code",
   "execution_count": 189,
   "metadata": {},
   "outputs": [
    {
     "name": "stdout",
     "output_type": "stream",
     "text": [
      "rock:\n",
      "count    7252.000000\n",
      "mean        0.753147\n",
      "std         0.182375\n",
      "min         0.045700\n",
      "25%         0.645000\n",
      "50%         0.798500\n",
      "75%         0.901000\n",
      "max         0.999000\n",
      "Name: feature_energy, dtype: float64\n",
      "\n",
      "skewness: -0.935620\n",
      "kurtosis: 0.327018\n"
     ]
    }
   ],
   "source": [
    "print('rock:')\n",
    "print(df_rock[feature].describe())\n",
    "\n",
    "# skewness and kurtosis\n",
    "print('\\nskewness: %f' % df_rock[feature].skew())\n",
    "print('kurtosis: %f'   % df_rock[feature].kurt())"
   ]
  },
  {
   "cell_type": "markdown",
   "metadata": {},
   "source": [
    "### Graphical analysis of the selected feature"
   ]
  },
  {
   "cell_type": "markdown",
   "metadata": {},
   "source": [
    "Distribution Plot"
   ]
  },
  {
   "cell_type": "code",
   "execution_count": 190,
   "metadata": {},
   "outputs": [
    {
     "data": {
      "image/png": "[encoded data removed]",
      "text/plain": [
       "<Figure size 437.475x360 with 1 Axes>"
      ]
     },
     "metadata": {},
     "output_type": "display_data"
    }
   ],
   "source": [
    "sns.set(style=\"whitegrid\")\n",
    "ax = sns.displot(data = df_und, x = feature, hue = df_und['category'], kind=\"kde\",fill=True,common_norm=False)"
   ]
  },
  {
   "cell_type": "markdown",
   "metadata": {},
   "source": [
    "Boxplot"
   ]
  },
  {
   "cell_type": "code",
   "execution_count": 191,
   "metadata": {},
   "outputs": [
    {
     "data": {
      "image/png": "[encoded data removed]",
      "text/plain": [
       "<Figure size 432x288 with 1 Axes>"
      ]
     },
     "metadata": {},
     "output_type": "display_data"
    }
   ],
   "source": [
    "ax = sns.boxplot(data = df_und, x = 'category', y = feature)"
   ]
  },
  {
   "cell_type": "markdown",
   "metadata": {},
   "source": [
    "## Correlation between all features"
   ]
  },
  {
   "cell_type": "markdown",
   "metadata": {},
   "source": [
    "Overall Correlation"
   ]
  },
  {
   "cell_type": "code",
   "execution_count": 192,
   "metadata": {},
   "outputs": [
    {
     "data": {
      "text/plain": [
       "<AxesSubplot:>"
      ]
     },
     "execution_count": 192,
     "metadata": {},
     "output_type": "execute_result"
    },
    {
     "data": {
      "image/png": "[encoded data removed]",
      "text/plain": [
       "<Figure size 432x288 with 2 Axes>"
      ]
     },
     "metadata": {},
     "output_type": "display_data"
    }
   ],
   "source": [
    "corrmat = df_und.corr()\n",
    "sns.heatmap(corrmat, vmax=.8, square=True)"
   ]
  },
  {
   "cell_type": "markdown",
   "metadata": {},
   "source": [
    "Correlations of Hip-Hop samples"
   ]
  },
  {
   "cell_type": "code",
   "execution_count": 193,
   "metadata": {},
   "outputs": [
    {
     "data": {
      "image/png": "[encoded data removed]",
      "text/plain": [
       "<Figure size 432x288 with 2 Axes>"
      ]
     },
     "metadata": {},
     "output_type": "display_data"
    }
   ],
   "source": [
    "corrmat = df_hiphop.corr()\n",
    "sns.heatmap(corrmat, vmax=.8, square=True);"
   ]
  },
  {
   "cell_type": "markdown",
   "metadata": {},
   "source": [
    "Correlations of Jazz samples"
   ]
  },
  {
   "cell_type": "code",
   "execution_count": 194,
   "metadata": {},
   "outputs": [
    {
     "data": {
      "image/png": "[encoded data removed]",
      "text/plain": [
       "<Figure size 432x288 with 2 Axes>"
      ]
     },
     "metadata": {},
     "output_type": "display_data"
    }
   ],
   "source": [
    "corrmat = df_jazz.corr()\n",
    "sns.heatmap(corrmat, vmax=.8, square=True);"
   ]
  },
  {
   "cell_type": "markdown",
   "metadata": {},
   "source": [
    "Correlations of Rock samples"
   ]
  },
  {
   "cell_type": "code",
   "execution_count": 195,
   "metadata": {},
   "outputs": [
    {
     "data": {
      "image/png": "[encoded data removed]",
      "text/plain": [
       "<Figure size 432x288 with 2 Axes>"
      ]
     },
     "metadata": {},
     "output_type": "display_data"
    }
   ],
   "source": [
    "corrmat = df_rock.corr()\n",
    "sns.heatmap(corrmat, vmax=.8, square=True);"
   ]
  },
  {
   "cell_type": "markdown",
   "metadata": {},
   "source": [
    "## Correlation between two features"
   ]
  },
  {
   "cell_type": "code",
   "execution_count": 196,
   "metadata": {},
   "outputs": [
    {
     "data": {
      "text/plain": [
       "<seaborn.axisgrid.JointGrid at 0x7f2eb5247490>"
      ]
     },
     "execution_count": 196,
     "metadata": {},
     "output_type": "execute_result"
    },
    {
     "data": {
      "image/png": "[encoded data removed]",
      "text/plain": [
       "<Figure size 432x432 with 3 Axes>"
      ]
     },
     "metadata": {},
     "output_type": "display_data"
    }
   ],
   "source": [
    "feature_x = 'feature_loudness'\n",
    "feature_y = 'feature_energy'\n",
    "\n",
    "sns.jointplot(\n",
    "    data = df_und,\n",
    "    x    = feature_x,\n",
    "    y    = feature_y,\n",
    "    hue  = \"category\",\n",
    "    kind = \"kde\")"
   ]
  },
  {
   "cell_type": "markdown",
   "metadata": {},
   "source": [
    "# Data Preparation for Modeling"
   ]
  },
  {
   "cell_type": "markdown",
   "metadata": {},
   "source": [
    "### Map categories to integers"
   ]
  },
  {
   "cell_type": "code",
   "execution_count": 197,
   "metadata": {},
   "outputs": [
    {
     "data": {
      "text/html": [
       "<div>\n",
       "<style scoped>\n",
       "    .dataframe tbody tr th:only-of-type {\n",
       "        vertical-align: middle;\n",
       "    }\n",
       "\n",
       "    .dataframe tbody tr th {\n",
       "        vertical-align: top;\n",
       "    }\n",
       "\n",
       "    .dataframe thead th {\n",
       "        text-align: right;\n",
       "    }\n",
       "</style>\n",
       "<table border=\"1\" class=\"dataframe\">\n",
       "  <thead>\n",
       "    <tr style=\"text-align: right;\">\n",
       "      <th></th>\n",
       "      <th>category</th>\n",
       "      <th>target</th>\n",
       "      <th>feature_danceability</th>\n",
       "      <th>feature_energy</th>\n",
       "      <th>feature_key</th>\n",
       "      <th>feature_loudness</th>\n",
       "      <th>feature_mode</th>\n",
       "      <th>feature_speechiness</th>\n",
       "      <th>feature_acousticness</th>\n",
       "      <th>feature_instrumentalness</th>\n",
       "      <th>feature_liveness</th>\n",
       "      <th>feature_valence</th>\n",
       "      <th>feature_tempo</th>\n",
       "      <th>feature_duration_ms</th>\n",
       "      <th>feature_time_signature</th>\n",
       "    </tr>\n",
       "  </thead>\n",
       "  <tbody>\n",
       "    <tr>\n",
       "      <th>0</th>\n",
       "      <td>hiphop</td>\n",
       "      <td>0</td>\n",
       "      <td>0.649</td>\n",
       "      <td>0.5080</td>\n",
       "      <td>8</td>\n",
       "      <td>-10.232</td>\n",
       "      <td>1</td>\n",
       "      <td>0.0959</td>\n",
       "      <td>0.03450</td>\n",
       "      <td>0.000036</td>\n",
       "      <td>0.0736</td>\n",
       "      <td>0.4050</td>\n",
       "      <td>157.975</td>\n",
       "      <td>194051</td>\n",
       "      <td>4</td>\n",
       "    </tr>\n",
       "    <tr>\n",
       "      <th>1</th>\n",
       "      <td>hiphop</td>\n",
       "      <td>0</td>\n",
       "      <td>0.849</td>\n",
       "      <td>0.6310</td>\n",
       "      <td>3</td>\n",
       "      <td>-4.241</td>\n",
       "      <td>0</td>\n",
       "      <td>0.0637</td>\n",
       "      <td>0.17100</td>\n",
       "      <td>0.000000</td>\n",
       "      <td>0.1490</td>\n",
       "      <td>0.5500</td>\n",
       "      <td>135.997</td>\n",
       "      <td>215304</td>\n",
       "      <td>4</td>\n",
       "    </tr>\n",
       "    <tr>\n",
       "      <th>2</th>\n",
       "      <td>hiphop</td>\n",
       "      <td>0</td>\n",
       "      <td>0.793</td>\n",
       "      <td>0.4810</td>\n",
       "      <td>9</td>\n",
       "      <td>-9.258</td>\n",
       "      <td>1</td>\n",
       "      <td>0.1240</td>\n",
       "      <td>0.01900</td>\n",
       "      <td>0.000001</td>\n",
       "      <td>0.1390</td>\n",
       "      <td>0.3950</td>\n",
       "      <td>132.202</td>\n",
       "      <td>204626</td>\n",
       "      <td>4</td>\n",
       "    </tr>\n",
       "    <tr>\n",
       "      <th>3</th>\n",
       "      <td>hiphop</td>\n",
       "      <td>0</td>\n",
       "      <td>0.875</td>\n",
       "      <td>0.4780</td>\n",
       "      <td>7</td>\n",
       "      <td>-10.562</td>\n",
       "      <td>1</td>\n",
       "      <td>0.2180</td>\n",
       "      <td>0.00717</td>\n",
       "      <td>0.000000</td>\n",
       "      <td>0.1470</td>\n",
       "      <td>0.4090</td>\n",
       "      <td>128.990</td>\n",
       "      <td>200959</td>\n",
       "      <td>4</td>\n",
       "    </tr>\n",
       "    <tr>\n",
       "      <th>4</th>\n",
       "      <td>hiphop</td>\n",
       "      <td>0</td>\n",
       "      <td>0.684</td>\n",
       "      <td>0.6240</td>\n",
       "      <td>2</td>\n",
       "      <td>-7.414</td>\n",
       "      <td>0</td>\n",
       "      <td>0.3470</td>\n",
       "      <td>0.23900</td>\n",
       "      <td>0.000000</td>\n",
       "      <td>0.1120</td>\n",
       "      <td>0.7080</td>\n",
       "      <td>146.925</td>\n",
       "      <td>156735</td>\n",
       "      <td>4</td>\n",
       "    </tr>\n",
       "    <tr>\n",
       "      <th>...</th>\n",
       "      <td>...</td>\n",
       "      <td>...</td>\n",
       "      <td>...</td>\n",
       "      <td>...</td>\n",
       "      <td>...</td>\n",
       "      <td>...</td>\n",
       "      <td>...</td>\n",
       "      <td>...</td>\n",
       "      <td>...</td>\n",
       "      <td>...</td>\n",
       "      <td>...</td>\n",
       "      <td>...</td>\n",
       "      <td>...</td>\n",
       "      <td>...</td>\n",
       "      <td>...</td>\n",
       "    </tr>\n",
       "    <tr>\n",
       "      <th>13372</th>\n",
       "      <td>jazz</td>\n",
       "      <td>2</td>\n",
       "      <td>0.421</td>\n",
       "      <td>0.0952</td>\n",
       "      <td>6</td>\n",
       "      <td>-12.561</td>\n",
       "      <td>1</td>\n",
       "      <td>0.0479</td>\n",
       "      <td>0.93100</td>\n",
       "      <td>0.000201</td>\n",
       "      <td>0.1260</td>\n",
       "      <td>0.0773</td>\n",
       "      <td>109.698</td>\n",
       "      <td>177922</td>\n",
       "      <td>4</td>\n",
       "    </tr>\n",
       "    <tr>\n",
       "      <th>13373</th>\n",
       "      <td>jazz</td>\n",
       "      <td>2</td>\n",
       "      <td>0.503</td>\n",
       "      <td>0.4910</td>\n",
       "      <td>0</td>\n",
       "      <td>-12.020</td>\n",
       "      <td>1</td>\n",
       "      <td>0.0295</td>\n",
       "      <td>0.04120</td>\n",
       "      <td>0.922000</td>\n",
       "      <td>0.0965</td>\n",
       "      <td>0.4890</td>\n",
       "      <td>166.105</td>\n",
       "      <td>263447</td>\n",
       "      <td>4</td>\n",
       "    </tr>\n",
       "    <tr>\n",
       "      <th>13374</th>\n",
       "      <td>jazz</td>\n",
       "      <td>2</td>\n",
       "      <td>0.644</td>\n",
       "      <td>0.5940</td>\n",
       "      <td>5</td>\n",
       "      <td>-9.965</td>\n",
       "      <td>1</td>\n",
       "      <td>0.1170</td>\n",
       "      <td>0.75100</td>\n",
       "      <td>0.224000</td>\n",
       "      <td>0.1070</td>\n",
       "      <td>0.6320</td>\n",
       "      <td>90.564</td>\n",
       "      <td>494467</td>\n",
       "      <td>4</td>\n",
       "    </tr>\n",
       "    <tr>\n",
       "      <th>13375</th>\n",
       "      <td>jazz</td>\n",
       "      <td>2</td>\n",
       "      <td>0.462</td>\n",
       "      <td>0.2110</td>\n",
       "      <td>0</td>\n",
       "      <td>-13.396</td>\n",
       "      <td>1</td>\n",
       "      <td>0.0586</td>\n",
       "      <td>0.66500</td>\n",
       "      <td>0.946000</td>\n",
       "      <td>0.1140</td>\n",
       "      <td>0.4260</td>\n",
       "      <td>179.658</td>\n",
       "      <td>77190</td>\n",
       "      <td>3</td>\n",
       "    </tr>\n",
       "    <tr>\n",
       "      <th>13376</th>\n",
       "      <td>jazz</td>\n",
       "      <td>2</td>\n",
       "      <td>0.309</td>\n",
       "      <td>0.8370</td>\n",
       "      <td>2</td>\n",
       "      <td>-8.135</td>\n",
       "      <td>1</td>\n",
       "      <td>0.1310</td>\n",
       "      <td>0.08500</td>\n",
       "      <td>0.621000</td>\n",
       "      <td>0.1430</td>\n",
       "      <td>0.3880</td>\n",
       "      <td>114.757</td>\n",
       "      <td>810322</td>\n",
       "      <td>4</td>\n",
       "    </tr>\n",
       "  </tbody>\n",
       "</table>\n",
       "<p>13377 rows × 15 columns</p>\n",
       "</div>"
      ],
      "text/plain": [
       "      category  target  feature_danceability  feature_energy  feature_key  \\\n",
       "0       hiphop       0                 0.649          0.5080            8   \n",
       "1       hiphop       0                 0.849          0.6310            3   \n",
       "2       hiphop       0                 0.793          0.4810            9   \n",
       "3       hiphop       0                 0.875          0.4780            7   \n",
       "4       hiphop       0                 0.684          0.6240            2   \n",
       "...        ...     ...                   ...             ...          ...   \n",
       "13372     jazz       2                 0.421          0.0952            6   \n",
       "13373     jazz       2                 0.503          0.4910            0   \n",
       "13374     jazz       2                 0.644          0.5940            5   \n",
       "13375     jazz       2                 0.462          0.2110            0   \n",
       "13376     jazz       2                 0.309          0.8370            2   \n",
       "\n",
       "       feature_loudness  feature_mode  feature_speechiness  \\\n",
       "0               -10.232             1               0.0959   \n",
       "1                -4.241             0               0.0637   \n",
       "2                -9.258             1               0.1240   \n",
       "3               -10.562             1               0.2180   \n",
       "4                -7.414             0               0.3470   \n",
       "...                 ...           ...                  ...   \n",
       "13372           -12.561             1               0.0479   \n",
       "13373           -12.020             1               0.0295   \n",
       "13374            -9.965             1               0.1170   \n",
       "13375           -13.396             1               0.0586   \n",
       "13376            -8.135             1               0.1310   \n",
       "\n",
       "       feature_acousticness  feature_instrumentalness  feature_liveness  \\\n",
       "0                   0.03450                  0.000036            0.0736   \n",
       "1                   0.17100                  0.000000            0.1490   \n",
       "2                   0.01900                  0.000001            0.1390   \n",
       "3                   0.00717                  0.000000            0.1470   \n",
       "4                   0.23900                  0.000000            0.1120   \n",
       "...                     ...                       ...               ...   \n",
       "13372               0.93100                  0.000201            0.1260   \n",
       "13373               0.04120                  0.922000            0.0965   \n",
       "13374               0.75100                  0.224000            0.1070   \n",
       "13375               0.66500                  0.946000            0.1140   \n",
       "13376               0.08500                  0.621000            0.1430   \n",
       "\n",
       "       feature_valence  feature_tempo  feature_duration_ms  \\\n",
       "0               0.4050        157.975               194051   \n",
       "1               0.5500        135.997               215304   \n",
       "2               0.3950        132.202               204626   \n",
       "3               0.4090        128.990               200959   \n",
       "4               0.7080        146.925               156735   \n",
       "...                ...            ...                  ...   \n",
       "13372           0.0773        109.698               177922   \n",
       "13373           0.4890        166.105               263447   \n",
       "13374           0.6320         90.564               494467   \n",
       "13375           0.4260        179.658                77190   \n",
       "13376           0.3880        114.757               810322   \n",
       "\n",
       "       feature_time_signature  \n",
       "0                           4  \n",
       "1                           4  \n",
       "2                           4  \n",
       "3                           4  \n",
       "4                           4  \n",
       "...                       ...  \n",
       "13372                       4  \n",
       "13373                       4  \n",
       "13374                       4  \n",
       "13375                       3  \n",
       "13376                       4  \n",
       "\n",
       "[13377 rows x 15 columns]"
      ]
     },
     "execution_count": 197,
     "metadata": {},
     "output_type": "execute_result"
    }
   ],
   "source": [
    "def encode_target(df, target_column):\n",
    "\n",
    "    df_mod = df.copy()\n",
    "    map_to_int = {name: n for n, name in enumerate(df_mod[\"category\"].unique())}\n",
    "    df_mod.insert(1, \"target\", df_mod[target_column].replace(map_to_int))\n",
    "\n",
    "    return df_mod\n",
    "\n",
    "df = encode_target(df_dropped, \"category\")\n",
    "df"
   ]
  },
  {
   "cell_type": "markdown",
   "metadata": {},
   "source": [
    "### Show final integer mapping"
   ]
  },
  {
   "cell_type": "code",
   "execution_count": 198,
   "metadata": {},
   "outputs": [
    {
     "data": {
      "text/html": [
       "<div>\n",
       "<style scoped>\n",
       "    .dataframe tbody tr th:only-of-type {\n",
       "        vertical-align: middle;\n",
       "    }\n",
       "\n",
       "    .dataframe tbody tr th {\n",
       "        vertical-align: top;\n",
       "    }\n",
       "\n",
       "    .dataframe thead th {\n",
       "        text-align: right;\n",
       "    }\n",
       "</style>\n",
       "<table border=\"1\" class=\"dataframe\">\n",
       "  <thead>\n",
       "    <tr style=\"text-align: right;\">\n",
       "      <th></th>\n",
       "      <th>target</th>\n",
       "      <th>category</th>\n",
       "    </tr>\n",
       "  </thead>\n",
       "  <tbody>\n",
       "    <tr>\n",
       "      <th>0</th>\n",
       "      <td>0</td>\n",
       "      <td>hiphop</td>\n",
       "    </tr>\n",
       "    <tr>\n",
       "      <th>2694</th>\n",
       "      <td>1</td>\n",
       "      <td>rock</td>\n",
       "    </tr>\n",
       "    <tr>\n",
       "      <th>9946</th>\n",
       "      <td>2</td>\n",
       "      <td>jazz</td>\n",
       "    </tr>\n",
       "  </tbody>\n",
       "</table>\n",
       "</div>"
      ],
      "text/plain": [
       "      target category\n",
       "0          0   hiphop\n",
       "2694       1     rock\n",
       "9946       2     jazz"
      ]
     },
     "execution_count": 198,
     "metadata": {},
     "output_type": "execute_result"
    }
   ],
   "source": [
    "df[[\"target\", \"category\"]].drop_duplicates(subset=['target', 'category'])"
   ]
  },
  {
   "cell_type": "markdown",
   "metadata": {},
   "source": [
    "## Data Transformation and Dimension Reduction\n",
    "Overview over all scores is given at the end of this section"
   ]
  },
  {
   "cell_type": "markdown",
   "metadata": {},
   "source": [
    "Function for shuffling, splitting, fitting and scoring a simple model"
   ]
  },
  {
   "cell_type": "code",
   "execution_count": 199,
   "metadata": {},
   "outputs": [],
   "source": [
    "def eval_prep(df, feature_column_names, label_column_name):\n",
    "    train, test = train_test_split(df, test_size=0.2, random_state=45, shuffle=True)\n",
    "\n",
    "    X_train = train[feature_column_names]\n",
    "    X_test = test[feature_column_names]\n",
    "\n",
    "    y_train = train[label_column_name]\n",
    "    y_test = test[label_column_name]\n",
    "\n",
    "    # Create gradient boosting classifier object with default values\n",
    "    gbc = GradientBoostingClassifier(random_state=45)\n",
    "\n",
    "    gbc.fit(X_train, y_train)\n",
    "    score = gbc.score(X_test, y_test)\n",
    "    \n",
    "    return score\n",
    "\n",
    "score_overview = []"
   ]
  },
  {
   "cell_type": "markdown",
   "metadata": {},
   "source": [
    "### Simple regular Gradient Boosting Model for reference"
   ]
  },
  {
   "cell_type": "code",
   "execution_count": 200,
   "metadata": {},
   "outputs": [],
   "source": [
    "features = list(df.columns[2:])\n",
    "\n",
    "score = eval_prep(df, features, \"target\")\n",
    "score_overview.append({\"score\": score, \"desc\": \"Regular Gradient Boosting\"})"
   ]
  },
  {
   "cell_type": "markdown",
   "metadata": {},
   "source": [
    "### Mean Removal"
   ]
  },
  {
   "cell_type": "code",
   "execution_count": 201,
   "metadata": {},
   "outputs": [],
   "source": [
    "X_mr = df[features]\n",
    "y = df[\"target\"]\n",
    "\n",
    "X_mr = StandardScaler(with_std=False).fit_transform(X_mr)\n",
    "\n",
    "df_mr = pd.DataFrame(data=X_mr)\n",
    "df_mr.insert(0, \"target\", y)\n",
    "df_mr.columns = [\"target\"] + features\n",
    "\n",
    "score = eval_prep(df_mr, features, \"target\")\n",
    "\n",
    "score_overview.append({\"score\": score, \"desc\": \"Mean Removal\"})"
   ]
  },
  {
   "cell_type": "markdown",
   "metadata": {},
   "source": [
    "### Variance Scaling"
   ]
  },
  {
   "cell_type": "code",
   "execution_count": 202,
   "metadata": {},
   "outputs": [],
   "source": [
    "X_vs = df[features]\n",
    "y = df[\"target\"]\n",
    "\n",
    "X_vs = StandardScaler(with_mean=False).fit_transform(X_vs)\n",
    "\n",
    "df_vs = pd.DataFrame(data=X_vs)\n",
    "df_vs.insert(0, \"target\", y)\n",
    "df_vs.columns = [\"target\"] + features\n",
    "\n",
    "score = eval_prep(df_vs, features, \"target\")\n",
    "\n",
    "score_overview.append({\"score\": score, \"desc\": \"Variance Scaling\"})"
   ]
  },
  {
   "cell_type": "markdown",
   "metadata": {},
   "source": [
    "### Standardization"
   ]
  },
  {
   "cell_type": "code",
   "execution_count": 203,
   "metadata": {},
   "outputs": [],
   "source": [
    "X_s = df[features]\n",
    "y = df[\"target\"]\n",
    "\n",
    "X_s = StandardScaler().fit_transform(X_s)\n",
    "\n",
    "df_s = pd.DataFrame(data=X_s)\n",
    "df_s.insert(0, \"target\", y)\n",
    "df_s.columns = [\"target\"] + features\n",
    "\n",
    "score = eval_prep(df_s, features, \"target\")\n",
    "\n",
    "score_overview.append({\"score\": score, \"desc\": \"Standardization\"})"
   ]
  },
  {
   "cell_type": "markdown",
   "metadata": {},
   "source": [
    "### PCA"
   ]
  },
  {
   "cell_type": "code",
   "execution_count": 204,
   "metadata": {},
   "outputs": [
    {
     "name": "stdout",
     "output_type": "stream",
     "text": [
      "PCA with 13 components yielded optimal score: 0.8352017937219731\n"
     ]
    }
   ],
   "source": [
    "scores = []\n",
    "\n",
    "for n_components in range(2,14):\n",
    "\n",
    "    X_pca = df[features]\n",
    "    y = df[\"target\"]\n",
    "\n",
    "    # column names\n",
    "    column_names = [\"target\"]\n",
    "    for n in range(n_components):\n",
    "        column_names.append(f\"pc{n}\")\n",
    "\n",
    "    pca = PCA(n_components=n_components)\n",
    "\n",
    "    X_pca = pca.fit_transform(X_pca)\n",
    "\n",
    "    df_pca = pd.DataFrame(data=X_pca)\n",
    "\n",
    "    df_pca.insert(0, \"target\", y)\n",
    "    df_pca.columns = column_names\n",
    "\n",
    "    score = eval_prep(df_pca, column_names[1:], \"target\")\n",
    "\n",
    "    scores.append({\"components\": n_components, \"score\": score})\n",
    "\n",
    "highscore = 0\n",
    "optimal_components = 0\n",
    "for entry in scores:\n",
    "    if entry[\"score\"] > highscore:\n",
    "        highscore = entry[\"score\"]\n",
    "        optimal_components = entry[\"components\"]\n",
    "    \n",
    "print(f\"PCA with {optimal_components} components yielded optimal score: {highscore}\")\n",
    "\n",
    "score_overview.append({\"score\": highscore, \"desc\": \"Regular PCA\"})"
   ]
  },
  {
   "cell_type": "markdown",
   "metadata": {},
   "source": [
    "Plotting score for each dimensionality"
   ]
  },
  {
   "cell_type": "code",
   "execution_count": 205,
   "metadata": {},
   "outputs": [
    {
     "data": {
      "image/png": "[encoded data removed]",
      "text/plain": [
       "<Figure size 432x288 with 1 Axes>"
      ]
     },
     "metadata": {},
     "output_type": "display_data"
    }
   ],
   "source": [
    "fig, ax = plt.subplots()\n",
    "\n",
    "plt_scores = []\n",
    "plt_comps = []\n",
    "for e in scores:\n",
    "    plt_scores.append(e['score'])\n",
    "    plt_comps.append(e['components'])\n",
    "ax.plot(plt_comps, plt_scores, linewidth=2.0, marker='o')\n",
    "ax.set_xlabel('number of components')\n",
    "ax.set_ylabel('test accuracy of GBC')\n",
    "ax.grid(True)"
   ]
  },
  {
   "cell_type": "markdown",
   "metadata": {},
   "source": [
    "### Standardization after PCA"
   ]
  },
  {
   "cell_type": "code",
   "execution_count": 206,
   "metadata": {},
   "outputs": [
    {
     "name": "stdout",
     "output_type": "stream",
     "text": [
      "PCA with 13 components yielded optimal score: 0.8348281016442451\n"
     ]
    }
   ],
   "source": [
    "scores = []\n",
    "\n",
    "for n_components in range(2,14):\n",
    "\n",
    "    X_pca_s = df[features]\n",
    "    y = df[\"target\"]\n",
    "\n",
    "    # column names\n",
    "    column_names = [\"target\"]\n",
    "    for n in range(n_components):\n",
    "        column_names.append(f\"pc{n}\")\n",
    "\n",
    "    pca = PCA(n_components=n_components)\n",
    "\n",
    "    X_pca_s = pca.fit_transform(X_pca_s)\n",
    "    X_pca_s = StandardScaler().fit_transform(X_pca_s)\n",
    "\n",
    "    df_pca_s = pd.DataFrame(data=X_pca_s)\n",
    "\n",
    "    df_pca_s.insert(0, \"target\", y)\n",
    "    df_pca_s.columns = column_names\n",
    "\n",
    "    score = eval_prep(df_pca_s, column_names[1:], \"target\")\n",
    "\n",
    "    scores.append({\"components\": n_components, \"score\": score})\n",
    "\n",
    "highscore = 0\n",
    "optimal_components = 0\n",
    "for entry in scores:\n",
    "    if entry[\"score\"] > highscore:\n",
    "        highscore = entry[\"score\"]\n",
    "        optimal_components = entry[\"components\"]\n",
    "    \n",
    "print(f\"PCA with {optimal_components} components yielded optimal score: {highscore}\")\n",
    "\n",
    "score_overview.append({\"score\": highscore, \"desc\": \"Standardization after PCA\"})"
   ]
  },
  {
   "cell_type": "markdown",
   "metadata": {},
   "source": [
    "### Standardization before PCA"
   ]
  },
  {
   "cell_type": "code",
   "execution_count": 207,
   "metadata": {},
   "outputs": [
    {
     "name": "stdout",
     "output_type": "stream",
     "text": [
      "PCA with 13 components yielded optimal score: 0.827727952167414\n"
     ]
    }
   ],
   "source": [
    "scores = []\n",
    "\n",
    "for n_components in range(2,14):\n",
    "\n",
    "    X_pca_s = df[features]\n",
    "    y = df[\"target\"]\n",
    "\n",
    "    # column names\n",
    "    column_names = [\"target\"]\n",
    "    for n in range(n_components):\n",
    "        column_names.append(f\"pc{n}\")\n",
    "\n",
    "    pca = PCA(n_components=n_components)\n",
    "\n",
    "    X_pca_s = StandardScaler().fit_transform(X_pca_s)\n",
    "    X_pca_s = pca.fit_transform(X_pca_s)\n",
    "\n",
    "    df_pca_s = pd.DataFrame(data=X_pca_s)\n",
    "    df_pca_s.insert(0, \"target\", y)\n",
    "    df_pca_s.columns = column_names\n",
    "\n",
    "    score = eval_prep(df_pca_s, column_names[1:], \"target\")\n",
    "\n",
    "    scores.append({\"components\": n_components, \"score\": score})\n",
    "\n",
    "highscore = 0\n",
    "optimal_components = 0\n",
    "for entry in scores:\n",
    "    if entry[\"score\"] > highscore:\n",
    "        highscore = entry[\"score\"]\n",
    "        optimal_components = entry[\"components\"]\n",
    "\n",
    "print(f\"PCA with {optimal_components} components yielded optimal score: {highscore}\")\n",
    "\n",
    "score_overview.append({\"score\": highscore, \"desc\": \"Standardization before PCA\"})"
   ]
  },
  {
   "cell_type": "markdown",
   "metadata": {},
   "source": [
    "### Score Overview"
   ]
  },
  {
   "cell_type": "code",
   "execution_count": 208,
   "metadata": {},
   "outputs": [
    {
     "name": "stdout",
     "output_type": "stream",
     "text": [
      "Score overview:\n",
      "Regular Gradient Boosting: 0.8505231689088192\n",
      "Mean Removal: 0.850896860986547\n",
      "Variance Scaling: 0.852017937219731\n",
      "Standardization: 0.8523916292974589\n",
      "Regular PCA: 0.8352017937219731\n",
      "Standardization after PCA: 0.8348281016442451\n",
      "Standardization before PCA: 0.827727952167414\n",
      "\n",
      "Method with highest score: Standardization\n"
     ]
    }
   ],
   "source": [
    "print(\"Score overview:\")\n",
    "highscore = 0\n",
    "best_desc = \"\"\n",
    "for entry in score_overview:\n",
    "    if entry['score'] > highscore:\n",
    "        highscore = entry['score']\n",
    "        best_desc = entry['desc']\n",
    "    print(f\"{entry['desc']}: {entry['score']}\")\n",
    "\n",
    "print(\"\\nMethod with highest score: \" + best_desc)\n"
   ]
  },
  {
   "cell_type": "markdown",
   "metadata": {},
   "source": [
    "The best score was achieved using the standardized dataset (df_s), so this will be used in the modeling stage."
   ]
  },
  {
   "cell_type": "markdown",
   "metadata": {},
   "source": [
    "# Modeling"
   ]
  },
  {
   "cell_type": "markdown",
   "metadata": {},
   "source": [
    "### Basic examination of the standardized dataset"
   ]
  },
  {
   "cell_type": "code",
   "execution_count": 209,
   "metadata": {},
   "outputs": [
    {
     "data": {
      "text/html": [
       "<div>\n",
       "<style scoped>\n",
       "    .dataframe tbody tr th:only-of-type {\n",
       "        vertical-align: middle;\n",
       "    }\n",
       "\n",
       "    .dataframe tbody tr th {\n",
       "        vertical-align: top;\n",
       "    }\n",
       "\n",
       "    .dataframe thead th {\n",
       "        text-align: right;\n",
       "    }\n",
       "</style>\n",
       "<table border=\"1\" class=\"dataframe\">\n",
       "  <thead>\n",
       "    <tr style=\"text-align: right;\">\n",
       "      <th></th>\n",
       "      <th>target</th>\n",
       "      <th>feature_danceability</th>\n",
       "      <th>feature_energy</th>\n",
       "      <th>feature_key</th>\n",
       "      <th>feature_loudness</th>\n",
       "      <th>feature_mode</th>\n",
       "      <th>feature_speechiness</th>\n",
       "      <th>feature_acousticness</th>\n",
       "      <th>feature_instrumentalness</th>\n",
       "      <th>feature_liveness</th>\n",
       "      <th>feature_valence</th>\n",
       "      <th>feature_tempo</th>\n",
       "      <th>feature_duration_ms</th>\n",
       "      <th>feature_time_signature</th>\n",
       "    </tr>\n",
       "  </thead>\n",
       "  <tbody>\n",
       "    <tr>\n",
       "      <th>0</th>\n",
       "      <td>0</td>\n",
       "      <td>0.525952</td>\n",
       "      <td>-0.606845</td>\n",
       "      <td>0.791667</td>\n",
       "      <td>-0.469262</td>\n",
       "      <td>0.790819</td>\n",
       "      <td>-0.001432</td>\n",
       "      <td>-0.677224</td>\n",
       "      <td>-0.560184</td>\n",
       "      <td>-0.743415</td>\n",
       "      <td>-0.387093</td>\n",
       "      <td>1.175112</td>\n",
       "      <td>-0.468065</td>\n",
       "      <td>0.189922</td>\n",
       "    </tr>\n",
       "    <tr>\n",
       "      <th>1</th>\n",
       "      <td>0</td>\n",
       "      <td>1.699036</td>\n",
       "      <td>-0.083920</td>\n",
       "      <td>-0.611631</td>\n",
       "      <td>0.952395</td>\n",
       "      <td>-1.264512</td>\n",
       "      <td>-0.317468</td>\n",
       "      <td>-0.240457</td>\n",
       "      <td>-0.560299</td>\n",
       "      <td>-0.296830</td>\n",
       "      <td>0.235137</td>\n",
       "      <td>0.449933</td>\n",
       "      <td>-0.270797</td>\n",
       "      <td>0.189922</td>\n",
       "    </tr>\n",
       "    <tr>\n",
       "      <th>2</th>\n",
       "      <td>0</td>\n",
       "      <td>1.370572</td>\n",
       "      <td>-0.721633</td>\n",
       "      <td>1.072326</td>\n",
       "      <td>-0.238133</td>\n",
       "      <td>0.790819</td>\n",
       "      <td>0.274363</td>\n",
       "      <td>-0.726820</td>\n",
       "      <td>-0.560296</td>\n",
       "      <td>-0.356059</td>\n",
       "      <td>-0.430006</td>\n",
       "      <td>0.324715</td>\n",
       "      <td>-0.369909</td>\n",
       "      <td>0.189922</td>\n",
       "    </tr>\n",
       "    <tr>\n",
       "      <th>3</th>\n",
       "      <td>0</td>\n",
       "      <td>1.851536</td>\n",
       "      <td>-0.734387</td>\n",
       "      <td>0.511007</td>\n",
       "      <td>-0.547571</td>\n",
       "      <td>0.790819</td>\n",
       "      <td>1.196953</td>\n",
       "      <td>-0.764673</td>\n",
       "      <td>-0.560299</td>\n",
       "      <td>-0.308675</td>\n",
       "      <td>-0.369929</td>\n",
       "      <td>0.218733</td>\n",
       "      <td>-0.403946</td>\n",
       "      <td>0.189922</td>\n",
       "    </tr>\n",
       "    <tr>\n",
       "      <th>4</th>\n",
       "      <td>0</td>\n",
       "      <td>0.731242</td>\n",
       "      <td>-0.113680</td>\n",
       "      <td>-0.892290</td>\n",
       "      <td>0.199446</td>\n",
       "      <td>-1.264512</td>\n",
       "      <td>2.463060</td>\n",
       "      <td>-0.022873</td>\n",
       "      <td>-0.560299</td>\n",
       "      <td>-0.515977</td>\n",
       "      <td>0.913153</td>\n",
       "      <td>0.810510</td>\n",
       "      <td>-0.814428</td>\n",
       "      <td>0.189922</td>\n",
       "    </tr>\n",
       "    <tr>\n",
       "      <th>...</th>\n",
       "      <td>...</td>\n",
       "      <td>...</td>\n",
       "      <td>...</td>\n",
       "      <td>...</td>\n",
       "      <td>...</td>\n",
       "      <td>...</td>\n",
       "      <td>...</td>\n",
       "      <td>...</td>\n",
       "      <td>...</td>\n",
       "      <td>...</td>\n",
       "      <td>...</td>\n",
       "      <td>...</td>\n",
       "      <td>...</td>\n",
       "      <td>...</td>\n",
       "    </tr>\n",
       "    <tr>\n",
       "      <th>13372</th>\n",
       "      <td>2</td>\n",
       "      <td>-0.811363</td>\n",
       "      <td>-2.361830</td>\n",
       "      <td>0.230348</td>\n",
       "      <td>-1.021931</td>\n",
       "      <td>0.790819</td>\n",
       "      <td>-0.472542</td>\n",
       "      <td>2.191359</td>\n",
       "      <td>-0.559652</td>\n",
       "      <td>-0.433056</td>\n",
       "      <td>-1.793333</td>\n",
       "      <td>-0.417819</td>\n",
       "      <td>-0.617773</td>\n",
       "      <td>0.189922</td>\n",
       "    </tr>\n",
       "    <tr>\n",
       "      <th>13373</th>\n",
       "      <td>2</td>\n",
       "      <td>-0.330399</td>\n",
       "      <td>-0.679119</td>\n",
       "      <td>-1.453609</td>\n",
       "      <td>-0.893553</td>\n",
       "      <td>0.790819</td>\n",
       "      <td>-0.653134</td>\n",
       "      <td>-0.655785</td>\n",
       "      <td>2.407617</td>\n",
       "      <td>-0.607781</td>\n",
       "      <td>-0.026629</td>\n",
       "      <td>1.443366</td>\n",
       "      <td>0.176060</td>\n",
       "      <td>0.189922</td>\n",
       "    </tr>\n",
       "    <tr>\n",
       "      <th>13374</th>\n",
       "      <td>2</td>\n",
       "      <td>0.496625</td>\n",
       "      <td>-0.241223</td>\n",
       "      <td>-0.050312</td>\n",
       "      <td>-0.405903</td>\n",
       "      <td>0.790819</td>\n",
       "      <td>0.205660</td>\n",
       "      <td>1.615403</td>\n",
       "      <td>0.160756</td>\n",
       "      <td>-0.545591</td>\n",
       "      <td>0.587018</td>\n",
       "      <td>-1.049158</td>\n",
       "      <td>2.320361</td>\n",
       "      <td>0.189922</td>\n",
       "    </tr>\n",
       "    <tr>\n",
       "      <th>13375</th>\n",
       "      <td>2</td>\n",
       "      <td>-0.570881</td>\n",
       "      <td>-1.869516</td>\n",
       "      <td>-1.453609</td>\n",
       "      <td>-1.220076</td>\n",
       "      <td>0.790819</td>\n",
       "      <td>-0.367524</td>\n",
       "      <td>1.340224</td>\n",
       "      <td>2.484873</td>\n",
       "      <td>-0.504131</td>\n",
       "      <td>-0.296977</td>\n",
       "      <td>1.890556</td>\n",
       "      <td>-1.552755</td>\n",
       "      <td>-2.667886</td>\n",
       "    </tr>\n",
       "    <tr>\n",
       "      <th>13376</th>\n",
       "      <td>2</td>\n",
       "      <td>-1.468290</td>\n",
       "      <td>0.791872</td>\n",
       "      <td>-0.892290</td>\n",
       "      <td>0.028354</td>\n",
       "      <td>0.790819</td>\n",
       "      <td>0.343067</td>\n",
       "      <td>-0.515636</td>\n",
       "      <td>1.438699</td>\n",
       "      <td>-0.332367</td>\n",
       "      <td>-0.460045</td>\n",
       "      <td>-0.250894</td>\n",
       "      <td>5.252090</td>\n",
       "      <td>0.189922</td>\n",
       "    </tr>\n",
       "  </tbody>\n",
       "</table>\n",
       "<p>13377 rows × 14 columns</p>\n",
       "</div>"
      ],
      "text/plain": [
       "       target  feature_danceability  feature_energy  feature_key  \\\n",
       "0           0              0.525952       -0.606845     0.791667   \n",
       "1           0              1.699036       -0.083920    -0.611631   \n",
       "2           0              1.370572       -0.721633     1.072326   \n",
       "3           0              1.851536       -0.734387     0.511007   \n",
       "4           0              0.731242       -0.113680    -0.892290   \n",
       "...       ...                   ...             ...          ...   \n",
       "13372       2             -0.811363       -2.361830     0.230348   \n",
       "13373       2             -0.330399       -0.679119    -1.453609   \n",
       "13374       2              0.496625       -0.241223    -0.050312   \n",
       "13375       2             -0.570881       -1.869516    -1.453609   \n",
       "13376       2             -1.468290        0.791872    -0.892290   \n",
       "\n",
       "       feature_loudness  feature_mode  feature_speechiness  \\\n",
       "0             -0.469262      0.790819            -0.001432   \n",
       "1              0.952395     -1.264512            -0.317468   \n",
       "2             -0.238133      0.790819             0.274363   \n",
       "3             -0.547571      0.790819             1.196953   \n",
       "4              0.199446     -1.264512             2.463060   \n",
       "...                 ...           ...                  ...   \n",
       "13372         -1.021931      0.790819            -0.472542   \n",
       "13373         -0.893553      0.790819            -0.653134   \n",
       "13374         -0.405903      0.790819             0.205660   \n",
       "13375         -1.220076      0.790819            -0.367524   \n",
       "13376          0.028354      0.790819             0.343067   \n",
       "\n",
       "       feature_acousticness  feature_instrumentalness  feature_liveness  \\\n",
       "0                 -0.677224                 -0.560184         -0.743415   \n",
       "1                 -0.240457                 -0.560299         -0.296830   \n",
       "2                 -0.726820                 -0.560296         -0.356059   \n",
       "3                 -0.764673                 -0.560299         -0.308675   \n",
       "4                 -0.022873                 -0.560299         -0.515977   \n",
       "...                     ...                       ...               ...   \n",
       "13372              2.191359                 -0.559652         -0.433056   \n",
       "13373             -0.655785                  2.407617         -0.607781   \n",
       "13374              1.615403                  0.160756         -0.545591   \n",
       "13375              1.340224                  2.484873         -0.504131   \n",
       "13376             -0.515636                  1.438699         -0.332367   \n",
       "\n",
       "       feature_valence  feature_tempo  feature_duration_ms  \\\n",
       "0            -0.387093       1.175112            -0.468065   \n",
       "1             0.235137       0.449933            -0.270797   \n",
       "2            -0.430006       0.324715            -0.369909   \n",
       "3            -0.369929       0.218733            -0.403946   \n",
       "4             0.913153       0.810510            -0.814428   \n",
       "...                ...            ...                  ...   \n",
       "13372        -1.793333      -0.417819            -0.617773   \n",
       "13373        -0.026629       1.443366             0.176060   \n",
       "13374         0.587018      -1.049158             2.320361   \n",
       "13375        -0.296977       1.890556            -1.552755   \n",
       "13376        -0.460045      -0.250894             5.252090   \n",
       "\n",
       "       feature_time_signature  \n",
       "0                    0.189922  \n",
       "1                    0.189922  \n",
       "2                    0.189922  \n",
       "3                    0.189922  \n",
       "4                    0.189922  \n",
       "...                       ...  \n",
       "13372                0.189922  \n",
       "13373                0.189922  \n",
       "13374                0.189922  \n",
       "13375               -2.667886  \n",
       "13376                0.189922  \n",
       "\n",
       "[13377 rows x 14 columns]"
      ]
     },
     "execution_count": 209,
     "metadata": {},
     "output_type": "execute_result"
    }
   ],
   "source": [
    "df_s"
   ]
  },
  {
   "cell_type": "code",
   "execution_count": 210,
   "metadata": {},
   "outputs": [
    {
     "data": {
      "text/html": [
       "<div>\n",
       "<style scoped>\n",
       "    .dataframe tbody tr th:only-of-type {\n",
       "        vertical-align: middle;\n",
       "    }\n",
       "\n",
       "    .dataframe tbody tr th {\n",
       "        vertical-align: top;\n",
       "    }\n",
       "\n",
       "    .dataframe thead th {\n",
       "        text-align: right;\n",
       "    }\n",
       "</style>\n",
       "<table border=\"1\" class=\"dataframe\">\n",
       "  <thead>\n",
       "    <tr style=\"text-align: right;\">\n",
       "      <th></th>\n",
       "      <th>target</th>\n",
       "      <th>feature_danceability</th>\n",
       "      <th>feature_energy</th>\n",
       "      <th>feature_key</th>\n",
       "      <th>feature_loudness</th>\n",
       "      <th>feature_mode</th>\n",
       "      <th>feature_speechiness</th>\n",
       "      <th>feature_acousticness</th>\n",
       "      <th>feature_instrumentalness</th>\n",
       "      <th>feature_liveness</th>\n",
       "      <th>feature_valence</th>\n",
       "      <th>feature_tempo</th>\n",
       "      <th>feature_duration_ms</th>\n",
       "      <th>feature_time_signature</th>\n",
       "    </tr>\n",
       "  </thead>\n",
       "  <tbody>\n",
       "    <tr>\n",
       "      <th>count</th>\n",
       "      <td>13377.000000</td>\n",
       "      <td>1.337700e+04</td>\n",
       "      <td>1.337700e+04</td>\n",
       "      <td>1.337700e+04</td>\n",
       "      <td>1.337700e+04</td>\n",
       "      <td>1.337700e+04</td>\n",
       "      <td>1.337700e+04</td>\n",
       "      <td>13377.000000</td>\n",
       "      <td>1.337700e+04</td>\n",
       "      <td>1.337700e+04</td>\n",
       "      <td>1.337700e+04</td>\n",
       "      <td>1.337700e+04</td>\n",
       "      <td>1.337700e+04</td>\n",
       "      <td>1.337700e+04</td>\n",
       "    </tr>\n",
       "    <tr>\n",
       "      <th>mean</th>\n",
       "      <td>1.055095</td>\n",
       "      <td>-5.269181e-16</td>\n",
       "      <td>6.119049e-16</td>\n",
       "      <td>-1.699736e-17</td>\n",
       "      <td>-1.359789e-16</td>\n",
       "      <td>-2.124670e-18</td>\n",
       "      <td>-1.359789e-16</td>\n",
       "      <td>0.000000</td>\n",
       "      <td>6.798944e-17</td>\n",
       "      <td>-6.374010e-18</td>\n",
       "      <td>-3.399472e-17</td>\n",
       "      <td>-1.784723e-16</td>\n",
       "      <td>1.189815e-16</td>\n",
       "      <td>-1.019842e-16</td>\n",
       "    </tr>\n",
       "    <tr>\n",
       "      <th>std</th>\n",
       "      <td>0.674444</td>\n",
       "      <td>1.000037e+00</td>\n",
       "      <td>1.000037e+00</td>\n",
       "      <td>1.000037e+00</td>\n",
       "      <td>1.000037e+00</td>\n",
       "      <td>1.000037e+00</td>\n",
       "      <td>1.000037e+00</td>\n",
       "      <td>1.000037</td>\n",
       "      <td>1.000037e+00</td>\n",
       "      <td>1.000037e+00</td>\n",
       "      <td>1.000037e+00</td>\n",
       "      <td>1.000037e+00</td>\n",
       "      <td>1.000037e+00</td>\n",
       "      <td>1.000037e+00</td>\n",
       "    </tr>\n",
       "    <tr>\n",
       "      <th>min</th>\n",
       "      <td>0.000000</td>\n",
       "      <td>-2.805019e+00</td>\n",
       "      <td>-2.760061e+00</td>\n",
       "      <td>-1.453609e+00</td>\n",
       "      <td>-5.649022e+00</td>\n",
       "      <td>-1.264512e+00</td>\n",
       "      <td>-7.228188e-01</td>\n",
       "      <td>-0.787612</td>\n",
       "      <td>-5.602992e-01</td>\n",
       "      <td>-1.098789e+00</td>\n",
       "      <td>-2.015620e+00</td>\n",
       "      <td>-2.826733e+00</td>\n",
       "      <td>-2.052770e+00</td>\n",
       "      <td>-8.383503e+00</td>\n",
       "    </tr>\n",
       "    <tr>\n",
       "      <th>25%</th>\n",
       "      <td>1.000000</td>\n",
       "      <td>-7.116513e-01</td>\n",
       "      <td>-6.195990e-01</td>\n",
       "      <td>-8.922902e-01</td>\n",
       "      <td>-4.571599e-01</td>\n",
       "      <td>-1.264512e+00</td>\n",
       "      <td>-5.844304e-01</td>\n",
       "      <td>-0.765761</td>\n",
       "      <td>-5.602992e-01</td>\n",
       "      <td>-6.012662e-01</td>\n",
       "      <td>-7.904702e-01</td>\n",
       "      <td>-8.080589e-01</td>\n",
       "      <td>-5.583408e-01</td>\n",
       "      <td>1.899224e-01</td>\n",
       "    </tr>\n",
       "    <tr>\n",
       "      <th>50%</th>\n",
       "      <td>1.000000</td>\n",
       "      <td>-4.885906e-02</td>\n",
       "      <td>1.541591e-01</td>\n",
       "      <td>-5.031183e-02</td>\n",
       "      <td>2.248371e-01</td>\n",
       "      <td>7.908191e-01</td>\n",
       "      <td>-4.391716e-01</td>\n",
       "      <td>-0.526515</td>\n",
       "      <td>-5.588410e-01</td>\n",
       "      <td>-4.152875e-01</td>\n",
       "      <td>-1.804667e-02</td>\n",
       "      <td>-7.793114e-02</td>\n",
       "      <td>-1.942868e-01</td>\n",
       "      <td>1.899224e-01</td>\n",
       "    </tr>\n",
       "    <tr>\n",
       "      <th>75%</th>\n",
       "      <td>2.000000</td>\n",
       "      <td>7.077799e-01</td>\n",
       "      <td>8.258832e-01</td>\n",
       "      <td>7.916665e-01</td>\n",
       "      <td>7.034689e-01</td>\n",
       "      <td>7.908191e-01</td>\n",
       "      <td>4.862320e-02</td>\n",
       "      <td>0.527485</td>\n",
       "      <td>-2.272643e-02</td>\n",
       "      <td>3.132278e-01</td>\n",
       "      <td>7.758331e-01</td>\n",
       "      <td>7.131066e-01</td>\n",
       "      <td>2.929470e-01</td>\n",
       "      <td>1.899224e-01</td>\n",
       "    </tr>\n",
       "    <tr>\n",
       "      <th>max</th>\n",
       "      <td>2.000000</td>\n",
       "      <td>2.473271e+00</td>\n",
       "      <td>1.480602e+00</td>\n",
       "      <td>1.633645e+00</td>\n",
       "      <td>2.443819e+00</td>\n",
       "      <td>7.908191e-01</td>\n",
       "      <td>7.910265e+00</td>\n",
       "      <td>2.399344</td>\n",
       "      <td>2.623290e+00</td>\n",
       "      <td>4.725779e+00</td>\n",
       "      <td>2.101827e+00</td>\n",
       "      <td>3.226484e+00</td>\n",
       "      <td>2.161469e+01</td>\n",
       "      <td>3.047731e+00</td>\n",
       "    </tr>\n",
       "  </tbody>\n",
       "</table>\n",
       "</div>"
      ],
      "text/plain": [
       "             target  feature_danceability  feature_energy   feature_key  \\\n",
       "count  13377.000000          1.337700e+04    1.337700e+04  1.337700e+04   \n",
       "mean       1.055095         -5.269181e-16    6.119049e-16 -1.699736e-17   \n",
       "std        0.674444          1.000037e+00    1.000037e+00  1.000037e+00   \n",
       "min        0.000000         -2.805019e+00   -2.760061e+00 -1.453609e+00   \n",
       "25%        1.000000         -7.116513e-01   -6.195990e-01 -8.922902e-01   \n",
       "50%        1.000000         -4.885906e-02    1.541591e-01 -5.031183e-02   \n",
       "75%        2.000000          7.077799e-01    8.258832e-01  7.916665e-01   \n",
       "max        2.000000          2.473271e+00    1.480602e+00  1.633645e+00   \n",
       "\n",
       "       feature_loudness  feature_mode  feature_speechiness  \\\n",
       "count      1.337700e+04  1.337700e+04         1.337700e+04   \n",
       "mean      -1.359789e-16 -2.124670e-18        -1.359789e-16   \n",
       "std        1.000037e+00  1.000037e+00         1.000037e+00   \n",
       "min       -5.649022e+00 -1.264512e+00        -7.228188e-01   \n",
       "25%       -4.571599e-01 -1.264512e+00        -5.844304e-01   \n",
       "50%        2.248371e-01  7.908191e-01        -4.391716e-01   \n",
       "75%        7.034689e-01  7.908191e-01         4.862320e-02   \n",
       "max        2.443819e+00  7.908191e-01         7.910265e+00   \n",
       "\n",
       "       feature_acousticness  feature_instrumentalness  feature_liveness  \\\n",
       "count          13377.000000              1.337700e+04      1.337700e+04   \n",
       "mean               0.000000              6.798944e-17     -6.374010e-18   \n",
       "std                1.000037              1.000037e+00      1.000037e+00   \n",
       "min               -0.787612             -5.602992e-01     -1.098789e+00   \n",
       "25%               -0.765761             -5.602992e-01     -6.012662e-01   \n",
       "50%               -0.526515             -5.588410e-01     -4.152875e-01   \n",
       "75%                0.527485             -2.272643e-02      3.132278e-01   \n",
       "max                2.399344              2.623290e+00      4.725779e+00   \n",
       "\n",
       "       feature_valence  feature_tempo  feature_duration_ms  \\\n",
       "count     1.337700e+04   1.337700e+04         1.337700e+04   \n",
       "mean     -3.399472e-17  -1.784723e-16         1.189815e-16   \n",
       "std       1.000037e+00   1.000037e+00         1.000037e+00   \n",
       "min      -2.015620e+00  -2.826733e+00        -2.052770e+00   \n",
       "25%      -7.904702e-01  -8.080589e-01        -5.583408e-01   \n",
       "50%      -1.804667e-02  -7.793114e-02        -1.942868e-01   \n",
       "75%       7.758331e-01   7.131066e-01         2.929470e-01   \n",
       "max       2.101827e+00   3.226484e+00         2.161469e+01   \n",
       "\n",
       "       feature_time_signature  \n",
       "count            1.337700e+04  \n",
       "mean            -1.019842e-16  \n",
       "std              1.000037e+00  \n",
       "min             -8.383503e+00  \n",
       "25%              1.899224e-01  \n",
       "50%              1.899224e-01  \n",
       "75%              1.899224e-01  \n",
       "max              3.047731e+00  "
      ]
     },
     "execution_count": 210,
     "metadata": {},
     "output_type": "execute_result"
    }
   ],
   "source": [
    "df_s.describe()"
   ]
  },
  {
   "cell_type": "markdown",
   "metadata": {},
   "source": [
    "## Decision Tree Classifier for Comparison"
   ]
  },
  {
   "cell_type": "markdown",
   "metadata": {},
   "source": [
    "### Preparation"
   ]
  },
  {
   "cell_type": "markdown",
   "metadata": {},
   "source": [
    "Splitting and shuffling the dataset"
   ]
  },
  {
   "cell_type": "code",
   "execution_count": 211,
   "metadata": {},
   "outputs": [],
   "source": [
    "train, test = train_test_split(df_s, test_size=0.2, random_state=45, shuffle=True)"
   ]
  },
  {
   "cell_type": "markdown",
   "metadata": {},
   "source": [
    "Seperating labels and features"
   ]
  },
  {
   "cell_type": "code",
   "execution_count": 212,
   "metadata": {},
   "outputs": [],
   "source": [
    "X_train = train[features]\n",
    "X_test = test[features]\n",
    "\n",
    "y_train = train[\"target\"]\n",
    "y_test = test[\"target\"]"
   ]
  },
  {
   "cell_type": "markdown",
   "metadata": {},
   "source": [
    "### Hyperparameter Tuning"
   ]
  },
  {
   "cell_type": "code",
   "execution_count": 213,
   "metadata": {},
   "outputs": [],
   "source": [
    "dt = DecisionTreeClassifier(random_state=45)\n",
    "\n",
    "param_grid = {\n",
    "    \"criterion\": [\"gini\", \"entropy\"],\n",
    "    \"splitter\": [\"best\", \"random\"],\n",
    "    \"max_depth\": [30, 50, 75, None],\n",
    "    \"min_samples_split\": [2, 5, 10, 15, 20],\n",
    "    \"min_samples_leaf\": [1, 3, 5, 10],\n",
    "    \"min_samples_leaf\": [1],\n",
    "    \"max_features\": [\"auto\", \"sqrt\", \"log2\"],\n",
    "    \"random_state\": [42],\n",
    "    \"max_features\": [None]\n",
    "}\n",
    "\n",
    "# Grid search object\n",
    "search_dt = GridSearchCV(dt, param_grid, n_jobs=-1, cv=5)\n",
    "\n",
    "# Fitting model\n",
    "search_dt.fit(X_train, y_train)\n",
    "\n",
    "score_dt = search_dt.score(X_test, y_test)\n"
   ]
  },
  {
   "cell_type": "markdown",
   "metadata": {},
   "source": [
    "## Validation Curves"
   ]
  },
  {
   "cell_type": "markdown",
   "metadata": {},
   "source": [
    "### Function to create validation curves\n",
    "This takes the hyperparameter that should be modulated and\n",
    "a range to use for plotting."
   ]
  },
  {
   "cell_type": "code",
   "execution_count": 214,
   "metadata": {},
   "outputs": [],
   "source": [
    "def val_curve(param_name, param_range):\n",
    "\n",
    "    X = df_s[features]\n",
    "    y = df_s[\"target\"]\n",
    "\n",
    "    gbc = GradientBoostingClassifier(random_state=45)\n",
    "    train_scores, test_scores = validation_curve(gbc, X, y,\n",
    "        param_name=param_name,\n",
    "        param_range=param_range,\n",
    "        n_jobs=-1)\n",
    "\n",
    "    train_scores_mean = np.mean(train_scores, axis=1)\n",
    "    train_scores_std = np.std(train_scores, axis=1)\n",
    "    test_scores_mean = np.mean(test_scores, axis=1)\n",
    "    test_scores_std = np.std(test_scores, axis=1)\n",
    "\n",
    "    #plt.title(\"Validation Curve with Gradient Boosting Classifier\")\n",
    "    plt.xlabel(\"learning_rate\")\n",
    "    plt.ylabel(\"accuracy\")\n",
    "    #plt.ylim(0.0, 1.1)\n",
    "    lw = 2\n",
    "    plt.plot(\n",
    "        param_range, train_scores_mean, label=\"Training score\", color=\"darkorange\", lw=lw\n",
    "    )\n",
    "    plt.fill_between(\n",
    "        param_range,\n",
    "        train_scores_mean - train_scores_std,\n",
    "        train_scores_mean + train_scores_std,\n",
    "        alpha=0.2,\n",
    "        color=\"darkorange\",\n",
    "        lw=lw,\n",
    "    )\n",
    "    plt.plot(\n",
    "        param_range, test_scores_mean, label=\"Cross-validation score\", color=\"navy\", lw=lw\n",
    "    )\n",
    "    plt.fill_between(\n",
    "        param_range,\n",
    "        test_scores_mean - test_scores_std,\n",
    "        test_scores_mean + test_scores_std,\n",
    "        alpha=0.2,\n",
    "        color=\"navy\",\n",
    "        lw=lw,\n",
    "    )\n",
    "    plt.legend(loc=\"best\")\n",
    "    plt.figure(dpi=200)\n",
    "    plt.show()"
   ]
  },
  {
   "cell_type": "markdown",
   "metadata": {},
   "source": [
    "### Validation curve learning_rate"
   ]
  },
  {
   "cell_type": "code",
   "execution_count": 215,
   "metadata": {},
   "outputs": [
    {
     "data": {
      "image/png": "[encoded data removed]",
      "text/plain": [
       "<Figure size 432x288 with 1 Axes>"
      ]
     },
     "metadata": {},
     "output_type": "display_data"
    },
    {
     "data": {
      "text/plain": [
       "<Figure size 1200x800 with 0 Axes>"
      ]
     },
     "metadata": {},
     "output_type": "display_data"
    }
   ],
   "source": [
    "val_curve(\"learning_rate\", np.linspace(0.01,0.99,50))"
   ]
  },
  {
   "cell_type": "markdown",
   "metadata": {},
   "source": [
    "### Validation curve n_estimators"
   ]
  },
  {
   "cell_type": "code",
   "execution_count": 216,
   "metadata": {},
   "outputs": [
    {
     "data": {
      "image/png": "[encoded data removed]",
      "text/plain": [
       "<Figure size 432x288 with 1 Axes>"
      ]
     },
     "metadata": {},
     "output_type": "display_data"
    },
    {
     "data": {
      "text/plain": [
       "<Figure size 1200x800 with 0 Axes>"
      ]
     },
     "metadata": {},
     "output_type": "display_data"
    }
   ],
   "source": [
    "val_curve(\"n_estimators\", range(1,199,4))"
   ]
  },
  {
   "cell_type": "markdown",
   "metadata": {},
   "source": [
    "### Validation curve max_depth"
   ]
  },
  {
   "cell_type": "code",
   "execution_count": 217,
   "metadata": {},
   "outputs": [
    {
     "data": {
      "image/png": "[encoded data removed]",
      "text/plain": [
       "<Figure size 432x288 with 1 Axes>"
      ]
     },
     "metadata": {},
     "output_type": "display_data"
    },
    {
     "data": {
      "text/plain": [
       "<Figure size 1200x800 with 0 Axes>"
      ]
     },
     "metadata": {},
     "output_type": "display_data"
    }
   ],
   "source": [
    "val_curve(\"max_depth\", range(1,20,1))"
   ]
  },
  {
   "cell_type": "markdown",
   "metadata": {},
   "source": [
    "## Gradient Boosting Classifier"
   ]
  },
  {
   "cell_type": "markdown",
   "metadata": {},
   "source": [
    "### Preparation"
   ]
  },
  {
   "cell_type": "markdown",
   "metadata": {},
   "source": [
    "Splitting and shuffling the dataset"
   ]
  },
  {
   "cell_type": "code",
   "execution_count": 218,
   "metadata": {},
   "outputs": [],
   "source": [
    "train, test = train_test_split(df_s, test_size=0.2, random_state=45, shuffle=True)"
   ]
  },
  {
   "cell_type": "markdown",
   "metadata": {},
   "source": [
    "Seperating labels and features"
   ]
  },
  {
   "cell_type": "code",
   "execution_count": 219,
   "metadata": {},
   "outputs": [],
   "source": [
    "X_train = train[features]\n",
    "X_test = test[features]\n",
    "\n",
    "y_train = train[\"target\"]\n",
    "y_test = test[\"target\"]"
   ]
  },
  {
   "cell_type": "markdown",
   "metadata": {},
   "source": [
    "### Hyperparameter Tuning"
   ]
  },
  {
   "cell_type": "markdown",
   "metadata": {},
   "source": [
    "Specifying parameter ranges for hyperparameter tuning"
   ]
  },
  {
   "cell_type": "code",
   "execution_count": 220,
   "metadata": {},
   "outputs": [
    {
     "name": "stdout",
     "output_type": "stream",
     "text": [
      "Values for learning_rate in grid search:\n",
      "[0.01 0.04 0.07 0.1  0.13 0.16 0.19 0.22 0.25]\n",
      "Values for n_estimators in grid search:\n",
      "[ 50  75 100 125 150 175 200]\n",
      "Values for max_depth in grid search:\n",
      "[2 3 4 5 6]\n"
     ]
    }
   ],
   "source": [
    "learning_rate_values = np.linspace(0.01,0.25,9).round(2)\n",
    "n_estimators_values = np.linspace(50,200,7).astype(int)\n",
    "max_depth_values = np.linspace(2,6,5).astype(int)\n",
    "\n",
    "param_grid = {\n",
    "    \"n_estimators\": n_estimators_values,\n",
    "    \"learning_rate\": learning_rate_values,\n",
    "    \"max_depth\": max_depth_values\n",
    "}\n",
    "\n",
    "print(\"Values for learning_rate in grid search:\")\n",
    "print(learning_rate_values)\n",
    "print(\"Values for n_estimators in grid search:\")\n",
    "print(n_estimators_values)\n",
    "print(\"Values for max_depth in grid search:\")\n",
    "print(max_depth_values)"
   ]
  },
  {
   "cell_type": "markdown",
   "metadata": {},
   "source": [
    "Creating the Classifier and Grid Search objects"
   ]
  },
  {
   "cell_type": "code",
   "execution_count": 221,
   "metadata": {},
   "outputs": [],
   "source": [
    "gbc = GradientBoostingClassifier(random_state=45)\n",
    "\n",
    "search = GridSearchCV(gbc, param_grid,\n",
    "    n_jobs=-1,\n",
    "    error_score=\"raise\",\n",
    "    verbose=1)"
   ]
  },
  {
   "cell_type": "markdown",
   "metadata": {},
   "source": [
    "Fitting the first Grid Search model on the training data and calculating an accuracy score using the test set"
   ]
  },
  {
   "cell_type": "code",
   "execution_count": 222,
   "metadata": {},
   "outputs": [
    {
     "name": "stdout",
     "output_type": "stream",
     "text": [
      "Fitting 5 folds for each of 315 candidates, totalling 1575 fits\n",
      "Accuracy score:\n",
      "0.859118086696562\n"
     ]
    }
   ],
   "source": [
    "search.fit(X_train, y_train)\n",
    "\n",
    "print(\"Accuracy score:\")\n",
    "print(search.score(X_test, y_test))"
   ]
  },
  {
   "cell_type": "markdown",
   "metadata": {},
   "source": [
    "Parameters found through Grid Search"
   ]
  },
  {
   "cell_type": "code",
   "execution_count": 223,
   "metadata": {},
   "outputs": [
    {
     "data": {
      "text/plain": [
       "{'cv': None,\n",
       " 'error_score': 'raise',\n",
       " 'estimator__ccp_alpha': 0.0,\n",
       " 'estimator__criterion': 'friedman_mse',\n",
       " 'estimator__init': None,\n",
       " 'estimator__learning_rate': 0.1,\n",
       " 'estimator__loss': 'deviance',\n",
       " 'estimator__max_depth': 3,\n",
       " 'estimator__max_features': None,\n",
       " 'estimator__max_leaf_nodes': None,\n",
       " 'estimator__min_impurity_decrease': 0.0,\n",
       " 'estimator__min_samples_leaf': 1,\n",
       " 'estimator__min_samples_split': 2,\n",
       " 'estimator__min_weight_fraction_leaf': 0.0,\n",
       " 'estimator__n_estimators': 100,\n",
       " 'estimator__n_iter_no_change': None,\n",
       " 'estimator__random_state': 45,\n",
       " 'estimator__subsample': 1.0,\n",
       " 'estimator__tol': 0.0001,\n",
       " 'estimator__validation_fraction': 0.1,\n",
       " 'estimator__verbose': 0,\n",
       " 'estimator__warm_start': False,\n",
       " 'estimator': GradientBoostingClassifier(random_state=45),\n",
       " 'n_jobs': -1,\n",
       " 'param_grid': {'n_estimators': array([ 50,  75, 100, 125, 150, 175, 200]),\n",
       "  'learning_rate': array([0.01, 0.04, 0.07, 0.1 , 0.13, 0.16, 0.19, 0.22, 0.25]),\n",
       "  'max_depth': array([2, 3, 4, 5, 6])},\n",
       " 'pre_dispatch': '2*n_jobs',\n",
       " 'refit': True,\n",
       " 'return_train_score': False,\n",
       " 'scoring': None,\n",
       " 'verbose': 1}"
      ]
     },
     "execution_count": 223,
     "metadata": {},
     "output_type": "execute_result"
    }
   ],
   "source": [
    "search.get_params()"
   ]
  },
  {
   "cell_type": "markdown",
   "metadata": {},
   "source": [
    "Fitting the second Grid Search Model\n",
    "This model uses a tighter range for the n_estimators parameter to try and further optimize the results"
   ]
  },
  {
   "cell_type": "code",
   "execution_count": 236,
   "metadata": {},
   "outputs": [
    {
     "name": "stdout",
     "output_type": "stream",
     "text": [
      "Fitting 5 folds for each of 315 candidates, totalling 1575 fits\n",
      "Accuracy score:\n",
      "0.8568759342301944\n"
     ]
    }
   ],
   "source": [
    "param_grid_2 = {\n",
    "    \"n_estimators\": [97,98,99,100,101,102,103],\n",
    "    \"learning_rate\": learning_rate_values,\n",
    "    \"max_depth\": max_depth_values\n",
    "}\n",
    "\n",
    "gbc2 = GradientBoostingClassifier(random_state=45)\n",
    "\n",
    "search2 = GridSearchCV(gbc2, param_grid_2,\n",
    "    n_jobs=-1,\n",
    "    error_score=\"raise\",\n",
    "    verbose=1)\n",
    "\n",
    "search2.fit(X_train, y_train)\n",
    "\n",
    "print(\"Accuracy score:\")\n",
    "score_gb = search2.score(X_test, y_test)\n",
    "print(score_gb)"
   ]
  },
  {
   "cell_type": "markdown",
   "metadata": {},
   "source": [
    "Parameters of the final model"
   ]
  },
  {
   "cell_type": "code",
   "execution_count": 237,
   "metadata": {},
   "outputs": [
    {
     "data": {
      "text/plain": [
       "{'cv': None,\n",
       " 'error_score': 'raise',\n",
       " 'estimator__ccp_alpha': 0.0,\n",
       " 'estimator__criterion': 'friedman_mse',\n",
       " 'estimator__init': None,\n",
       " 'estimator__learning_rate': 0.1,\n",
       " 'estimator__loss': 'deviance',\n",
       " 'estimator__max_depth': 3,\n",
       " 'estimator__max_features': None,\n",
       " 'estimator__max_leaf_nodes': None,\n",
       " 'estimator__min_impurity_decrease': 0.0,\n",
       " 'estimator__min_samples_leaf': 1,\n",
       " 'estimator__min_samples_split': 2,\n",
       " 'estimator__min_weight_fraction_leaf': 0.0,\n",
       " 'estimator__n_estimators': 100,\n",
       " 'estimator__n_iter_no_change': None,\n",
       " 'estimator__random_state': 45,\n",
       " 'estimator__subsample': 1.0,\n",
       " 'estimator__tol': 0.0001,\n",
       " 'estimator__validation_fraction': 0.1,\n",
       " 'estimator__verbose': 0,\n",
       " 'estimator__warm_start': False,\n",
       " 'estimator': GradientBoostingClassifier(random_state=45),\n",
       " 'n_jobs': -1,\n",
       " 'param_grid': {'n_estimators': [97, 98, 99, 100, 101, 102, 103],\n",
       "  'learning_rate': array([0.01, 0.04, 0.07, 0.1 , 0.13, 0.16, 0.19, 0.22, 0.25]),\n",
       "  'max_depth': array([2, 3, 4, 5, 6])},\n",
       " 'pre_dispatch': '2*n_jobs',\n",
       " 'refit': True,\n",
       " 'return_train_score': False,\n",
       " 'scoring': None,\n",
       " 'verbose': 1}"
      ]
     },
     "execution_count": 237,
     "metadata": {},
     "output_type": "execute_result"
    }
   ],
   "source": [
    "search2.get_params()"
   ]
  },
  {
   "cell_type": "markdown",
   "metadata": {},
   "source": [
    "# Evaluation\n",
    "\n",
    "General sources for evaluation:  \n",
    "https://www.kaggle.com/vikumsw/guide-for-comprehensive-data-exploration-in-python/notebook  \n",
    "https://www.kaggle.com/pmarcelino/comprehensive-data-exploration-with-python  "
   ]
  },
  {
   "cell_type": "markdown",
   "metadata": {},
   "source": [
    "## Evaluating the Decision Tree"
   ]
  },
  {
   "cell_type": "markdown",
   "metadata": {},
   "source": [
    "### Classification Report"
   ]
  },
  {
   "cell_type": "code",
   "execution_count": 238,
   "metadata": {},
   "outputs": [
    {
     "name": "stdout",
     "output_type": "stream",
     "text": [
      "              precision    recall  f1-score   support\n",
      "\n",
      "           0       0.77      0.78      0.78       525\n",
      "           1       0.85      0.85      0.85      1470\n",
      "           2       0.74      0.73      0.74       681\n",
      "\n",
      "    accuracy                           0.81      2676\n",
      "   macro avg       0.79      0.79      0.79      2676\n",
      "weighted avg       0.81      0.81      0.81      2676\n",
      "\n"
     ]
    }
   ],
   "source": [
    "print(classification_report(y_test,search_dt.predict(X_test)))"
   ]
  },
  {
   "cell_type": "markdown",
   "metadata": {},
   "source": [
    "### Confusion Matrix"
   ]
  },
  {
   "cell_type": "code",
   "execution_count": 239,
   "metadata": {},
   "outputs": [
    {
     "data": {
      "text/html": [
       "<div>\n",
       "<style scoped>\n",
       "    .dataframe tbody tr th:only-of-type {\n",
       "        vertical-align: middle;\n",
       "    }\n",
       "\n",
       "    .dataframe tbody tr th {\n",
       "        vertical-align: top;\n",
       "    }\n",
       "\n",
       "    .dataframe thead th {\n",
       "        text-align: right;\n",
       "    }\n",
       "</style>\n",
       "<table border=\"1\" class=\"dataframe\">\n",
       "  <thead>\n",
       "    <tr style=\"text-align: right;\">\n",
       "      <th>Predicted</th>\n",
       "      <th>0</th>\n",
       "      <th>1</th>\n",
       "      <th>2</th>\n",
       "      <th>All</th>\n",
       "    </tr>\n",
       "    <tr>\n",
       "      <th>Actual</th>\n",
       "      <th></th>\n",
       "      <th></th>\n",
       "      <th></th>\n",
       "      <th></th>\n",
       "    </tr>\n",
       "  </thead>\n",
       "  <tbody>\n",
       "    <tr>\n",
       "      <th>0</th>\n",
       "      <td>408</td>\n",
       "      <td>84</td>\n",
       "      <td>33</td>\n",
       "      <td>525</td>\n",
       "    </tr>\n",
       "    <tr>\n",
       "      <th>1</th>\n",
       "      <td>77</td>\n",
       "      <td>1252</td>\n",
       "      <td>141</td>\n",
       "      <td>1470</td>\n",
       "    </tr>\n",
       "    <tr>\n",
       "      <th>2</th>\n",
       "      <td>42</td>\n",
       "      <td>139</td>\n",
       "      <td>500</td>\n",
       "      <td>681</td>\n",
       "    </tr>\n",
       "    <tr>\n",
       "      <th>All</th>\n",
       "      <td>527</td>\n",
       "      <td>1475</td>\n",
       "      <td>674</td>\n",
       "      <td>2676</td>\n",
       "    </tr>\n",
       "  </tbody>\n",
       "</table>\n",
       "</div>"
      ],
      "text/plain": [
       "Predicted    0     1    2   All\n",
       "Actual                         \n",
       "0          408    84   33   525\n",
       "1           77  1252  141  1470\n",
       "2           42   139  500   681\n",
       "All        527  1475  674  2676"
      ]
     },
     "execution_count": 239,
     "metadata": {},
     "output_type": "execute_result"
    }
   ],
   "source": [
    "df_confusion_dt = pd.crosstab(y_test, search_dt.predict(X_test), rownames=['Actual'], colnames=['Predicted'], margins=True)\n",
    "df_confusion_dt"
   ]
  },
  {
   "cell_type": "markdown",
   "metadata": {},
   "source": [
    "### Feature Importance\n",
    "Source: https://scikit-learn.org/stable/auto_examples/ensemble/plot_forest_importances.html"
   ]
  },
  {
   "cell_type": "code",
   "execution_count": 240,
   "metadata": {},
   "outputs": [
    {
     "data": {
      "image/png": "[encoded data removed]",
      "text/plain": [
       "<Figure size 640x480 with 1 Axes>"
      ]
     },
     "metadata": {},
     "output_type": "display_data"
    }
   ],
   "source": [
    "plt.style.use(\"default\")\n",
    "f = {'features' : features}\n",
    "feature_importance = pd.DataFrame(f)\n",
    "feature_importance['importance'] = search_dt.best_estimator_.feature_importances_\n",
    "sns.set_theme(style=\"whitegrid\")\n",
    "ax = sns.barplot(x=\"importance\", y=\"features\", data=feature_importance)"
   ]
  },
  {
   "cell_type": "markdown",
   "metadata": {},
   "source": [
    "### ROC\n",
    "Source: https://scikit-learn.org/stable/modules/generated/sklearn.metrics.roc_curve.html"
   ]
  },
  {
   "cell_type": "code",
   "execution_count": 241,
   "metadata": {},
   "outputs": [
    {
     "data": {
      "text/plain": [
       "<Figure size 640x480 with 0 Axes>"
      ]
     },
     "metadata": {},
     "output_type": "display_data"
    },
    {
     "data": {
      "image/png": "[encoded data removed]",
      "text/plain": [
       "<Figure size 640x480 with 1 Axes>"
      ]
     },
     "metadata": {},
     "output_type": "display_data"
    }
   ],
   "source": [
    "y = label_binarize(y_test, classes=[0, 1, 2])\n",
    "n_classes = y.shape[1]\n",
    "\n",
    "# create x_score \n",
    "y_test_new = []\n",
    "\n",
    "for i in y_test:\n",
    "    if i == 0:\n",
    "        y_test_new.append([1, 0, 0])\n",
    "    elif i == 1: \n",
    "        y_test_new.append([0, 1, 0])\n",
    "    elif i == 2: \n",
    "        y_test_new.append([0, 0, 1])\n",
    "\n",
    "# test input\n",
    "y_test_np = np.asarray(y_test_new)\n",
    "\n",
    "# score input\n",
    "y_score = search_dt.predict_proba(X_test)\n",
    "\n",
    "# Compute ROC curve and ROC area for each class\n",
    "fpr = dict()\n",
    "tpr = dict()\n",
    "roc_auc = dict()\n",
    "\n",
    "for i in range(n_classes):\n",
    "    fpr[i], tpr[i], _ = roc_curve(y_test_np[:, i], y_score[:, i])\n",
    "    roc_auc[i] = auc(fpr[i], tpr[i])\n",
    "\n",
    "# Compute micro-average ROC curve and ROC area\n",
    "fpr[\"micro\"], tpr[\"micro\"], _ = roc_curve(y_test_np.ravel(), y_score.ravel())\n",
    "roc_auc[\"micro\"] = auc(fpr[\"micro\"], tpr[\"micro\"])\n",
    "\n",
    "plt.figure()\n",
    "\n",
    "lw = 2\n",
    "# First aggregate all false positive rates\n",
    "all_fpr = np.unique(np.concatenate([fpr[i] for i in range(n_classes)]))\n",
    "\n",
    "# Then interpolate all ROC curves at this points\n",
    "mean_tpr = np.zeros_like(all_fpr)\n",
    "for i in range(n_classes):\n",
    "    mean_tpr += np.interp(all_fpr, fpr[i], tpr[i])\n",
    "\n",
    "# Finally average it and compute AUC\n",
    "mean_tpr /= n_classes\n",
    "\n",
    "fpr[\"macro\"] = all_fpr\n",
    "tpr[\"macro\"] = mean_tpr\n",
    "roc_auc[\"macro\"] = auc(fpr[\"macro\"], tpr[\"macro\"])\n",
    "\n",
    "# Plot all ROC curves\n",
    "plt.figure()\n",
    "plt.plot(\n",
    "    fpr[\"micro\"],\n",
    "    tpr[\"micro\"],\n",
    "    label=\"micro-average ROC curve (area = {0:0.2f})\".format(roc_auc[\"micro\"]),\n",
    "    color=\"deeppink\",\n",
    "    linestyle=\":\",\n",
    "    linewidth=4,\n",
    ")\n",
    "\n",
    "plt.plot(\n",
    "    fpr[\"macro\"],\n",
    "    tpr[\"macro\"],\n",
    "    label=\"macro-average ROC curve (area = {0:0.2f})\".format(roc_auc[\"macro\"]),\n",
    "    color=\"navy\",\n",
    "    linestyle=\":\",\n",
    "    linewidth=4,\n",
    ")\n",
    "\n",
    "colors = cycle([\"aqua\", \"darkorange\", \"cornflowerblue\"])\n",
    "for i, color in zip(range(n_classes), colors):\n",
    "    if i == 0:\n",
    "        cat = 'hiphop' \n",
    "    elif i == 1: \n",
    "        cat = 'rock'\n",
    "    elif i == 2: \n",
    "        cat = 'jazz'\n",
    "\n",
    "    plt.plot(\n",
    "        fpr[i],\n",
    "        tpr[i],\n",
    "        color=color,\n",
    "        lw=lw,\n",
    "        label=\"ROC curve of class {0} (area = {1:0.2f})\".format(cat, roc_auc[i]),\n",
    "    )\n",
    "\n",
    "plt.plot([0, 1], [0, 1], \"k--\", lw=lw)\n",
    "plt.xlim([0.0, 1.0])\n",
    "plt.ylim([0.0, 1.05])\n",
    "plt.xlabel(\"False Positive Rate\")\n",
    "plt.ylabel(\"True Positive Rate\")\n",
    "plt.legend(loc=\"lower right\")\n",
    "plt.show()"
   ]
  },
  {
   "cell_type": "markdown",
   "metadata": {},
   "source": [
    "## Evaluating the Gradient Boosting Model"
   ]
  },
  {
   "cell_type": "markdown",
   "metadata": {},
   "source": [
    "### Classification Report"
   ]
  },
  {
   "cell_type": "code",
   "execution_count": 242,
   "metadata": {},
   "outputs": [
    {
     "name": "stdout",
     "output_type": "stream",
     "text": [
      "              precision    recall  f1-score   support\n",
      "\n",
      "           0       0.85      0.84      0.85       525\n",
      "           1       0.89      0.89      0.89      1470\n",
      "           2       0.79      0.80      0.80       681\n",
      "\n",
      "    accuracy                           0.86      2676\n",
      "   macro avg       0.84      0.84      0.84      2676\n",
      "weighted avg       0.86      0.86      0.86      2676\n",
      "\n"
     ]
    }
   ],
   "source": [
    "print(classification_report(y_test,search2.predict(X_test)))"
   ]
  },
  {
   "cell_type": "markdown",
   "metadata": {},
   "source": [
    "### Confusion Matrix"
   ]
  },
  {
   "cell_type": "code",
   "execution_count": 243,
   "metadata": {},
   "outputs": [
    {
     "data": {
      "text/html": [
       "<div>\n",
       "<style scoped>\n",
       "    .dataframe tbody tr th:only-of-type {\n",
       "        vertical-align: middle;\n",
       "    }\n",
       "\n",
       "    .dataframe tbody tr th {\n",
       "        vertical-align: top;\n",
       "    }\n",
       "\n",
       "    .dataframe thead th {\n",
       "        text-align: right;\n",
       "    }\n",
       "</style>\n",
       "<table border=\"1\" class=\"dataframe\">\n",
       "  <thead>\n",
       "    <tr style=\"text-align: right;\">\n",
       "      <th>Predicted</th>\n",
       "      <th>0</th>\n",
       "      <th>1</th>\n",
       "      <th>2</th>\n",
       "      <th>All</th>\n",
       "    </tr>\n",
       "    <tr>\n",
       "      <th>Actual</th>\n",
       "      <th></th>\n",
       "      <th></th>\n",
       "      <th></th>\n",
       "      <th></th>\n",
       "    </tr>\n",
       "  </thead>\n",
       "  <tbody>\n",
       "    <tr>\n",
       "      <th>0</th>\n",
       "      <td>438</td>\n",
       "      <td>62</td>\n",
       "      <td>25</td>\n",
       "      <td>525</td>\n",
       "    </tr>\n",
       "    <tr>\n",
       "      <th>1</th>\n",
       "      <td>43</td>\n",
       "      <td>1310</td>\n",
       "      <td>117</td>\n",
       "      <td>1470</td>\n",
       "    </tr>\n",
       "    <tr>\n",
       "      <th>2</th>\n",
       "      <td>31</td>\n",
       "      <td>99</td>\n",
       "      <td>551</td>\n",
       "      <td>681</td>\n",
       "    </tr>\n",
       "    <tr>\n",
       "      <th>All</th>\n",
       "      <td>512</td>\n",
       "      <td>1471</td>\n",
       "      <td>693</td>\n",
       "      <td>2676</td>\n",
       "    </tr>\n",
       "  </tbody>\n",
       "</table>\n",
       "</div>"
      ],
      "text/plain": [
       "Predicted    0     1    2   All\n",
       "Actual                         \n",
       "0          438    62   25   525\n",
       "1           43  1310  117  1470\n",
       "2           31    99  551   681\n",
       "All        512  1471  693  2676"
      ]
     },
     "execution_count": 243,
     "metadata": {},
     "output_type": "execute_result"
    }
   ],
   "source": [
    "df_confusion_gb = pd.crosstab(y_test, search.predict(X_test), rownames=['Actual'], colnames=['Predicted'], margins=True)\n",
    "df_confusion_gb"
   ]
  },
  {
   "cell_type": "markdown",
   "metadata": {},
   "source": [
    "### Feature Importance"
   ]
  },
  {
   "cell_type": "code",
   "execution_count": 244,
   "metadata": {},
   "outputs": [
    {
     "data": {
      "image/png": "[encoded data removed]",
      "text/plain": [
       "<Figure size 640x480 with 1 Axes>"
      ]
     },
     "metadata": {},
     "output_type": "display_data"
    }
   ],
   "source": [
    "f = {'features' : features}\n",
    "feature_importance = pd.DataFrame(f)\n",
    "feature_importance['importance'] = search2.best_estimator_.feature_importances_\n",
    "\n",
    "sns.set_theme(style=\"whitegrid\")\n",
    "ax = sns.barplot(x=\"importance\", y=\"features\", data=feature_importance)"
   ]
  },
  {
   "cell_type": "markdown",
   "metadata": {},
   "source": [
    "### ROC"
   ]
  },
  {
   "cell_type": "code",
   "execution_count": 246,
   "metadata": {},
   "outputs": [
    {
     "data": {
      "text/plain": [
       "<Figure size 640x480 with 0 Axes>"
      ]
     },
     "metadata": {},
     "output_type": "display_data"
    },
    {
     "data": {
      "image/png": "[encoded data removed]",
      "text/plain": [
       "<Figure size 640x480 with 1 Axes>"
      ]
     },
     "metadata": {},
     "output_type": "display_data"
    }
   ],
   "source": [
    "y = label_binarize(y_test, classes=[0, 1, 2])\n",
    "n_classes = y.shape[1]\n",
    "\n",
    "n_classes\n",
    "\n",
    "# create x_score \n",
    "y_test_new = []\n",
    "\n",
    "for i in y_test:\n",
    "    if i == 0:\n",
    "        y_test_new.append([1, 0, 0])\n",
    "    elif i == 1: \n",
    "        y_test_new.append([0, 1, 0])\n",
    "    elif i == 2: \n",
    "        y_test_new.append([0, 0, 1])\n",
    "\n",
    "# test input\n",
    "y_test_np = np.asarray(y_test_new)\n",
    "\n",
    "# score input\n",
    "y_score = search2.decision_function(X_test)\n",
    "\n",
    "\n",
    "# Compute ROC curve and ROC area for each class\n",
    "fpr = dict()\n",
    "tpr = dict()\n",
    "roc_auc = dict()\n",
    "\n",
    "for i in range(n_classes):\n",
    "    fpr[i], tpr[i], _ = roc_curve(y_test_np[:, i], y_score[:, i])\n",
    "    roc_auc[i] = auc(fpr[i], tpr[i])\n",
    "\n",
    "# Compute micro-average ROC curve and ROC area\n",
    "fpr[\"micro\"], tpr[\"micro\"], _ = roc_curve(y_test_np.ravel(), y_score.ravel())\n",
    "roc_auc[\"micro\"] = auc(fpr[\"micro\"], tpr[\"micro\"])\n",
    "\n",
    "plt.figure()\n",
    "lw = 2\n",
    "# First aggregate all false positive rates\n",
    "all_fpr = np.unique(np.concatenate([fpr[i] for i in range(n_classes)]))\n",
    "\n",
    "# Then interpolate all ROC curves at this points\n",
    "mean_tpr = np.zeros_like(all_fpr)\n",
    "for i in range(n_classes):\n",
    "    mean_tpr += np.interp(all_fpr, fpr[i], tpr[i])\n",
    "\n",
    "# Finally average it and compute AUC\n",
    "mean_tpr /= n_classes\n",
    "\n",
    "fpr[\"macro\"] = all_fpr\n",
    "tpr[\"macro\"] = mean_tpr\n",
    "roc_auc[\"macro\"] = auc(fpr[\"macro\"], tpr[\"macro\"])\n",
    "\n",
    "# Plot all ROC curves\n",
    "plt.figure()\n",
    "plt.plot(\n",
    "    fpr[\"micro\"],\n",
    "    tpr[\"micro\"],\n",
    "    label=\"micro-average ROC curve (area = {0:0.2f})\".format(roc_auc[\"micro\"]),\n",
    "    color=\"deeppink\",\n",
    "    linestyle=\":\",\n",
    "    linewidth=4,\n",
    ")\n",
    "\n",
    "plt.plot(\n",
    "    fpr[\"macro\"],\n",
    "    tpr[\"macro\"],\n",
    "    label=\"macro-average ROC curve (area = {0:0.2f})\".format(roc_auc[\"macro\"]),\n",
    "    color=\"navy\",\n",
    "    linestyle=\":\",\n",
    "    linewidth=4,\n",
    ")\n",
    "\n",
    "colors = cycle([\"aqua\", \"darkorange\", \"cornflowerblue\"])\n",
    "\n",
    "for i, color in zip(range(n_classes), colors):\n",
    "    if i == 0:\n",
    "        cat = 'hiphop' \n",
    "    elif i == 1: \n",
    "        cat = 'rock'\n",
    "    elif i == 2: \n",
    "        cat = 'jazz'\n",
    "\n",
    "    plt.plot(\n",
    "        fpr[i],\n",
    "        tpr[i],\n",
    "        color=color,\n",
    "        lw=lw,\n",
    "        label=\"ROC curve of class {0} (area = {1:0.2f})\".format(cat, roc_auc[i]),\n",
    "    )\n",
    "\n",
    "plt.plot([0, 1], [0, 1], \"k--\", lw=lw)\n",
    "plt.xlim([0.0, 1.0])\n",
    "plt.ylim([0.0, 1.05])\n",
    "plt.xlabel(\"False Positive Rate\")\n",
    "plt.ylabel(\"True Positive Rate\")\n",
    "plt.title(\"Some extension of Receiver operating characteristic to multiclass\")\n",
    "plt.legend(loc=\"lower right\")\n",
    "plt.show()\n"
   ]
  }
 ],
 "metadata": {
  "interpreter": {
   "hash": "33dd51a4b00017a2ae7958173c619e9f83d69c408ee502462ebc9d8a4bd5091e"
  },
  "kernelspec": {
   "display_name": "Python 3.8.12 64-bit ('spotify-genre-prediction-A11C-INo': pipenv)",
   "language": "python",
   "name": "python3"
  },
  "language_info": {
   "codemirror_mode": {
    "name": "ipython",
    "version": 3
   },
   "file_extension": ".py",
   "mimetype": "text/x-python",
   "name": "python",
   "nbconvert_exporter": "python",
   "pygments_lexer": "ipython3",
   "version": "3.8.12"
  },
  "orig_nbformat": 4
 },
 "nbformat": 4,
 "nbformat_minor": 2
}
