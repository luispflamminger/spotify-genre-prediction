{
 "cells": [
  {
   "cell_type": "code",
   "execution_count": 64,
   "metadata": {},
   "outputs": [],
   "source": [
    "import pandas as pd\n",
    "import seaborn as sns\n",
    "from sklearn.tree import DecisionTreeClassifier\n",
    "import graphviz\n",
    "from sklearn import tree\n",
    "import dataframe_image as dfi"
   ]
  },
  {
   "cell_type": "code",
   "execution_count": 65,
   "metadata": {},
   "outputs": [
    {
     "data": {
      "text/html": [
       "<div>\n",
       "<style scoped>\n",
       "    .dataframe tbody tr th:only-of-type {\n",
       "        vertical-align: middle;\n",
       "    }\n",
       "\n",
       "    .dataframe tbody tr th {\n",
       "        vertical-align: top;\n",
       "    }\n",
       "\n",
       "    .dataframe thead th {\n",
       "        text-align: right;\n",
       "    }\n",
       "</style>\n",
       "<table border=\"1\" class=\"dataframe\">\n",
       "  <thead>\n",
       "    <tr style=\"text-align: right;\">\n",
       "      <th></th>\n",
       "      <th>category</th>\n",
       "      <th>track</th>\n",
       "      <th>feature_danceability</th>\n",
       "      <th>feature_acousticness</th>\n",
       "      <th>label</th>\n",
       "    </tr>\n",
       "  </thead>\n",
       "  <tbody>\n",
       "    <tr>\n",
       "      <th>0</th>\n",
       "      <td>hiphop</td>\n",
       "      <td>h1</td>\n",
       "      <td>0.949</td>\n",
       "      <td>0.132</td>\n",
       "      <td>1</td>\n",
       "    </tr>\n",
       "    <tr>\n",
       "      <th>1</th>\n",
       "      <td>hiphop</td>\n",
       "      <td>h2</td>\n",
       "      <td>0.743</td>\n",
       "      <td>0.234</td>\n",
       "      <td>1</td>\n",
       "    </tr>\n",
       "    <tr>\n",
       "      <th>2</th>\n",
       "      <td>hiphop</td>\n",
       "      <td>h3</td>\n",
       "      <td>0.913</td>\n",
       "      <td>0.394</td>\n",
       "      <td>1</td>\n",
       "    </tr>\n",
       "    <tr>\n",
       "      <th>3</th>\n",
       "      <td>hiphop</td>\n",
       "      <td>h4</td>\n",
       "      <td>0.810</td>\n",
       "      <td>0.504</td>\n",
       "      <td>1</td>\n",
       "    </tr>\n",
       "    <tr>\n",
       "      <th>4</th>\n",
       "      <td>hiphop</td>\n",
       "      <td>h5</td>\n",
       "      <td>0.434</td>\n",
       "      <td>0.198</td>\n",
       "      <td>1</td>\n",
       "    </tr>\n",
       "    <tr>\n",
       "      <th>5</th>\n",
       "      <td>jazz</td>\n",
       "      <td>j1</td>\n",
       "      <td>0.654</td>\n",
       "      <td>0.534</td>\n",
       "      <td>0</td>\n",
       "    </tr>\n",
       "    <tr>\n",
       "      <th>6</th>\n",
       "      <td>jazz</td>\n",
       "      <td>j2</td>\n",
       "      <td>0.593</td>\n",
       "      <td>0.312</td>\n",
       "      <td>0</td>\n",
       "    </tr>\n",
       "    <tr>\n",
       "      <th>7</th>\n",
       "      <td>jazz</td>\n",
       "      <td>j3</td>\n",
       "      <td>0.234</td>\n",
       "      <td>0.341</td>\n",
       "      <td>0</td>\n",
       "    </tr>\n",
       "  </tbody>\n",
       "</table>\n",
       "</div>"
      ],
      "text/plain": [
       "  category track  feature_danceability  feature_acousticness  label\n",
       "0   hiphop    h1                 0.949                 0.132      1\n",
       "1   hiphop    h2                 0.743                 0.234      1\n",
       "2   hiphop    h3                 0.913                 0.394      1\n",
       "3   hiphop    h4                 0.810                 0.504      1\n",
       "4   hiphop    h5                 0.434                 0.198      1\n",
       "5     jazz    j1                 0.654                 0.534      0\n",
       "6     jazz    j2                 0.593                 0.312      0\n",
       "7     jazz    j3                 0.234                 0.341      0"
      ]
     },
     "execution_count": 65,
     "metadata": {},
     "output_type": "execute_result"
    }
   ],
   "source": [
    "d = {'category': ['hiphop', 'hiphop', 'hiphop', 'hiphop', 'hiphop', 'jazz', 'jazz', 'jazz'], \n",
    "     'track':    ['h1', 'h2', 'h3', 'h4', 'h5', 'j1', 'j2', 'j3'],\n",
    "     'feature_danceability' : [0.949, 0.743, 0.913, 0.810, 0.434, 0.654, 0.593, 0.234],\n",
    "     'feature_acousticness' : [0.132, 0.234, 0.394, 0.504, 0.198, 0.534, 0.312, 0.341],\n",
    "     'label'                : [1, 1, 1, 1, 1, 0, 0, 0]}\n",
    "df = pd.DataFrame(data=d)\n",
    "\n",
    "df"
   ]
  },
  {
   "cell_type": "code",
   "execution_count": 67,
   "metadata": {},
   "outputs": [
    {
     "data": {
      "image/png": "[encoded data removed]",
      "text/plain": [
       "<Figure size 432x288 with 1 Axes>"
      ]
     },
     "metadata": {},
     "output_type": "display_data"
    }
   ],
   "source": [
    "sns.set(style=\"whitegrid\")\n",
    "sns.scatterplot(data = df, x = \"feature_danceability\", y = \"feature_acousticness\", hue=\"category\");"
   ]
  },
  {
   "cell_type": "markdown",
   "metadata": {},
   "source": [
    "First Iteration "
   ]
  },
  {
   "cell_type": "code",
   "execution_count": 68,
   "metadata": {},
   "outputs": [
    {
     "name": "stdout",
     "output_type": "stream",
     "text": [
      "0.1875\n",
      "0.7\n"
     ]
    }
   ],
   "source": [
    "# best possible Gini for danceability\n",
    "\n",
    "threshold_array = [0, 0.1, 0.2, 0.3, 0.4, 0.5, 0.6, 0.7, 0.8, 0.9, 1]\n",
    "#threshold_array = [0.4] \n",
    "hiphop          = 0\n",
    "jazz            = 0\n",
    "\n",
    "# best split\n",
    "best_treshold = 0\n",
    "best_gain     = 1\n",
    "best_left     = 0\n",
    "best_right    = 0\n",
    "\n",
    "for t in threshold_array:\n",
    "\n",
    "    left  = df.loc[df['feature_danceability'] < t] \n",
    "    right = df.loc[df['feature_danceability'] > t]    \n",
    "\n",
    "    if len(left.index) == 0 or len(right.index) == 0:\n",
    "        continue\n",
    "    \n",
    "    hiphop = 0\n",
    "    jazz   = 0\n",
    "    \n",
    "    # gini left\n",
    "    for i, row in enumerate(left.values):\n",
    "        # hiphop\n",
    "        if row[4] == 1:\n",
    "            hiphop = hiphop + 1\n",
    "        # jazz\n",
    "        else: \n",
    "            jazz   = jazz + 1\n",
    "\n",
    "    gini_left = 1 - pow((hiphop/len(left.index)), 2) - pow((jazz/len(left.index)), 2)\n",
    "\n",
    "    hiphop = 0\n",
    "    jazz   = 0\n",
    "\n",
    "    # gini right\n",
    "    for i, row in enumerate(right.values):\n",
    "        # hiphop\n",
    "        if row[4] == 1:\n",
    "            hiphop = hiphop + 1\n",
    "        # jazz\n",
    "        else: \n",
    "            jazz   = jazz + 1\n",
    "    \n",
    "    gini_right = 1 - pow((hiphop/len(right.index)), 2) - pow((jazz/len(right.index)), 2)\n",
    "\n",
    "    gain = (len(left.index)/len(df.index)) * gini_left + (len(right.index)/len(df.index)) * gini_right\n",
    "\n",
    "    if gain < best_gain:\n",
    "        best_gain       = gain\n",
    "        best_treshold   = t\n",
    "        best_left       = gini_left\n",
    "        best_right      = gini_right\n",
    "\n",
    "print(best_gain)\n",
    "print(best_treshold)"
   ]
  },
  {
   "cell_type": "code",
   "execution_count": 69,
   "metadata": {},
   "outputs": [
    {
     "name": "stdout",
     "output_type": "stream",
     "text": [
      "0.3\n",
      "0.3\n"
     ]
    }
   ],
   "source": [
    "# best possible Gini for danceability\n",
    "\n",
    "threshold_array = [0, 0.1, 0.2, 0.3, 0.4, 0.5, 0.6, 0.7, 0.8, 0.9, 1]\n",
    "#threshold_array = [0.4] \n",
    "hiphop          = 0\n",
    "jazz            = 0\n",
    "\n",
    "# best split\n",
    "best_treshold = 0\n",
    "best_gain     = 1\n",
    "best_left     = 0\n",
    "best_right    = 0\n",
    "\n",
    "for t in threshold_array:\n",
    "\n",
    "    left  = df.loc[df['feature_acousticness'] < t] \n",
    "    right = df.loc[df['feature_acousticness'] > t]    \n",
    "\n",
    "    if len(left.index) == 0 or len(right.index) == 0:\n",
    "        continue\n",
    "    \n",
    "    hiphop = 0\n",
    "    jazz   = 0\n",
    "    \n",
    "    # gini left\n",
    "    for i, row in enumerate(left.values):\n",
    "        # hiphop\n",
    "        if row[4] == 1:\n",
    "            hiphop = hiphop + 1\n",
    "        # jazz\n",
    "        else: \n",
    "            jazz   = jazz + 1\n",
    "\n",
    "    gini_left = 1 - pow((hiphop/len(left.index)), 2) - pow((jazz/len(left.index)), 2)\n",
    "\n",
    "    hiphop = 0\n",
    "    jazz   = 0\n",
    "\n",
    "    # gini right\n",
    "    for i, row in enumerate(right.values):\n",
    "        # hiphop\n",
    "        if row[4] == 1:\n",
    "            hiphop = hiphop + 1\n",
    "        # jazz\n",
    "        else: \n",
    "            jazz   = jazz + 1\n",
    "    \n",
    "    gini_right = 1 - pow((hiphop/len(right.index)), 2) - pow((jazz/len(right.index)), 2)\n",
    "\n",
    "    gain = (len(left.index)/len(df.index)) * gini_left + (len(right.index)/len(df.index)) * gini_right\n",
    "\n",
    "    if gain < best_gain:\n",
    "        best_gain       = gain\n",
    "        best_treshold   = t\n",
    "        best_left       = gini_left\n",
    "        best_right      = gini_right\n",
    "\n",
    "print(best_gain)\n",
    "print(best_treshold)"
   ]
  },
  {
   "cell_type": "code",
   "execution_count": 70,
   "metadata": {},
   "outputs": [
    {
     "data": {
      "image/svg+xml": "<?xml version=\"1.0\" encoding=\"UTF-8\" standalone=\"no\"?>\n<!DOCTYPE svg PUBLIC \"-//W3C//DTD SVG 1.1//EN\"\n \"http://www.w3.org/Graphics/SVG/1.1/DTD/svg11.dtd\">\n<!-- Generated by graphviz version 2.50.0 (20211204.2007)\n -->\n<!-- Title: Tree Pages: 1 -->\n<svg width=\"216pt\" height=\"165pt\"\n viewBox=\"0.00 0.00 216.00 165.00\" xmlns=\"http://www.w3.org/2000/svg\" xmlns:xlink=\"http://www.w3.org/1999/xlink\">\n<g id=\"graph0\" class=\"graph\" transform=\"scale(1 1) rotate(0) translate(4 161)\">\n<title>Tree</title>\n<polygon fill=\"white\" stroke=\"transparent\" points=\"-4,4 -4,-161 212,-161 212,4 -4,4\"/>\n<!-- 0 -->\n<g id=\"node1\" class=\"node\">\n<title>0</title>\n<polygon fill=\"none\" stroke=\"black\" points=\"176.5,-157 30.5,-157 30.5,-89 176.5,-89 176.5,-157\"/>\n<text text-anchor=\"middle\" x=\"103.5\" y=\"-141.8\" font-family=\"Helvetica,sans-Serif\" font-size=\"14.00\">danceability &lt;= 0.698</text>\n<text text-anchor=\"middle\" x=\"103.5\" y=\"-126.8\" font-family=\"Helvetica,sans-Serif\" font-size=\"14.00\">gini = 0.469</text>\n<text text-anchor=\"middle\" x=\"103.5\" y=\"-111.8\" font-family=\"Helvetica,sans-Serif\" font-size=\"14.00\">samples = 8</text>\n<text text-anchor=\"middle\" x=\"103.5\" y=\"-96.8\" font-family=\"Helvetica,sans-Serif\" font-size=\"14.00\">value = [3, 5]</text>\n</g>\n<!-- 1 -->\n<g id=\"node2\" class=\"node\">\n<title>1</title>\n<polygon fill=\"none\" stroke=\"black\" points=\"95,-53 0,-53 0,0 95,0 95,-53\"/>\n<text text-anchor=\"middle\" x=\"47.5\" y=\"-37.8\" font-family=\"Helvetica,sans-Serif\" font-size=\"14.00\">gini = 0.375</text>\n<text text-anchor=\"middle\" x=\"47.5\" y=\"-22.8\" font-family=\"Helvetica,sans-Serif\" font-size=\"14.00\">samples = 4</text>\n<text text-anchor=\"middle\" x=\"47.5\" y=\"-7.8\" font-family=\"Helvetica,sans-Serif\" font-size=\"14.00\">value = [3, 1]</text>\n</g>\n<!-- 0&#45;&gt;1 -->\n<g id=\"edge1\" class=\"edge\">\n<title>0&#45;&gt;1</title>\n<path fill=\"none\" stroke=\"black\" d=\"M83.91,-88.95C78.76,-80.26 73.2,-70.86 68,-62.09\"/>\n<polygon fill=\"black\" stroke=\"black\" points=\"70.86,-60.06 62.75,-53.24 64.84,-63.62 70.86,-60.06\"/>\n<text text-anchor=\"middle\" x=\"56.56\" y=\"-73.76\" font-family=\"Helvetica,sans-Serif\" font-size=\"14.00\">True</text>\n</g>\n<!-- 2 -->\n<g id=\"node3\" class=\"node\">\n<title>2</title>\n<polygon fill=\"none\" stroke=\"black\" points=\"208,-53 113,-53 113,0 208,0 208,-53\"/>\n<text text-anchor=\"middle\" x=\"160.5\" y=\"-37.8\" font-family=\"Helvetica,sans-Serif\" font-size=\"14.00\">gini = 0.0</text>\n<text text-anchor=\"middle\" x=\"160.5\" y=\"-22.8\" font-family=\"Helvetica,sans-Serif\" font-size=\"14.00\">samples = 4</text>\n<text text-anchor=\"middle\" x=\"160.5\" y=\"-7.8\" font-family=\"Helvetica,sans-Serif\" font-size=\"14.00\">value = [0, 4]</text>\n</g>\n<!-- 0&#45;&gt;2 -->\n<g id=\"edge2\" class=\"edge\">\n<title>0&#45;&gt;2</title>\n<path fill=\"none\" stroke=\"black\" d=\"M123.44,-88.95C128.73,-80.17 134.47,-70.66 139.8,-61.82\"/>\n<polygon fill=\"black\" stroke=\"black\" points=\"142.81,-63.61 144.98,-53.24 136.81,-59.99 142.81,-63.61\"/>\n<text text-anchor=\"middle\" x=\"150.98\" y=\"-73.8\" font-family=\"Helvetica,sans-Serif\" font-size=\"14.00\">False</text>\n</g>\n</g>\n</svg>\n",
      "text/plain": [
       "<graphviz.sources.Source at 0x17d371970>"
      ]
     },
     "execution_count": 70,
     "metadata": {},
     "output_type": "execute_result"
    }
   ],
   "source": [
    "# build regression tree\n",
    "\n",
    "# input values\n",
    "features = ['feature_danceability']\n",
    "Y = df['label']\n",
    "X = df[features]\n",
    "\n",
    "# build tree\n",
    "dt = DecisionTreeClassifier(max_depth = 1)\n",
    "dt.fit(X, Y)\n",
    "\n",
    "# display\n",
    "dot_data = tree.export_graphviz(\n",
    "    dt,\n",
    "    feature_names = ['danceability']\n",
    "    )\n",
    "graph = graphviz.Source(dot_data)\n",
    "\n",
    "graph"
   ]
  },
  {
   "cell_type": "markdown",
   "metadata": {},
   "source": [
    "Second Iteration"
   ]
  },
  {
   "cell_type": "code",
   "execution_count": 71,
   "metadata": {},
   "outputs": [],
   "source": [
    "# right leaf is homogenous \n",
    "\n",
    "# -> no further actions required "
   ]
  },
  {
   "cell_type": "code",
   "execution_count": 72,
   "metadata": {},
   "outputs": [
    {
     "data": {
      "text/html": [
       "<div>\n",
       "<style scoped>\n",
       "    .dataframe tbody tr th:only-of-type {\n",
       "        vertical-align: middle;\n",
       "    }\n",
       "\n",
       "    .dataframe tbody tr th {\n",
       "        vertical-align: top;\n",
       "    }\n",
       "\n",
       "    .dataframe thead th {\n",
       "        text-align: right;\n",
       "    }\n",
       "</style>\n",
       "<table border=\"1\" class=\"dataframe\">\n",
       "  <thead>\n",
       "    <tr style=\"text-align: right;\">\n",
       "      <th></th>\n",
       "      <th>category</th>\n",
       "      <th>track</th>\n",
       "      <th>feature_danceability</th>\n",
       "      <th>feature_acousticness</th>\n",
       "      <th>label</th>\n",
       "    </tr>\n",
       "  </thead>\n",
       "  <tbody>\n",
       "    <tr>\n",
       "      <th>4</th>\n",
       "      <td>hiphop</td>\n",
       "      <td>h5</td>\n",
       "      <td>0.434</td>\n",
       "      <td>0.198</td>\n",
       "      <td>1</td>\n",
       "    </tr>\n",
       "    <tr>\n",
       "      <th>5</th>\n",
       "      <td>jazz</td>\n",
       "      <td>j1</td>\n",
       "      <td>0.654</td>\n",
       "      <td>0.534</td>\n",
       "      <td>0</td>\n",
       "    </tr>\n",
       "    <tr>\n",
       "      <th>6</th>\n",
       "      <td>jazz</td>\n",
       "      <td>j2</td>\n",
       "      <td>0.593</td>\n",
       "      <td>0.312</td>\n",
       "      <td>0</td>\n",
       "    </tr>\n",
       "    <tr>\n",
       "      <th>7</th>\n",
       "      <td>jazz</td>\n",
       "      <td>j3</td>\n",
       "      <td>0.234</td>\n",
       "      <td>0.341</td>\n",
       "      <td>0</td>\n",
       "    </tr>\n",
       "  </tbody>\n",
       "</table>\n",
       "</div>"
      ],
      "text/plain": [
       "  category track  feature_danceability  feature_acousticness  label\n",
       "4   hiphop    h5                 0.434                 0.198      1\n",
       "5     jazz    j1                 0.654                 0.534      0\n",
       "6     jazz    j2                 0.593                 0.312      0\n",
       "7     jazz    j3                 0.234                 0.341      0"
      ]
     },
     "execution_count": 72,
     "metadata": {},
     "output_type": "execute_result"
    }
   ],
   "source": [
    "# left leaf is not homogenous and has to be processed further\n",
    "\n",
    "df_second_iteration = df.loc[df['feature_danceability'] < 0.700] \n",
    "\n",
    "df_second_iteration\n"
   ]
  },
  {
   "cell_type": "code",
   "execution_count": 76,
   "metadata": {},
   "outputs": [
    {
     "name": "stderr",
     "output_type": "stream",
     "text": [
      "[0124/194616.466816:ERROR:xattr.cc(63)] setxattr org.chromium.crashpad.database.initialized on file /var/folders/8l/bk7n5w8s3751wy49rg27zv1h0000gn/T/: Operation not permitted (1)\n",
      "[0124/194616.469548:ERROR:file_io.cc(94)] ReadExactly: expected 8, observed 0\n",
      "[0124/194616.471066:ERROR:xattr.cc(63)] setxattr org.chromium.crashpad.database.initialized on file /var/folders/8l/bk7n5w8s3751wy49rg27zv1h0000gn/T/: Operation not permitted (1)\n",
      "[0124/194616.991609:INFO:headless_shell.cc(653)] Written to file /var/folders/8l/bk7n5w8s3751wy49rg27zv1h0000gn/T/tmp5c37b0ok/temp.png.\n"
     ]
    }
   ],
   "source": [
    "export = df_second_iteration\n",
    "\n",
    "dfi.export(export, 'second_iteration_dataset.png')"
   ]
  },
  {
   "cell_type": "code",
   "execution_count": 73,
   "metadata": {},
   "outputs": [
    {
     "name": "stdout",
     "output_type": "stream",
     "text": [
      "0.0\n",
      "0.3\n"
     ]
    }
   ],
   "source": [
    "# best possible Gini for danceability\n",
    "\n",
    "threshold_array = [0, 0.1, 0.2, 0.3, 0.4, 0.5, 0.6, 0.7, 0.8, 0.9, 1]\n",
    "#threshold_array = [0.4] \n",
    "hiphop        = 0\n",
    "jazz          = 0\n",
    "\n",
    "# best split\n",
    "best2_treshold = 0\n",
    "best2_gain     = 1\n",
    "best2_left     = 0\n",
    "best2_right    = 0\n",
    "\n",
    "for t in threshold_array:\n",
    "\n",
    "    left  = df_second_iteration.loc[df['feature_acousticness'] < t] \n",
    "    right = df_second_iteration.loc[df['feature_acousticness'] > t]    \n",
    "\n",
    "    if len(left.index) == 0 or len(right.index) == 0:\n",
    "        continue\n",
    "    \n",
    "    hiphop = 0\n",
    "    jazz   = 0\n",
    "    \n",
    "    # gini left\n",
    "    for i, row in enumerate(left.values):\n",
    "        # hiphop\n",
    "        if row[4] == 1:\n",
    "            hiphop = hiphop + 1\n",
    "        # jazz\n",
    "        else: \n",
    "            jazz   = jazz + 1\n",
    "\n",
    "    gini_left = 1 - pow((hiphop/len(left.index)), 2) - pow((jazz/len(left.index)), 2)\n",
    "\n",
    "    hiphop = 0\n",
    "    jazz   = 0\n",
    "\n",
    "    # gini right\n",
    "    for i, row in enumerate(right.values):\n",
    "        # hiphop\n",
    "        if row[4] == 1:\n",
    "            hiphop = hiphop + 1\n",
    "        # jazz\n",
    "        else: \n",
    "            jazz   = jazz + 1\n",
    "    \n",
    "    gini_right = 1 - pow((hiphop/len(right.index)), 2) - pow((jazz/len(right.index)), 2)\n",
    "\n",
    "    gain = (len(left.index)/len(df_second_iteration.index)) * gini_left + (len(right.index)/len(df_second_iteration.index)) * gini_right\n",
    "\n",
    "    if gain < best_gain:\n",
    "        best2_gain       = gain\n",
    "        best2_treshold   = t\n",
    "        best2_left       = gini_left\n",
    "        best2_right      = gini_right\n",
    "\n",
    "print(best2_gain)\n",
    "print(best2_treshold)"
   ]
  },
  {
   "cell_type": "code",
   "execution_count": 74,
   "metadata": {},
   "outputs": [
    {
     "data": {
      "image/svg+xml": "<?xml version=\"1.0\" encoding=\"UTF-8\" standalone=\"no\"?>\n<!DOCTYPE svg PUBLIC \"-//W3C//DTD SVG 1.1//EN\"\n \"http://www.w3.org/Graphics/SVG/1.1/DTD/svg11.dtd\">\n<!-- Generated by graphviz version 2.50.0 (20211204.2007)\n -->\n<!-- Title: Tree Pages: 1 -->\n<svg width=\"216pt\" height=\"165pt\"\n viewBox=\"0.00 0.00 216.00 165.00\" xmlns=\"http://www.w3.org/2000/svg\" xmlns:xlink=\"http://www.w3.org/1999/xlink\">\n<g id=\"graph0\" class=\"graph\" transform=\"scale(1 1) rotate(0) translate(4 161)\">\n<title>Tree</title>\n<polygon fill=\"white\" stroke=\"transparent\" points=\"-4,4 -4,-161 212,-161 212,4 -4,4\"/>\n<!-- 0 -->\n<g id=\"node1\" class=\"node\">\n<title>0</title>\n<polygon fill=\"none\" stroke=\"black\" points=\"179.5,-157 27.5,-157 27.5,-89 179.5,-89 179.5,-157\"/>\n<text text-anchor=\"middle\" x=\"103.5\" y=\"-141.8\" font-family=\"Helvetica,sans-Serif\" font-size=\"14.00\">acousticness &lt;= 0.255</text>\n<text text-anchor=\"middle\" x=\"103.5\" y=\"-126.8\" font-family=\"Helvetica,sans-Serif\" font-size=\"14.00\">gini = 0.375</text>\n<text text-anchor=\"middle\" x=\"103.5\" y=\"-111.8\" font-family=\"Helvetica,sans-Serif\" font-size=\"14.00\">samples = 4</text>\n<text text-anchor=\"middle\" x=\"103.5\" y=\"-96.8\" font-family=\"Helvetica,sans-Serif\" font-size=\"14.00\">value = [3, 1]</text>\n</g>\n<!-- 1 -->\n<g id=\"node2\" class=\"node\">\n<title>1</title>\n<polygon fill=\"none\" stroke=\"black\" points=\"95,-53 0,-53 0,0 95,0 95,-53\"/>\n<text text-anchor=\"middle\" x=\"47.5\" y=\"-37.8\" font-family=\"Helvetica,sans-Serif\" font-size=\"14.00\">gini = 0.0</text>\n<text text-anchor=\"middle\" x=\"47.5\" y=\"-22.8\" font-family=\"Helvetica,sans-Serif\" font-size=\"14.00\">samples = 1</text>\n<text text-anchor=\"middle\" x=\"47.5\" y=\"-7.8\" font-family=\"Helvetica,sans-Serif\" font-size=\"14.00\">value = [0, 1]</text>\n</g>\n<!-- 0&#45;&gt;1 -->\n<g id=\"edge1\" class=\"edge\">\n<title>0&#45;&gt;1</title>\n<path fill=\"none\" stroke=\"black\" d=\"M83.91,-88.95C78.76,-80.26 73.2,-70.86 68,-62.09\"/>\n<polygon fill=\"black\" stroke=\"black\" points=\"70.86,-60.06 62.75,-53.24 64.84,-63.62 70.86,-60.06\"/>\n<text text-anchor=\"middle\" x=\"56.56\" y=\"-73.76\" font-family=\"Helvetica,sans-Serif\" font-size=\"14.00\">True</text>\n</g>\n<!-- 2 -->\n<g id=\"node3\" class=\"node\">\n<title>2</title>\n<polygon fill=\"none\" stroke=\"black\" points=\"208,-53 113,-53 113,0 208,0 208,-53\"/>\n<text text-anchor=\"middle\" x=\"160.5\" y=\"-37.8\" font-family=\"Helvetica,sans-Serif\" font-size=\"14.00\">gini = 0.0</text>\n<text text-anchor=\"middle\" x=\"160.5\" y=\"-22.8\" font-family=\"Helvetica,sans-Serif\" font-size=\"14.00\">samples = 3</text>\n<text text-anchor=\"middle\" x=\"160.5\" y=\"-7.8\" font-family=\"Helvetica,sans-Serif\" font-size=\"14.00\">value = [3, 0]</text>\n</g>\n<!-- 0&#45;&gt;2 -->\n<g id=\"edge2\" class=\"edge\">\n<title>0&#45;&gt;2</title>\n<path fill=\"none\" stroke=\"black\" d=\"M123.44,-88.95C128.73,-80.17 134.47,-70.66 139.8,-61.82\"/>\n<polygon fill=\"black\" stroke=\"black\" points=\"142.81,-63.61 144.98,-53.24 136.81,-59.99 142.81,-63.61\"/>\n<text text-anchor=\"middle\" x=\"150.98\" y=\"-73.8\" font-family=\"Helvetica,sans-Serif\" font-size=\"14.00\">False</text>\n</g>\n</g>\n</svg>\n",
      "text/plain": [
       "<graphviz.sources.Source at 0x17e226910>"
      ]
     },
     "execution_count": 74,
     "metadata": {},
     "output_type": "execute_result"
    }
   ],
   "source": [
    "# build regression tree\n",
    "\n",
    "# input values\n",
    "features = ['feature_acousticness']\n",
    "Y = df_second_iteration['label']\n",
    "X = df_second_iteration[features]\n",
    "\n",
    "# build tree\n",
    "dt2 = DecisionTreeClassifier(max_depth = 1)\n",
    "dt2.fit(X, Y)\n",
    "\n",
    "# display\n",
    "dot_data = tree.export_graphviz(\n",
    "    dt2,\n",
    "    feature_names = ['acousticness']\n",
    "    )\n",
    "graph = graphviz.Source(dot_data)\n",
    "\n",
    "graph"
   ]
  },
  {
   "cell_type": "code",
   "execution_count": 75,
   "metadata": {},
   "outputs": [
    {
     "data": {
      "image/svg+xml": "<?xml version=\"1.0\" encoding=\"UTF-8\" standalone=\"no\"?>\n<!DOCTYPE svg PUBLIC \"-//W3C//DTD SVG 1.1//EN\"\n \"http://www.w3.org/Graphics/SVG/1.1/DTD/svg11.dtd\">\n<!-- Generated by graphviz version 2.50.0 (20211204.2007)\n -->\n<!-- Title: Tree Pages: 1 -->\n<svg width=\"301pt\" height=\"269pt\"\n viewBox=\"0.00 0.00 301.00 269.00\" xmlns=\"http://www.w3.org/2000/svg\" xmlns:xlink=\"http://www.w3.org/1999/xlink\">\n<g id=\"graph0\" class=\"graph\" transform=\"scale(1 1) rotate(0) translate(4 265)\">\n<title>Tree</title>\n<polygon fill=\"white\" stroke=\"transparent\" points=\"-4,4 -4,-265 297,-265 297,4 -4,4\"/>\n<!-- 0 -->\n<g id=\"node1\" class=\"node\">\n<title>0</title>\n<polygon fill=\"none\" stroke=\"black\" points=\"247.5,-261 101.5,-261 101.5,-193 247.5,-193 247.5,-261\"/>\n<text text-anchor=\"middle\" x=\"174.5\" y=\"-245.8\" font-family=\"Helvetica,sans-Serif\" font-size=\"14.00\">danceability &lt;= 0.698</text>\n<text text-anchor=\"middle\" x=\"174.5\" y=\"-230.8\" font-family=\"Helvetica,sans-Serif\" font-size=\"14.00\">gini = 0.469</text>\n<text text-anchor=\"middle\" x=\"174.5\" y=\"-215.8\" font-family=\"Helvetica,sans-Serif\" font-size=\"14.00\">samples = 8</text>\n<text text-anchor=\"middle\" x=\"174.5\" y=\"-200.8\" font-family=\"Helvetica,sans-Serif\" font-size=\"14.00\">value = [3, 5]</text>\n</g>\n<!-- 1 -->\n<g id=\"node2\" class=\"node\">\n<title>1</title>\n<polygon fill=\"none\" stroke=\"black\" points=\"179.5,-157 27.5,-157 27.5,-89 179.5,-89 179.5,-157\"/>\n<text text-anchor=\"middle\" x=\"103.5\" y=\"-141.8\" font-family=\"Helvetica,sans-Serif\" font-size=\"14.00\">acousticness &lt;= 0.255</text>\n<text text-anchor=\"middle\" x=\"103.5\" y=\"-126.8\" font-family=\"Helvetica,sans-Serif\" font-size=\"14.00\">gini = 0.375</text>\n<text text-anchor=\"middle\" x=\"103.5\" y=\"-111.8\" font-family=\"Helvetica,sans-Serif\" font-size=\"14.00\">samples = 4</text>\n<text text-anchor=\"middle\" x=\"103.5\" y=\"-96.8\" font-family=\"Helvetica,sans-Serif\" font-size=\"14.00\">value = [3, 1]</text>\n</g>\n<!-- 0&#45;&gt;1 -->\n<g id=\"edge1\" class=\"edge\">\n<title>0&#45;&gt;1</title>\n<path fill=\"none\" stroke=\"black\" d=\"M151.45,-192.88C145.37,-184.15 138.74,-174.62 132.4,-165.51\"/>\n<polygon fill=\"black\" stroke=\"black\" points=\"135.26,-163.51 126.68,-157.3 129.52,-167.51 135.26,-163.51\"/>\n<text text-anchor=\"middle\" x=\"122.27\" y=\"-178.21\" font-family=\"Helvetica,sans-Serif\" font-size=\"14.00\">True</text>\n</g>\n<!-- 4 -->\n<g id=\"node5\" class=\"node\">\n<title>4</title>\n<polygon fill=\"none\" stroke=\"black\" points=\"293,-149.5 198,-149.5 198,-96.5 293,-96.5 293,-149.5\"/>\n<text text-anchor=\"middle\" x=\"245.5\" y=\"-134.3\" font-family=\"Helvetica,sans-Serif\" font-size=\"14.00\">gini = 0.0</text>\n<text text-anchor=\"middle\" x=\"245.5\" y=\"-119.3\" font-family=\"Helvetica,sans-Serif\" font-size=\"14.00\">samples = 4</text>\n<text text-anchor=\"middle\" x=\"245.5\" y=\"-104.3\" font-family=\"Helvetica,sans-Serif\" font-size=\"14.00\">value = [0, 4]</text>\n</g>\n<!-- 0&#45;&gt;4 -->\n<g id=\"edge4\" class=\"edge\">\n<title>0&#45;&gt;4</title>\n<path fill=\"none\" stroke=\"black\" d=\"M197.55,-192.88C205.36,-181.67 214.09,-169.13 221.94,-157.85\"/>\n<polygon fill=\"black\" stroke=\"black\" points=\"224.9,-159.73 227.74,-149.52 219.15,-155.73 224.9,-159.73\"/>\n<text text-anchor=\"middle\" x=\"232.15\" y=\"-170.43\" font-family=\"Helvetica,sans-Serif\" font-size=\"14.00\">False</text>\n</g>\n<!-- 2 -->\n<g id=\"node3\" class=\"node\">\n<title>2</title>\n<polygon fill=\"none\" stroke=\"black\" points=\"95,-53 0,-53 0,0 95,0 95,-53\"/>\n<text text-anchor=\"middle\" x=\"47.5\" y=\"-37.8\" font-family=\"Helvetica,sans-Serif\" font-size=\"14.00\">gini = 0.0</text>\n<text text-anchor=\"middle\" x=\"47.5\" y=\"-22.8\" font-family=\"Helvetica,sans-Serif\" font-size=\"14.00\">samples = 1</text>\n<text text-anchor=\"middle\" x=\"47.5\" y=\"-7.8\" font-family=\"Helvetica,sans-Serif\" font-size=\"14.00\">value = [0, 1]</text>\n</g>\n<!-- 1&#45;&gt;2 -->\n<g id=\"edge2\" class=\"edge\">\n<title>1&#45;&gt;2</title>\n<path fill=\"none\" stroke=\"black\" d=\"M83.91,-88.95C78.76,-80.26 73.2,-70.86 68,-62.09\"/>\n<polygon fill=\"black\" stroke=\"black\" points=\"70.86,-60.06 62.75,-53.24 64.84,-63.62 70.86,-60.06\"/>\n</g>\n<!-- 3 -->\n<g id=\"node4\" class=\"node\">\n<title>3</title>\n<polygon fill=\"none\" stroke=\"black\" points=\"208,-53 113,-53 113,0 208,0 208,-53\"/>\n<text text-anchor=\"middle\" x=\"160.5\" y=\"-37.8\" font-family=\"Helvetica,sans-Serif\" font-size=\"14.00\">gini = 0.0</text>\n<text text-anchor=\"middle\" x=\"160.5\" y=\"-22.8\" font-family=\"Helvetica,sans-Serif\" font-size=\"14.00\">samples = 3</text>\n<text text-anchor=\"middle\" x=\"160.5\" y=\"-7.8\" font-family=\"Helvetica,sans-Serif\" font-size=\"14.00\">value = [3, 0]</text>\n</g>\n<!-- 1&#45;&gt;3 -->\n<g id=\"edge3\" class=\"edge\">\n<title>1&#45;&gt;3</title>\n<path fill=\"none\" stroke=\"black\" d=\"M123.44,-88.95C128.73,-80.17 134.47,-70.66 139.8,-61.82\"/>\n<polygon fill=\"black\" stroke=\"black\" points=\"142.81,-63.61 144.98,-53.24 136.81,-59.99 142.81,-63.61\"/>\n</g>\n</g>\n</svg>\n",
      "text/plain": [
       "<graphviz.sources.Source at 0x17e2709a0>"
      ]
     },
     "execution_count": 75,
     "metadata": {},
     "output_type": "execute_result"
    }
   ],
   "source": [
    "# overall calculation \n",
    "\n",
    "# build regression tree\n",
    "\n",
    "# input values\n",
    "features = ['feature_danceability', 'feature_acousticness']\n",
    "Y = df['label']\n",
    "X = df[features]\n",
    "\n",
    "# build tree\n",
    "dt3 = DecisionTreeClassifier(max_depth = 3)\n",
    "dt3.fit(X, Y)\n",
    "\n",
    "# display\n",
    "dot_data = tree.export_graphviz(\n",
    "    dt3,\n",
    "    feature_names = ['danceability', 'acousticness']\n",
    "    )\n",
    "graph = graphviz.Source(dot_data)\n",
    "\n",
    "graph"
   ]
  }
 ],
 "metadata": {
  "interpreter": {
   "hash": "1ea6b0c16d584c3b536e6018681e4a7bd23700f7cac9cfdeeed2ab6f889040a0"
  },
  "kernelspec": {
   "display_name": "Python 3.8.10 64-bit ('v3.8.10': pyenv)",
   "language": "python",
   "name": "python3"
  },
  "language_info": {
   "codemirror_mode": {
    "name": "ipython",
    "version": 3
   },
   "file_extension": ".py",
   "mimetype": "text/x-python",
   "name": "python",
   "nbconvert_exporter": "python",
   "pygments_lexer": "ipython3",
   "version": "3.8.10"
  },
  "orig_nbformat": 4
 },
 "nbformat": 4,
 "nbformat_minor": 2
}
