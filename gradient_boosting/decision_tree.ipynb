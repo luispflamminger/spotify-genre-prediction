{
 "cells": [
  {
   "cell_type": "markdown",
   "metadata": {},
   "source": [
    "### Data Preparation"
   ]
  },
  {
   "cell_type": "code",
   "execution_count": 2,
   "metadata": {},
   "outputs": [],
   "source": [
    "import os\n",
    "import json\n",
    "import pandas as pd\n",
    "\n",
    "\n"
   ]
  },
  {
   "cell_type": "code",
   "execution_count": null,
   "metadata": {},
   "outputs": [],
   "source": [
    "# result.json contains flattened json (so list of dicts)\n",
    "f = open(os.path.join(os.getcwd(), \"..\", \"data_collection\", \"json\", \"flat_json_hiphop_rock_jazz.json\"))\n",
    "json_data = json.load(f)\n",
    "\n",
    "# Convert list of dicts to dataframe\n",
    "df = pd.DataFrame(json_data) \n",
    "df"
   ]
  },
  {
   "cell_type": "code",
   "execution_count": 24,
   "metadata": {},
   "outputs": [
    {
     "data": {
      "text/html": [
       "<div>\n",
       "<style scoped>\n",
       "    .dataframe tbody tr th:only-of-type {\n",
       "        vertical-align: middle;\n",
       "    }\n",
       "\n",
       "    .dataframe tbody tr th {\n",
       "        vertical-align: top;\n",
       "    }\n",
       "\n",
       "    .dataframe thead th {\n",
       "        text-align: right;\n",
       "    }\n",
       "</style>\n",
       "<table border=\"1\" class=\"dataframe\">\n",
       "  <thead>\n",
       "    <tr style=\"text-align: right;\">\n",
       "      <th></th>\n",
       "      <th>category</th>\n",
       "      <th>feature_danceability</th>\n",
       "      <th>feature_energy</th>\n",
       "      <th>feature_key</th>\n",
       "      <th>feature_loudness</th>\n",
       "      <th>feature_mode</th>\n",
       "      <th>feature_speechiness</th>\n",
       "      <th>feature_acousticness</th>\n",
       "      <th>feature_instrumentalness</th>\n",
       "      <th>feature_liveness</th>\n",
       "      <th>feature_valence</th>\n",
       "      <th>feature_tempo</th>\n",
       "      <th>feature_duration_ms</th>\n",
       "      <th>feature_time_signature</th>\n",
       "    </tr>\n",
       "  </thead>\n",
       "  <tbody>\n",
       "    <tr>\n",
       "      <th>0</th>\n",
       "      <td>hiphop</td>\n",
       "      <td>0.849</td>\n",
       "      <td>0.424</td>\n",
       "      <td>5</td>\n",
       "      <td>-9.579</td>\n",
       "      <td>0</td>\n",
       "      <td>0.324</td>\n",
       "      <td>0.0635</td>\n",
       "      <td>0</td>\n",
       "      <td>0.0834</td>\n",
       "      <td>0.153</td>\n",
       "      <td>145.887</td>\n",
       "      <td>242966</td>\n",
       "      <td>4</td>\n",
       "    </tr>\n",
       "    <tr>\n",
       "      <th>1</th>\n",
       "      <td>hiphop</td>\n",
       "      <td>0.681</td>\n",
       "      <td>0.63</td>\n",
       "      <td>1</td>\n",
       "      <td>-5.585</td>\n",
       "      <td>1</td>\n",
       "      <td>0.0385</td>\n",
       "      <td>0.00383</td>\n",
       "      <td>0</td>\n",
       "      <td>0.139</td>\n",
       "      <td>0.183</td>\n",
       "      <td>151.951</td>\n",
       "      <td>161053</td>\n",
       "      <td>4</td>\n",
       "    </tr>\n",
       "    <tr>\n",
       "      <th>2</th>\n",
       "      <td>hiphop</td>\n",
       "      <td>0.711</td>\n",
       "      <td>0.611</td>\n",
       "      <td>1</td>\n",
       "      <td>-5.453</td>\n",
       "      <td>1</td>\n",
       "      <td>0.329</td>\n",
       "      <td>0.00575</td>\n",
       "      <td>0</td>\n",
       "      <td>0.231</td>\n",
       "      <td>0.144</td>\n",
       "      <td>134.14</td>\n",
       "      <td>252070</td>\n",
       "      <td>4</td>\n",
       "    </tr>\n",
       "    <tr>\n",
       "      <th>3</th>\n",
       "      <td>hiphop</td>\n",
       "      <td>0.723</td>\n",
       "      <td>0.516</td>\n",
       "      <td>11</td>\n",
       "      <td>-10.707</td>\n",
       "      <td>0</td>\n",
       "      <td>0.485</td>\n",
       "      <td>0.00311</td>\n",
       "      <td>1.26e-06</td>\n",
       "      <td>0.115</td>\n",
       "      <td>0.223</td>\n",
       "      <td>155.967</td>\n",
       "      <td>123077</td>\n",
       "      <td>4</td>\n",
       "    </tr>\n",
       "    <tr>\n",
       "      <th>4</th>\n",
       "      <td>hiphop</td>\n",
       "      <td>0.91</td>\n",
       "      <td>0.585</td>\n",
       "      <td>11</td>\n",
       "      <td>-7.572</td>\n",
       "      <td>0</td>\n",
       "      <td>0.257</td>\n",
       "      <td>0.0536</td>\n",
       "      <td>0</td>\n",
       "      <td>0.127</td>\n",
       "      <td>0.599</td>\n",
       "      <td>129.011</td>\n",
       "      <td>165067</td>\n",
       "      <td>4</td>\n",
       "    </tr>\n",
       "    <tr>\n",
       "      <th>...</th>\n",
       "      <td>...</td>\n",
       "      <td>...</td>\n",
       "      <td>...</td>\n",
       "      <td>...</td>\n",
       "      <td>...</td>\n",
       "      <td>...</td>\n",
       "      <td>...</td>\n",
       "      <td>...</td>\n",
       "      <td>...</td>\n",
       "      <td>...</td>\n",
       "      <td>...</td>\n",
       "      <td>...</td>\n",
       "      <td>...</td>\n",
       "      <td>...</td>\n",
       "    </tr>\n",
       "    <tr>\n",
       "      <th>18723</th>\n",
       "      <td>jazz</td>\n",
       "      <td>0.421</td>\n",
       "      <td>0.0952</td>\n",
       "      <td>6</td>\n",
       "      <td>-12.561</td>\n",
       "      <td>1</td>\n",
       "      <td>0.0479</td>\n",
       "      <td>0.931</td>\n",
       "      <td>0.000201</td>\n",
       "      <td>0.126</td>\n",
       "      <td>0.0773</td>\n",
       "      <td>109.698</td>\n",
       "      <td>177922</td>\n",
       "      <td>4</td>\n",
       "    </tr>\n",
       "    <tr>\n",
       "      <th>18724</th>\n",
       "      <td>jazz</td>\n",
       "      <td>0.503</td>\n",
       "      <td>0.491</td>\n",
       "      <td>0</td>\n",
       "      <td>-12.02</td>\n",
       "      <td>1</td>\n",
       "      <td>0.0295</td>\n",
       "      <td>0.0412</td>\n",
       "      <td>0.922</td>\n",
       "      <td>0.0965</td>\n",
       "      <td>0.489</td>\n",
       "      <td>166.105</td>\n",
       "      <td>263447</td>\n",
       "      <td>4</td>\n",
       "    </tr>\n",
       "    <tr>\n",
       "      <th>18725</th>\n",
       "      <td>jazz</td>\n",
       "      <td>0.644</td>\n",
       "      <td>0.594</td>\n",
       "      <td>5</td>\n",
       "      <td>-9.965</td>\n",
       "      <td>1</td>\n",
       "      <td>0.117</td>\n",
       "      <td>0.751</td>\n",
       "      <td>0.224</td>\n",
       "      <td>0.107</td>\n",
       "      <td>0.632</td>\n",
       "      <td>90.564</td>\n",
       "      <td>494467</td>\n",
       "      <td>4</td>\n",
       "    </tr>\n",
       "    <tr>\n",
       "      <th>18726</th>\n",
       "      <td>jazz</td>\n",
       "      <td>0.462</td>\n",
       "      <td>0.211</td>\n",
       "      <td>0</td>\n",
       "      <td>-13.396</td>\n",
       "      <td>1</td>\n",
       "      <td>0.0586</td>\n",
       "      <td>0.665</td>\n",
       "      <td>0.946</td>\n",
       "      <td>0.114</td>\n",
       "      <td>0.426</td>\n",
       "      <td>179.658</td>\n",
       "      <td>77190</td>\n",
       "      <td>3</td>\n",
       "    </tr>\n",
       "    <tr>\n",
       "      <th>18727</th>\n",
       "      <td>jazz</td>\n",
       "      <td>0.309</td>\n",
       "      <td>0.837</td>\n",
       "      <td>2</td>\n",
       "      <td>-8.135</td>\n",
       "      <td>1</td>\n",
       "      <td>0.131</td>\n",
       "      <td>0.085</td>\n",
       "      <td>0.621</td>\n",
       "      <td>0.143</td>\n",
       "      <td>0.388</td>\n",
       "      <td>114.757</td>\n",
       "      <td>810322</td>\n",
       "      <td>4</td>\n",
       "    </tr>\n",
       "  </tbody>\n",
       "</table>\n",
       "<p>18728 rows × 14 columns</p>\n",
       "</div>"
      ],
      "text/plain": [
       "      category feature_danceability feature_energy feature_key  \\\n",
       "0       hiphop                0.849          0.424           5   \n",
       "1       hiphop                0.681           0.63           1   \n",
       "2       hiphop                0.711          0.611           1   \n",
       "3       hiphop                0.723          0.516          11   \n",
       "4       hiphop                 0.91          0.585          11   \n",
       "...        ...                  ...            ...         ...   \n",
       "18723     jazz                0.421         0.0952           6   \n",
       "18724     jazz                0.503          0.491           0   \n",
       "18725     jazz                0.644          0.594           5   \n",
       "18726     jazz                0.462          0.211           0   \n",
       "18727     jazz                0.309          0.837           2   \n",
       "\n",
       "      feature_loudness feature_mode feature_speechiness feature_acousticness  \\\n",
       "0               -9.579            0               0.324               0.0635   \n",
       "1               -5.585            1              0.0385              0.00383   \n",
       "2               -5.453            1               0.329              0.00575   \n",
       "3              -10.707            0               0.485              0.00311   \n",
       "4               -7.572            0               0.257               0.0536   \n",
       "...                ...          ...                 ...                  ...   \n",
       "18723          -12.561            1              0.0479                0.931   \n",
       "18724           -12.02            1              0.0295               0.0412   \n",
       "18725           -9.965            1               0.117                0.751   \n",
       "18726          -13.396            1              0.0586                0.665   \n",
       "18727           -8.135            1               0.131                0.085   \n",
       "\n",
       "      feature_instrumentalness feature_liveness feature_valence feature_tempo  \\\n",
       "0                            0           0.0834           0.153       145.887   \n",
       "1                            0            0.139           0.183       151.951   \n",
       "2                            0            0.231           0.144        134.14   \n",
       "3                     1.26e-06            0.115           0.223       155.967   \n",
       "4                            0            0.127           0.599       129.011   \n",
       "...                        ...              ...             ...           ...   \n",
       "18723                 0.000201            0.126          0.0773       109.698   \n",
       "18724                    0.922           0.0965           0.489       166.105   \n",
       "18725                    0.224            0.107           0.632        90.564   \n",
       "18726                    0.946            0.114           0.426       179.658   \n",
       "18727                    0.621            0.143           0.388       114.757   \n",
       "\n",
       "      feature_duration_ms feature_time_signature  \n",
       "0                  242966                      4  \n",
       "1                  161053                      4  \n",
       "2                  252070                      4  \n",
       "3                  123077                      4  \n",
       "4                  165067                      4  \n",
       "...                   ...                    ...  \n",
       "18723              177922                      4  \n",
       "18724              263447                      4  \n",
       "18725              494467                      4  \n",
       "18726               77190                      3  \n",
       "18727              810322                      4  \n",
       "\n",
       "[18728 rows x 14 columns]"
      ]
     },
     "execution_count": 24,
     "metadata": {},
     "output_type": "execute_result"
    }
   ],
   "source": [
    "# Drop unneeded columns\n",
    "columns_to_drop = [\n",
    "    \"category.name\",\n",
    "    \"category.playlist.id\",\n",
    "    \"category.playlist.name\",\n",
    "    \"category.playlist.track.id\",\n",
    "    \"category.playlist.track.name\",\n",
    "    \"category.playlist.track.album.id\",\n",
    "    \"category.playlist.track.album.name\",\n",
    "    \"category.playlist.track.artist\"\n",
    "    ]\n",
    "df = df.drop(columns=columns_to_drop)\n",
    "\n",
    "df = df.rename(columns={\n",
    "    \"category.id\": \"category\",\n",
    "    \"category.playlist.track.feature.danceability\": \"feature_danceability\",\n",
    "    \"category.playlist.track.feature.energy\": \"feature_energy\",\n",
    "    \"category.playlist.track.feature.key\": \"feature_key\",\n",
    "    \"category.playlist.track.feature.loudness\": \"feature_loudness\",\n",
    "    \"category.playlist.track.feature.mode\": \"feature_mode\",\n",
    "    \"category.playlist.track.feature.speechiness\": \"feature_speechiness\",\n",
    "    \"category.playlist.track.feature.acousticness\": \"feature_acousticness\",\n",
    "    \"category.playlist.track.feature.instrumentalness\": \"feature_instrumentalness\",\n",
    "    \"category.playlist.track.feature.liveness\": \"feature_liveness\",\n",
    "    \"category.playlist.track.feature.valence\": \"feature_valence\",\n",
    "    \"category.playlist.track.feature.tempo\": \"feature_tempo\",\n",
    "    \"category.playlist.track.feature.duration_ms\": \"feature_duration_ms\",\n",
    "    \"category.playlist.track.feature.time_signature\": \"feature_time_signature\"\n",
    "})\n",
    "df"
   ]
  },
  {
   "cell_type": "code",
   "execution_count": 25,
   "metadata": {},
   "outputs": [
    {
     "data": {
      "text/plain": [
       "category                    object\n",
       "feature_danceability        object\n",
       "feature_energy              object\n",
       "feature_key                 object\n",
       "feature_loudness            object\n",
       "feature_mode                object\n",
       "feature_speechiness         object\n",
       "feature_acousticness        object\n",
       "feature_instrumentalness    object\n",
       "feature_liveness            object\n",
       "feature_valence             object\n",
       "feature_tempo               object\n",
       "feature_duration_ms         object\n",
       "feature_time_signature      object\n",
       "dtype: object"
      ]
     },
     "execution_count": 25,
     "metadata": {},
     "output_type": "execute_result"
    }
   ],
   "source": [
    "df.dtypes"
   ]
  },
  {
   "cell_type": "code",
   "execution_count": 26,
   "metadata": {},
   "outputs": [
    {
     "data": {
      "text/html": [
       "<div>\n",
       "<style scoped>\n",
       "    .dataframe tbody tr th:only-of-type {\n",
       "        vertical-align: middle;\n",
       "    }\n",
       "\n",
       "    .dataframe tbody tr th {\n",
       "        vertical-align: top;\n",
       "    }\n",
       "\n",
       "    .dataframe thead th {\n",
       "        text-align: right;\n",
       "    }\n",
       "</style>\n",
       "<table border=\"1\" class=\"dataframe\">\n",
       "  <thead>\n",
       "    <tr style=\"text-align: right;\">\n",
       "      <th></th>\n",
       "      <th>target</th>\n",
       "      <th>category</th>\n",
       "    </tr>\n",
       "  </thead>\n",
       "  <tbody>\n",
       "    <tr>\n",
       "      <th>0</th>\n",
       "      <td>0</td>\n",
       "      <td>hiphop</td>\n",
       "    </tr>\n",
       "    <tr>\n",
       "      <th>1</th>\n",
       "      <td>0</td>\n",
       "      <td>hiphop</td>\n",
       "    </tr>\n",
       "    <tr>\n",
       "      <th>2</th>\n",
       "      <td>0</td>\n",
       "      <td>hiphop</td>\n",
       "    </tr>\n",
       "    <tr>\n",
       "      <th>3</th>\n",
       "      <td>0</td>\n",
       "      <td>hiphop</td>\n",
       "    </tr>\n",
       "    <tr>\n",
       "      <th>4</th>\n",
       "      <td>0</td>\n",
       "      <td>hiphop</td>\n",
       "    </tr>\n",
       "  </tbody>\n",
       "</table>\n",
       "</div>"
      ],
      "text/plain": [
       "   target category\n",
       "0       0   hiphop\n",
       "1       0   hiphop\n",
       "2       0   hiphop\n",
       "3       0   hiphop\n",
       "4       0   hiphop"
      ]
     },
     "execution_count": 26,
     "metadata": {},
     "output_type": "execute_result"
    }
   ],
   "source": [
    "# sklearn takes the features and labels as seperate lists\n",
    "# df needs to be split\n",
    "def encode_target(df, target_column):\n",
    "\n",
    "    df_mod = df.copy()\n",
    "    map_to_int = {name: n for n, name in enumerate(df_mod[\"category\"].unique())}\n",
    "    df_mod[\"target\"] = df_mod[target_column].replace(map_to_int)\n",
    "\n",
    "    return (df_mod)\n",
    "\n",
    "df_target = encode_target(df, \"category\")\n",
    "\n",
    "# Target to category mapping\n",
    "df_target[[\"target\", \"category\"]].head()"
   ]
  },
  {
   "cell_type": "code",
   "execution_count": 27,
   "metadata": {},
   "outputs": [
    {
     "data": {
      "text/plain": [
       "array(['hiphop', 'rock', 'jazz'], dtype=object)"
      ]
     },
     "execution_count": 27,
     "metadata": {},
     "output_type": "execute_result"
    }
   ],
   "source": [
    "# Possible values for category\n",
    "targets = df_target[\"category\"].unique()\n",
    "targets"
   ]
  },
  {
   "cell_type": "markdown",
   "metadata": {},
   "source": [
    "### Train model"
   ]
  },
  {
   "cell_type": "code",
   "execution_count": 28,
   "metadata": {},
   "outputs": [
    {
     "name": "stdout",
     "output_type": "stream",
     "text": [
      "Number of rows in train:  14982\n",
      "Number of rows in test:  3746\n"
     ]
    }
   ],
   "source": [
    "from sklearn.model_selection import train_test_split\n",
    "from sklearn.tree import DecisionTreeClassifier\n",
    "\n",
    "# Split test and training data\n",
    "\n",
    "train, test = train_test_split(df_target, test_size=0.2, random_state=45, shuffle=True)\n",
    "print(\"Number of rows in train: \", train.shape[0])\n",
    "print(\"Number of rows in test: \", test.shape[0])"
   ]
  },
  {
   "cell_type": "code",
   "execution_count": 29,
   "metadata": {},
   "outputs": [
    {
     "data": {
      "text/plain": [
       "['feature_danceability',\n",
       " 'feature_energy',\n",
       " 'feature_key',\n",
       " 'feature_loudness',\n",
       " 'feature_mode',\n",
       " 'feature_speechiness',\n",
       " 'feature_acousticness',\n",
       " 'feature_instrumentalness',\n",
       " 'feature_liveness',\n",
       " 'feature_valence',\n",
       " 'feature_tempo',\n",
       " 'feature_duration_ms',\n",
       " 'feature_time_signature']"
      ]
     },
     "execution_count": 29,
     "metadata": {},
     "output_type": "execute_result"
    }
   ],
   "source": [
    "# List of feature names\n",
    "\n",
    "features = list(train.columns[1:14])\n",
    "features"
   ]
  },
  {
   "cell_type": "code",
   "execution_count": 30,
   "metadata": {},
   "outputs": [
    {
     "data": {
      "text/plain": [
       "DecisionTreeClassifier(min_samples_split=20, random_state=45)"
      ]
     },
     "execution_count": 30,
     "metadata": {},
     "output_type": "execute_result"
    }
   ],
   "source": [
    "# Y is list containing all target values\n",
    "Y = train[\"target\"]\n",
    "# X is dataframe containing all feature columns\n",
    "X = train[features]\n",
    "\n",
    "# Create decision tree classifier object\n",
    "dt = DecisionTreeClassifier(min_samples_split=20, random_state=45)\n",
    "\n",
    "# Fit model\n",
    "dt.fit(X, Y)"
   ]
  },
  {
   "cell_type": "code",
   "execution_count": 31,
   "metadata": {},
   "outputs": [
    {
     "data": {
      "text/plain": [
       "0.8569140416444208"
      ]
     },
     "execution_count": 31,
     "metadata": {},
     "output_type": "execute_result"
    }
   ],
   "source": [
    "# Calculate accuracy score using the test features and target\n",
    "\n",
    "dt.score(test[features], test[\"target\"])"
   ]
  },
  {
   "cell_type": "code",
   "execution_count": 36,
   "metadata": {},
   "outputs": [
    {
     "data": {
      "text/plain": [
       "<bound method Source.save of <graphviz.sources.Source object at 0x28097a970>>"
      ]
     },
     "execution_count": 36,
     "metadata": {},
     "output_type": "execute_result"
    }
   ],
   "source": [
    "# save graphical decision tree\n",
    "import graphviz\n",
    "from sklearn import tree\n",
    "\n",
    "dot_data = tree.export_graphviz(dt, \n",
    " \n",
    "                  filled=True, rounded=True,  \n",
    "                  special_characters=True,\n",
    "                   out_file=None,\n",
    "                           )\n",
    "\n",
    "graph = graphviz.Source(dot_data)\n",
    "graph.save"
   ]
  }
 ],
 "metadata": {
  "interpreter": {
   "hash": "ad8ea1ca2c3100f837f77f5359f58fe369343b03ee98bfa1f205f8bd1ca00237"
  },
  "kernelspec": {
   "display_name": "Python 3.8.10 64-bit ('env': venv)",
   "language": "python",
   "name": "python3"
  },
  "language_info": {
   "codemirror_mode": {
    "name": "ipython",
    "version": 3
   },
   "file_extension": ".py",
   "mimetype": "text/x-python",
   "name": "python",
   "nbconvert_exporter": "python",
   "pygments_lexer": "ipython3",
   "version": "3.8.10"
  },
  "orig_nbformat": 4
 },
 "nbformat": 4,
 "nbformat_minor": 2
}
