{
 "cells": [
  {
   "cell_type": "markdown",
   "metadata": {},
   "source": [
    "### Data Preparation"
   ]
  },
  {
   "cell_type": "code",
   "execution_count": 1,
   "metadata": {},
   "outputs": [
    {
     "ename": "ModuleNotFoundError",
     "evalue": "No module named 'tensorflow'",
     "output_type": "error",
     "traceback": [
      "\u001b[0;31m---------------------------------------------------------------------------\u001b[0m",
      "\u001b[0;31mModuleNotFoundError\u001b[0m                       Traceback (most recent call last)",
      "\u001b[0;32m/tmp/ipykernel_11428/3734230025.py\u001b[0m in \u001b[0;36m<module>\u001b[0;34m\u001b[0m\n\u001b[1;32m      1\u001b[0m \u001b[0;32mimport\u001b[0m \u001b[0mnumpy\u001b[0m \u001b[0;32mas\u001b[0m \u001b[0mnp\u001b[0m\u001b[0;34m\u001b[0m\u001b[0;34m\u001b[0m\u001b[0m\n\u001b[1;32m      2\u001b[0m \u001b[0;32mimport\u001b[0m \u001b[0mpandas\u001b[0m \u001b[0;32mas\u001b[0m \u001b[0mpd\u001b[0m\u001b[0;34m\u001b[0m\u001b[0;34m\u001b[0m\u001b[0m\n\u001b[0;32m----> 3\u001b[0;31m \u001b[0;32mimport\u001b[0m \u001b[0mtensorflow\u001b[0m \u001b[0;32mas\u001b[0m \u001b[0mtf\u001b[0m\u001b[0;34m\u001b[0m\u001b[0;34m\u001b[0m\u001b[0m\n\u001b[0m\u001b[1;32m      4\u001b[0m \u001b[0;32mimport\u001b[0m \u001b[0mjson\u001b[0m\u001b[0;34m\u001b[0m\u001b[0;34m\u001b[0m\u001b[0m\n\u001b[1;32m      5\u001b[0m \u001b[0;32mimport\u001b[0m \u001b[0mos\u001b[0m\u001b[0;34m\u001b[0m\u001b[0;34m\u001b[0m\u001b[0m\n",
      "\u001b[0;31mModuleNotFoundError\u001b[0m: No module named 'tensorflow'"
     ]
    }
   ],
   "source": [
    "import numpy as np\n",
    "import pandas as pd\n",
    "import tensorflow as tf\n",
    "import json\n",
    "import os\n",
    "\n",
    "# result.json contains flattened json (so list of dicts)\n",
    "f = open(os.path.join(os.getcwd(), \"..\", \"data_collection\", \"json\", \"flat_json_hiphop_rock_jazz.json\"))\n",
    "json_data = json.load(f)\n",
    "\n",
    "# Convert list of dicts to dataframe\n",
    "df = pd.DataFrame(json_data) \n",
    "df"
   ]
  },
  {
   "cell_type": "code",
   "execution_count": 3,
   "metadata": {},
   "outputs": [
    {
     "data": {
      "text/html": [
       "<div>\n",
       "<style scoped>\n",
       "    .dataframe tbody tr th:only-of-type {\n",
       "        vertical-align: middle;\n",
       "    }\n",
       "\n",
       "    .dataframe tbody tr th {\n",
       "        vertical-align: top;\n",
       "    }\n",
       "\n",
       "    .dataframe thead th {\n",
       "        text-align: right;\n",
       "    }\n",
       "</style>\n",
       "<table border=\"1\" class=\"dataframe\">\n",
       "  <thead>\n",
       "    <tr style=\"text-align: right;\">\n",
       "      <th></th>\n",
       "      <th>category</th>\n",
       "      <th>feature_danceability</th>\n",
       "      <th>feature_energy</th>\n",
       "      <th>feature_key</th>\n",
       "      <th>feature_loudness</th>\n",
       "      <th>feature_mode</th>\n",
       "      <th>feature_speechiness</th>\n",
       "      <th>feature_acousticness</th>\n",
       "      <th>feature_instrumentalness</th>\n",
       "      <th>feature_liveness</th>\n",
       "      <th>feature_valence</th>\n",
       "      <th>feature_tempo</th>\n",
       "      <th>feature_duration_ms</th>\n",
       "      <th>feature_time_signature</th>\n",
       "    </tr>\n",
       "  </thead>\n",
       "  <tbody>\n",
       "    <tr>\n",
       "      <th>0</th>\n",
       "      <td>hiphop</td>\n",
       "      <td>0.849</td>\n",
       "      <td>0.424</td>\n",
       "      <td>5</td>\n",
       "      <td>-9.579</td>\n",
       "      <td>0</td>\n",
       "      <td>0.324</td>\n",
       "      <td>0.0635</td>\n",
       "      <td>0</td>\n",
       "      <td>0.0834</td>\n",
       "      <td>0.153</td>\n",
       "      <td>145.887</td>\n",
       "      <td>242966</td>\n",
       "      <td>4</td>\n",
       "    </tr>\n",
       "    <tr>\n",
       "      <th>1</th>\n",
       "      <td>hiphop</td>\n",
       "      <td>0.681</td>\n",
       "      <td>0.63</td>\n",
       "      <td>1</td>\n",
       "      <td>-5.585</td>\n",
       "      <td>1</td>\n",
       "      <td>0.0385</td>\n",
       "      <td>0.00383</td>\n",
       "      <td>0</td>\n",
       "      <td>0.139</td>\n",
       "      <td>0.183</td>\n",
       "      <td>151.951</td>\n",
       "      <td>161053</td>\n",
       "      <td>4</td>\n",
       "    </tr>\n",
       "    <tr>\n",
       "      <th>2</th>\n",
       "      <td>hiphop</td>\n",
       "      <td>0.711</td>\n",
       "      <td>0.611</td>\n",
       "      <td>1</td>\n",
       "      <td>-5.453</td>\n",
       "      <td>1</td>\n",
       "      <td>0.329</td>\n",
       "      <td>0.00575</td>\n",
       "      <td>0</td>\n",
       "      <td>0.231</td>\n",
       "      <td>0.144</td>\n",
       "      <td>134.14</td>\n",
       "      <td>252070</td>\n",
       "      <td>4</td>\n",
       "    </tr>\n",
       "    <tr>\n",
       "      <th>3</th>\n",
       "      <td>hiphop</td>\n",
       "      <td>0.723</td>\n",
       "      <td>0.516</td>\n",
       "      <td>11</td>\n",
       "      <td>-10.707</td>\n",
       "      <td>0</td>\n",
       "      <td>0.485</td>\n",
       "      <td>0.00311</td>\n",
       "      <td>1.26e-06</td>\n",
       "      <td>0.115</td>\n",
       "      <td>0.223</td>\n",
       "      <td>155.967</td>\n",
       "      <td>123077</td>\n",
       "      <td>4</td>\n",
       "    </tr>\n",
       "    <tr>\n",
       "      <th>4</th>\n",
       "      <td>hiphop</td>\n",
       "      <td>0.91</td>\n",
       "      <td>0.585</td>\n",
       "      <td>11</td>\n",
       "      <td>-7.572</td>\n",
       "      <td>0</td>\n",
       "      <td>0.257</td>\n",
       "      <td>0.0536</td>\n",
       "      <td>0</td>\n",
       "      <td>0.127</td>\n",
       "      <td>0.599</td>\n",
       "      <td>129.011</td>\n",
       "      <td>165067</td>\n",
       "      <td>4</td>\n",
       "    </tr>\n",
       "    <tr>\n",
       "      <th>...</th>\n",
       "      <td>...</td>\n",
       "      <td>...</td>\n",
       "      <td>...</td>\n",
       "      <td>...</td>\n",
       "      <td>...</td>\n",
       "      <td>...</td>\n",
       "      <td>...</td>\n",
       "      <td>...</td>\n",
       "      <td>...</td>\n",
       "      <td>...</td>\n",
       "      <td>...</td>\n",
       "      <td>...</td>\n",
       "      <td>...</td>\n",
       "      <td>...</td>\n",
       "    </tr>\n",
       "    <tr>\n",
       "      <th>18723</th>\n",
       "      <td>jazz</td>\n",
       "      <td>0.421</td>\n",
       "      <td>0.0952</td>\n",
       "      <td>6</td>\n",
       "      <td>-12.561</td>\n",
       "      <td>1</td>\n",
       "      <td>0.0479</td>\n",
       "      <td>0.931</td>\n",
       "      <td>0.000201</td>\n",
       "      <td>0.126</td>\n",
       "      <td>0.0773</td>\n",
       "      <td>109.698</td>\n",
       "      <td>177922</td>\n",
       "      <td>4</td>\n",
       "    </tr>\n",
       "    <tr>\n",
       "      <th>18724</th>\n",
       "      <td>jazz</td>\n",
       "      <td>0.503</td>\n",
       "      <td>0.491</td>\n",
       "      <td>0</td>\n",
       "      <td>-12.02</td>\n",
       "      <td>1</td>\n",
       "      <td>0.0295</td>\n",
       "      <td>0.0412</td>\n",
       "      <td>0.922</td>\n",
       "      <td>0.0965</td>\n",
       "      <td>0.489</td>\n",
       "      <td>166.105</td>\n",
       "      <td>263447</td>\n",
       "      <td>4</td>\n",
       "    </tr>\n",
       "    <tr>\n",
       "      <th>18725</th>\n",
       "      <td>jazz</td>\n",
       "      <td>0.644</td>\n",
       "      <td>0.594</td>\n",
       "      <td>5</td>\n",
       "      <td>-9.965</td>\n",
       "      <td>1</td>\n",
       "      <td>0.117</td>\n",
       "      <td>0.751</td>\n",
       "      <td>0.224</td>\n",
       "      <td>0.107</td>\n",
       "      <td>0.632</td>\n",
       "      <td>90.564</td>\n",
       "      <td>494467</td>\n",
       "      <td>4</td>\n",
       "    </tr>\n",
       "    <tr>\n",
       "      <th>18726</th>\n",
       "      <td>jazz</td>\n",
       "      <td>0.462</td>\n",
       "      <td>0.211</td>\n",
       "      <td>0</td>\n",
       "      <td>-13.396</td>\n",
       "      <td>1</td>\n",
       "      <td>0.0586</td>\n",
       "      <td>0.665</td>\n",
       "      <td>0.946</td>\n",
       "      <td>0.114</td>\n",
       "      <td>0.426</td>\n",
       "      <td>179.658</td>\n",
       "      <td>77190</td>\n",
       "      <td>3</td>\n",
       "    </tr>\n",
       "    <tr>\n",
       "      <th>18727</th>\n",
       "      <td>jazz</td>\n",
       "      <td>0.309</td>\n",
       "      <td>0.837</td>\n",
       "      <td>2</td>\n",
       "      <td>-8.135</td>\n",
       "      <td>1</td>\n",
       "      <td>0.131</td>\n",
       "      <td>0.085</td>\n",
       "      <td>0.621</td>\n",
       "      <td>0.143</td>\n",
       "      <td>0.388</td>\n",
       "      <td>114.757</td>\n",
       "      <td>810322</td>\n",
       "      <td>4</td>\n",
       "    </tr>\n",
       "  </tbody>\n",
       "</table>\n",
       "<p>18728 rows × 14 columns</p>\n",
       "</div>"
      ],
      "text/plain": [
       "      category feature_danceability feature_energy feature_key  \\\n",
       "0       hiphop                0.849          0.424           5   \n",
       "1       hiphop                0.681           0.63           1   \n",
       "2       hiphop                0.711          0.611           1   \n",
       "3       hiphop                0.723          0.516          11   \n",
       "4       hiphop                 0.91          0.585          11   \n",
       "...        ...                  ...            ...         ...   \n",
       "18723     jazz                0.421         0.0952           6   \n",
       "18724     jazz                0.503          0.491           0   \n",
       "18725     jazz                0.644          0.594           5   \n",
       "18726     jazz                0.462          0.211           0   \n",
       "18727     jazz                0.309          0.837           2   \n",
       "\n",
       "      feature_loudness feature_mode feature_speechiness feature_acousticness  \\\n",
       "0               -9.579            0               0.324               0.0635   \n",
       "1               -5.585            1              0.0385              0.00383   \n",
       "2               -5.453            1               0.329              0.00575   \n",
       "3              -10.707            0               0.485              0.00311   \n",
       "4               -7.572            0               0.257               0.0536   \n",
       "...                ...          ...                 ...                  ...   \n",
       "18723          -12.561            1              0.0479                0.931   \n",
       "18724           -12.02            1              0.0295               0.0412   \n",
       "18725           -9.965            1               0.117                0.751   \n",
       "18726          -13.396            1              0.0586                0.665   \n",
       "18727           -8.135            1               0.131                0.085   \n",
       "\n",
       "      feature_instrumentalness feature_liveness feature_valence feature_tempo  \\\n",
       "0                            0           0.0834           0.153       145.887   \n",
       "1                            0            0.139           0.183       151.951   \n",
       "2                            0            0.231           0.144        134.14   \n",
       "3                     1.26e-06            0.115           0.223       155.967   \n",
       "4                            0            0.127           0.599       129.011   \n",
       "...                        ...              ...             ...           ...   \n",
       "18723                 0.000201            0.126          0.0773       109.698   \n",
       "18724                    0.922           0.0965           0.489       166.105   \n",
       "18725                    0.224            0.107           0.632        90.564   \n",
       "18726                    0.946            0.114           0.426       179.658   \n",
       "18727                    0.621            0.143           0.388       114.757   \n",
       "\n",
       "      feature_duration_ms feature_time_signature  \n",
       "0                  242966                      4  \n",
       "1                  161053                      4  \n",
       "2                  252070                      4  \n",
       "3                  123077                      4  \n",
       "4                  165067                      4  \n",
       "...                   ...                    ...  \n",
       "18723              177922                      4  \n",
       "18724              263447                      4  \n",
       "18725              494467                      4  \n",
       "18726               77190                      3  \n",
       "18727              810322                      4  \n",
       "\n",
       "[18728 rows x 14 columns]"
      ]
     },
     "execution_count": 3,
     "metadata": {},
     "output_type": "execute_result"
    }
   ],
   "source": [
    "# Drop unneeded columns\n",
    "columns_to_drop = [\n",
    "    \"category.name\",\n",
    "    \"category.playlist.id\",\n",
    "    \"category.playlist.name\",\n",
    "    \"category.playlist.track.id\",\n",
    "    \"category.playlist.track.name\",\n",
    "    \"category.playlist.track.album.id\",\n",
    "    \"category.playlist.track.album.name\",\n",
    "    \"category.playlist.track.artist\"\n",
    "    ]\n",
    "df = df.drop(columns=columns_to_drop)\n",
    "\n",
    "df = df.rename(columns={\n",
    "    \"category.id\": \"category\",\n",
    "    \"category.playlist.track.feature.danceability\": \"feature_danceability\",\n",
    "    \"category.playlist.track.feature.energy\": \"feature_energy\",\n",
    "    \"category.playlist.track.feature.key\": \"feature_key\",\n",
    "    \"category.playlist.track.feature.loudness\": \"feature_loudness\",\n",
    "    \"category.playlist.track.feature.mode\": \"feature_mode\",\n",
    "    \"category.playlist.track.feature.speechiness\": \"feature_speechiness\",\n",
    "    \"category.playlist.track.feature.acousticness\": \"feature_acousticness\",\n",
    "    \"category.playlist.track.feature.instrumentalness\": \"feature_instrumentalness\",\n",
    "    \"category.playlist.track.feature.liveness\": \"feature_liveness\",\n",
    "    \"category.playlist.track.feature.valence\": \"feature_valence\",\n",
    "    \"category.playlist.track.feature.tempo\": \"feature_tempo\",\n",
    "    \"category.playlist.track.feature.duration_ms\": \"feature_duration_ms\",\n",
    "    \"category.playlist.track.feature.time_signature\": \"feature_time_signature\"\n",
    "})\n",
    "df"
   ]
  },
  {
   "cell_type": "code",
   "execution_count": 4,
   "metadata": {},
   "outputs": [
    {
     "name": "stdout",
     "output_type": "stream",
     "text": [
      "Number of rows in train:  14982\n",
      "Number of rows in test:  3746\n"
     ]
    }
   ],
   "source": [
    "from sklearn.model_selection import train_test_split\n",
    "\n",
    "# Shuffle then split test and training data\n",
    "df_target_shuffled = df.sample(frac=1, random_state=45)\n",
    "train, test = train_test_split(df_target_shuffled, test_size=0.2, random_state=45, shuffle=False)\n",
    "print(\"Number of rows in train: \", train.shape[0])\n",
    "print(\"Number of rows in test: \", test.shape[0])"
   ]
  },
  {
   "cell_type": "code",
   "execution_count": 5,
   "metadata": {},
   "outputs": [
    {
     "data": {
      "text/html": [
       "<div>\n",
       "<style scoped>\n",
       "    .dataframe tbody tr th:only-of-type {\n",
       "        vertical-align: middle;\n",
       "    }\n",
       "\n",
       "    .dataframe tbody tr th {\n",
       "        vertical-align: top;\n",
       "    }\n",
       "\n",
       "    .dataframe thead th {\n",
       "        text-align: right;\n",
       "    }\n",
       "</style>\n",
       "<table border=\"1\" class=\"dataframe\">\n",
       "  <thead>\n",
       "    <tr style=\"text-align: right;\">\n",
       "      <th></th>\n",
       "      <th>target</th>\n",
       "      <th>category</th>\n",
       "    </tr>\n",
       "  </thead>\n",
       "  <tbody>\n",
       "    <tr>\n",
       "      <th>5375</th>\n",
       "      <td>0</td>\n",
       "      <td>rock</td>\n",
       "    </tr>\n",
       "    <tr>\n",
       "      <th>1115</th>\n",
       "      <td>1</td>\n",
       "      <td>hiphop</td>\n",
       "    </tr>\n",
       "    <tr>\n",
       "      <th>10645</th>\n",
       "      <td>0</td>\n",
       "      <td>rock</td>\n",
       "    </tr>\n",
       "    <tr>\n",
       "      <th>15212</th>\n",
       "      <td>2</td>\n",
       "      <td>jazz</td>\n",
       "    </tr>\n",
       "    <tr>\n",
       "      <th>16506</th>\n",
       "      <td>2</td>\n",
       "      <td>jazz</td>\n",
       "    </tr>\n",
       "  </tbody>\n",
       "</table>\n",
       "</div>"
      ],
      "text/plain": [
       "       target category\n",
       "5375        0     rock\n",
       "1115        1   hiphop\n",
       "10645       0     rock\n",
       "15212       2     jazz\n",
       "16506       2     jazz"
      ]
     },
     "execution_count": 5,
     "metadata": {},
     "output_type": "execute_result"
    }
   ],
   "source": [
    "# sklearn takes the features and labels as seperate lists\n",
    "# df needs to be split\n",
    "def encode_target(df, target_column):\n",
    "\n",
    "    df_mod = df.copy()\n",
    "    map_to_int = {name: n for n, name in enumerate(df_mod[\"category\"].unique())}\n",
    "    df_mod[\"target\"] = df_mod[target_column].replace(map_to_int)\n",
    "\n",
    "    return (df_mod)\n",
    "\n",
    "train = encode_target(train, \"category\")\n",
    "\n",
    "# Target to category mapping\n",
    "train[[\"target\", \"category\"]].head()"
   ]
  },
  {
   "cell_type": "code",
   "execution_count": 6,
   "metadata": {},
   "outputs": [
    {
     "data": {
      "text/plain": [
       "category                     object\n",
       "feature_danceability        float32\n",
       "feature_energy              float32\n",
       "feature_key                   int16\n",
       "feature_loudness            float32\n",
       "feature_mode                  int16\n",
       "feature_speechiness         float32\n",
       "feature_acousticness        float32\n",
       "feature_instrumentalness    float32\n",
       "feature_liveness            float32\n",
       "feature_valence             float32\n",
       "feature_tempo               float32\n",
       "feature_duration_ms           int16\n",
       "feature_time_signature        int16\n",
       "target                        int16\n",
       "dtype: object"
      ]
     },
     "execution_count": 6,
     "metadata": {},
     "output_type": "execute_result"
    }
   ],
   "source": [
    "train = train.astype(\n",
    "    {\n",
    "        \"category\": str,\n",
    "        \"feature_danceability\": np.float32,\n",
    "        \"feature_energy\": np.float32,\n",
    "        \"feature_key\": np.int16,\n",
    "        \"feature_loudness\": np.float32,\n",
    "        \"feature_mode\": np.int16,\n",
    "        \"feature_speechiness\": np.float32,\n",
    "        \"feature_acousticness\": np.float32,\n",
    "        \"feature_instrumentalness\": np.float32,\n",
    "        \"feature_liveness\": np.float32,\n",
    "        \"feature_valence\": np.float32,\n",
    "        \"feature_tempo\": np.float32,\n",
    "        \"feature_duration_ms\": np.int16,\n",
    "        \"feature_time_signature\": np.int16,\n",
    "        \"target\": np.int16,\n",
    "    }\n",
    ")\n",
    "train.dtypes"
   ]
  },
  {
   "cell_type": "code",
   "execution_count": 7,
   "metadata": {},
   "outputs": [
    {
     "data": {
      "text/plain": [
       "<TensorSliceDataset shapes: ((13,), ()), types: (tf.float32, tf.int16)>"
      ]
     },
     "execution_count": 7,
     "metadata": {},
     "output_type": "execute_result"
    }
   ],
   "source": [
    "train.pop(\"category\")\n",
    "train_target = train.pop(\"target\")\n",
    "dataset = tf.data.Dataset.from_tensor_slices((train.values, train_target.values))\n",
    "dataset"
   ]
  },
  {
   "cell_type": "code",
   "execution_count": 8,
   "metadata": {},
   "outputs": [
    {
     "name": "stdout",
     "output_type": "stream",
     "text": [
      "Features: [ 6.24000e-01  8.99000e-01  0.00000e+00 -5.70900e+00  1.00000e+00\n",
      "  2.96000e-02  2.21000e-02  1.37000e-04  9.75000e-02  7.90000e-01\n",
      "  1.04061e+02 -3.23500e+03  4.00000e+00], Target: 0\n",
      "Features: [ 6.63000e-01  3.51000e-01  5.00000e+00 -1.20640e+01  0.00000e+00\n",
      "  3.90000e-01  4.06000e-01  0.00000e+00  1.47000e-01  4.77000e-01\n",
      "  1.18505e+02 -3.58000e+02  4.00000e+00], Target: 1\n",
      "Features: [ 4.3200e-01  8.8600e-01  8.0000e+00 -3.9910e+00  1.0000e+00  3.4100e-02\n",
      "  9.2000e-05  4.7400e-05  3.3800e-01  2.4800e-01  7.6040e+01 -2.0035e+04\n",
      "  4.0000e+00], Target: 0\n",
      "Features: [ 3.0900e-01  1.0400e-01  0.0000e+00 -2.3378e+01  1.0000e+00  4.2800e-02\n",
      "  9.7600e-01  9.1800e-01  1.4900e-01  7.7900e-02  5.0329e+01 -2.1001e+04\n",
      "  4.0000e+00], Target: 2\n",
      "Features: [ 6.81000e-01  6.19000e-01  4.00000e+00 -8.62900e+00  1.00000e+00\n",
      "  3.45000e-02  4.03000e-01  8.20000e-01  5.81000e-02  1.34000e-01\n",
      "  1.38006e+02  3.92700e+03  4.00000e+00], Target: 2\n"
     ]
    }
   ],
   "source": [
    "for feat, targ in dataset.take(5):\n",
    "  print ('Features: {}, Target: {}'.format(feat, targ))"
   ]
  },
  {
   "cell_type": "code",
   "execution_count": 9,
   "metadata": {},
   "outputs": [
    {
     "ename": "ValueError",
     "evalue": "in user code:\n\n    File \"/home/luisp/development/spotify-genre-prediction/env/lib/python3.8/site-packages/keras/engine/training.py\", line 878, in train_function  *\n        return step_function(self, iterator)\n    File \"/home/luisp/development/spotify-genre-prediction/env/lib/python3.8/site-packages/keras/engine/training.py\", line 867, in step_function  **\n        outputs = model.distribute_strategy.run(run_step, args=(data,))\n    File \"/home/luisp/development/spotify-genre-prediction/env/lib/python3.8/site-packages/keras/engine/training.py\", line 860, in run_step  **\n        outputs = model.train_step(data)\n    File \"/home/luisp/development/spotify-genre-prediction/env/lib/python3.8/site-packages/keras/engine/training.py\", line 816, in train_step\n        self.optimizer.minimize(loss, self.trainable_variables, tape=tape)\n    File \"/home/luisp/development/spotify-genre-prediction/env/lib/python3.8/site-packages/keras/optimizer_v2/optimizer_v2.py\", line 532, in minimize\n        return self.apply_gradients(grads_and_vars, name=name)\n    File \"/home/luisp/development/spotify-genre-prediction/env/lib/python3.8/site-packages/keras/optimizer_v2/optimizer_v2.py\", line 633, in apply_gradients\n        grads_and_vars = optimizer_utils.filter_empty_gradients(grads_and_vars)\n    File \"/home/luisp/development/spotify-genre-prediction/env/lib/python3.8/site-packages/keras/optimizer_v2/utils.py\", line 73, in filter_empty_gradients\n        raise ValueError(f\"No gradients provided for any variable: {variable}. \"\n\n    ValueError: No gradients provided for any variable: (['dense_1/kernel:0', 'dense_1/bias:0'],). Provided `grads_and_vars` is ((None, <tf.Variable 'dense_1/kernel:0' shape=(13, 1) dtype=float32>), (None, <tf.Variable 'dense_1/bias:0' shape=(1,) dtype=float32>)).\n",
     "output_type": "error",
     "traceback": [
      "\u001b[0;31m---------------------------------------------------------------------------\u001b[0m",
      "\u001b[0;31mValueError\u001b[0m                                Traceback (most recent call last)",
      "\u001b[0;32m/tmp/ipykernel_725/3868019411.py\u001b[0m in \u001b[0;36m<module>\u001b[0;34m\u001b[0m\n\u001b[1;32m      2\u001b[0m \u001b[0mmodel\u001b[0m \u001b[0;34m=\u001b[0m \u001b[0mks\u001b[0m\u001b[0;34m.\u001b[0m\u001b[0mmodels\u001b[0m\u001b[0;34m.\u001b[0m\u001b[0mSequential\u001b[0m\u001b[0;34m(\u001b[0m\u001b[0;34m[\u001b[0m\u001b[0mks\u001b[0m\u001b[0;34m.\u001b[0m\u001b[0mlayers\u001b[0m\u001b[0;34m.\u001b[0m\u001b[0mDense\u001b[0m\u001b[0;34m(\u001b[0m\u001b[0;36m1\u001b[0m\u001b[0;34m)\u001b[0m\u001b[0;34m]\u001b[0m\u001b[0;34m)\u001b[0m\u001b[0;34m\u001b[0m\u001b[0;34m\u001b[0m\u001b[0m\n\u001b[1;32m      3\u001b[0m \u001b[0mmodel\u001b[0m\u001b[0;34m.\u001b[0m\u001b[0mcompile\u001b[0m\u001b[0;34m(\u001b[0m\u001b[0;34m)\u001b[0m\u001b[0;34m\u001b[0m\u001b[0;34m\u001b[0m\u001b[0m\n\u001b[0;32m----> 4\u001b[0;31m \u001b[0mmodel\u001b[0m\u001b[0;34m.\u001b[0m\u001b[0mfit\u001b[0m\u001b[0;34m(\u001b[0m\u001b[0mdataset\u001b[0m\u001b[0;34m.\u001b[0m\u001b[0mbatch\u001b[0m\u001b[0;34m(\u001b[0m\u001b[0;36m1\u001b[0m\u001b[0;34m)\u001b[0m\u001b[0;34m)\u001b[0m\u001b[0;34m\u001b[0m\u001b[0;34m\u001b[0m\u001b[0m\n\u001b[0m",
      "\u001b[0;32m/home/luisp/development/spotify-genre-prediction/env/lib/python3.8/site-packages/keras/utils/traceback_utils.py\u001b[0m in \u001b[0;36merror_handler\u001b[0;34m(*args, **kwargs)\u001b[0m\n\u001b[1;32m     65\u001b[0m     \u001b[0;32mexcept\u001b[0m \u001b[0mException\u001b[0m \u001b[0;32mas\u001b[0m \u001b[0me\u001b[0m\u001b[0;34m:\u001b[0m  \u001b[0;31m# pylint: disable=broad-except\u001b[0m\u001b[0;34m\u001b[0m\u001b[0;34m\u001b[0m\u001b[0m\n\u001b[1;32m     66\u001b[0m       \u001b[0mfiltered_tb\u001b[0m \u001b[0;34m=\u001b[0m \u001b[0m_process_traceback_frames\u001b[0m\u001b[0;34m(\u001b[0m\u001b[0me\u001b[0m\u001b[0;34m.\u001b[0m\u001b[0m__traceback__\u001b[0m\u001b[0;34m)\u001b[0m\u001b[0;34m\u001b[0m\u001b[0;34m\u001b[0m\u001b[0m\n\u001b[0;32m---> 67\u001b[0;31m       \u001b[0;32mraise\u001b[0m \u001b[0me\u001b[0m\u001b[0;34m.\u001b[0m\u001b[0mwith_traceback\u001b[0m\u001b[0;34m(\u001b[0m\u001b[0mfiltered_tb\u001b[0m\u001b[0;34m)\u001b[0m \u001b[0;32mfrom\u001b[0m \u001b[0;32mNone\u001b[0m\u001b[0;34m\u001b[0m\u001b[0;34m\u001b[0m\u001b[0m\n\u001b[0m\u001b[1;32m     68\u001b[0m     \u001b[0;32mfinally\u001b[0m\u001b[0;34m:\u001b[0m\u001b[0;34m\u001b[0m\u001b[0;34m\u001b[0m\u001b[0m\n\u001b[1;32m     69\u001b[0m       \u001b[0;32mdel\u001b[0m \u001b[0mfiltered_tb\u001b[0m\u001b[0;34m\u001b[0m\u001b[0;34m\u001b[0m\u001b[0m\n",
      "\u001b[0;32m/home/luisp/development/spotify-genre-prediction/env/lib/python3.8/site-packages/tensorflow/python/framework/func_graph.py\u001b[0m in \u001b[0;36mautograph_handler\u001b[0;34m(*args, **kwargs)\u001b[0m\n\u001b[1;32m   1127\u001b[0m           \u001b[0;32mexcept\u001b[0m \u001b[0mException\u001b[0m \u001b[0;32mas\u001b[0m \u001b[0me\u001b[0m\u001b[0;34m:\u001b[0m  \u001b[0;31m# pylint:disable=broad-except\u001b[0m\u001b[0;34m\u001b[0m\u001b[0;34m\u001b[0m\u001b[0m\n\u001b[1;32m   1128\u001b[0m             \u001b[0;32mif\u001b[0m \u001b[0mhasattr\u001b[0m\u001b[0;34m(\u001b[0m\u001b[0me\u001b[0m\u001b[0;34m,\u001b[0m \u001b[0;34m\"ag_error_metadata\"\u001b[0m\u001b[0;34m)\u001b[0m\u001b[0;34m:\u001b[0m\u001b[0;34m\u001b[0m\u001b[0;34m\u001b[0m\u001b[0m\n\u001b[0;32m-> 1129\u001b[0;31m               \u001b[0;32mraise\u001b[0m \u001b[0me\u001b[0m\u001b[0;34m.\u001b[0m\u001b[0mag_error_metadata\u001b[0m\u001b[0;34m.\u001b[0m\u001b[0mto_exception\u001b[0m\u001b[0;34m(\u001b[0m\u001b[0me\u001b[0m\u001b[0;34m)\u001b[0m\u001b[0;34m\u001b[0m\u001b[0;34m\u001b[0m\u001b[0m\n\u001b[0m\u001b[1;32m   1130\u001b[0m             \u001b[0;32melse\u001b[0m\u001b[0;34m:\u001b[0m\u001b[0;34m\u001b[0m\u001b[0;34m\u001b[0m\u001b[0m\n\u001b[1;32m   1131\u001b[0m               \u001b[0;32mraise\u001b[0m\u001b[0;34m\u001b[0m\u001b[0;34m\u001b[0m\u001b[0m\n",
      "\u001b[0;31mValueError\u001b[0m: in user code:\n\n    File \"/home/luisp/development/spotify-genre-prediction/env/lib/python3.8/site-packages/keras/engine/training.py\", line 878, in train_function  *\n        return step_function(self, iterator)\n    File \"/home/luisp/development/spotify-genre-prediction/env/lib/python3.8/site-packages/keras/engine/training.py\", line 867, in step_function  **\n        outputs = model.distribute_strategy.run(run_step, args=(data,))\n    File \"/home/luisp/development/spotify-genre-prediction/env/lib/python3.8/site-packages/keras/engine/training.py\", line 860, in run_step  **\n        outputs = model.train_step(data)\n    File \"/home/luisp/development/spotify-genre-prediction/env/lib/python3.8/site-packages/keras/engine/training.py\", line 816, in train_step\n        self.optimizer.minimize(loss, self.trainable_variables, tape=tape)\n    File \"/home/luisp/development/spotify-genre-prediction/env/lib/python3.8/site-packages/keras/optimizer_v2/optimizer_v2.py\", line 532, in minimize\n        return self.apply_gradients(grads_and_vars, name=name)\n    File \"/home/luisp/development/spotify-genre-prediction/env/lib/python3.8/site-packages/keras/optimizer_v2/optimizer_v2.py\", line 633, in apply_gradients\n        grads_and_vars = optimizer_utils.filter_empty_gradients(grads_and_vars)\n    File \"/home/luisp/development/spotify-genre-prediction/env/lib/python3.8/site-packages/keras/optimizer_v2/utils.py\", line 73, in filter_empty_gradients\n        raise ValueError(f\"No gradients provided for any variable: {variable}. \"\n\n    ValueError: No gradients provided for any variable: (['dense_1/kernel:0', 'dense_1/bias:0'],). Provided `grads_and_vars` is ((None, <tf.Variable 'dense_1/kernel:0' shape=(13, 1) dtype=float32>), (None, <tf.Variable 'dense_1/bias:0' shape=(1,) dtype=float32>)).\n"
     ]
    }
   ],
   "source": [
    "import tensorflow.keras as ks\n",
    "model = ks.models.Sequential([ks.layers.Dense(1)])\n",
    "model.compile()\n",
    "model.fit(dataset.batch(1))"
   ]
  },
  {
   "cell_type": "code",
   "execution_count": 22,
   "metadata": {},
   "outputs": [
    {
     "name": "stdout",
     "output_type": "stream",
     "text": [
      "FEATURES:  ['feature_danceability', 'feature_energy', 'feature_key', 'feature_loudness', 'feature_mode', 'feature_speechiness', 'feature_acousticness', 'feature_instrumentalness', 'feature_liveness', 'feature_valence', 'feature_tempo', 'feature_duration_ms', 'feature_time_signature']\n",
      "NUMERIC_FEATURES:  ['feature_danceability', 'feature_energy', 'feature_loudness', 'feature_speechiness', 'feature_acousticness', 'feature_instrumentalness', 'feature_liveness', 'feature_valence', 'feature_tempo', 'feature_duration_ms']\n",
      "CATEGORICAL_FEATURES:  ['feature_key', 'feature_mode', 'feature_time_signature']\n"
     ]
    }
   ],
   "source": [
    "FEATURES = list(train.columns[1:14])\n",
    "CATEGORICAL_FEATURES = ['feature_key', 'feature_mode', 'feature_time_signature']\n",
    "NUMERIC_FEATURES = []\n",
    "for column in FEATURES:\n",
    "    if column not in CATEGORICAL_FEATURES:\n",
    "        NUMERIC_FEATURES.append(column)\n",
    "\n",
    "print(\"FEATURES: \", FEATURES)\n",
    "print(\"NUMERIC_FEATURES: \", NUMERIC_FEATURES)\n",
    "print(\"CATEGORICAL_FEATURES: \", CATEGORICAL_FEATURES)"
   ]
  },
  {
   "cell_type": "code",
   "execution_count": 25,
   "metadata": {},
   "outputs": [
    {
     "data": {
      "text/plain": [
       "array([['0.624', '0.899', '-5.709', ..., '0.79', '104.061', '193373'],\n",
       "       ['0.663', '0.351', '-12.064', ..., '0.477', '118.505', '196250'],\n",
       "       ['0.432', '0.886', '-3.991', ..., '0.248', '76.04', '307645'],\n",
       "       ...,\n",
       "       ['0.798', '0.574', '-6.548', ..., '0.309', '155.964', '138587'],\n",
       "       ['0.461', '0.858', '-6.598', ..., '0.564', '123.193', '259200'],\n",
       "       ['0.56', '0.843', '-4.188', ..., '0.892', '152.598', '201240']],\n",
       "      dtype=object)"
      ]
     },
     "execution_count": 25,
     "metadata": {},
     "output_type": "execute_result"
    }
   ],
   "source": [
    "train[NUMERIC_FEATURES].values"
   ]
  },
  {
   "cell_type": "code",
   "execution_count": 26,
   "metadata": {},
   "outputs": [
    {
     "name": "stderr",
     "output_type": "stream",
     "text": [
      "2021-12-12 15:19:35.532889: W tensorflow/core/framework/op_kernel.cc:1722] OP_REQUIRES failed at cast_op.cc:121 : UNIMPLEMENTED: Cast string to int16 is not supported\n"
     ]
    },
    {
     "ename": "UnimplementedError",
     "evalue": "Cast string to int16 is not supported [Op:Cast]",
     "output_type": "error",
     "traceback": [
      "\u001b[0;31m---------------------------------------------------------------------------\u001b[0m",
      "\u001b[0;31mUnimplementedError\u001b[0m                        Traceback (most recent call last)",
      "\u001b[0;32m/tmp/ipykernel_409/52145258.py\u001b[0m in \u001b[0;36m<module>\u001b[0;34m\u001b[0m\n\u001b[1;32m      1\u001b[0m tf.data.Dataset.from_tensor_slices(\n\u001b[1;32m      2\u001b[0m     (\n\u001b[0;32m----> 3\u001b[0;31m         \u001b[0mtf\u001b[0m\u001b[0;34m.\u001b[0m\u001b[0mcast\u001b[0m\u001b[0;34m(\u001b[0m\u001b[0mtrain\u001b[0m\u001b[0;34m[\u001b[0m\u001b[0mCATEGORICAL_FEATURES\u001b[0m\u001b[0;34m]\u001b[0m\u001b[0;34m.\u001b[0m\u001b[0mvalues\u001b[0m\u001b[0;34m,\u001b[0m \u001b[0mtf\u001b[0m\u001b[0;34m.\u001b[0m\u001b[0mint16\u001b[0m\u001b[0;34m)\u001b[0m\u001b[0;34m,\u001b[0m\u001b[0;34m\u001b[0m\u001b[0;34m\u001b[0m\u001b[0m\n\u001b[0m\u001b[1;32m      4\u001b[0m         \u001b[0mtf\u001b[0m\u001b[0;34m.\u001b[0m\u001b[0mcast\u001b[0m\u001b[0;34m(\u001b[0m\u001b[0mtrain\u001b[0m\u001b[0;34m[\u001b[0m\u001b[0mNUMERIC_FEATURES\u001b[0m\u001b[0;34m]\u001b[0m\u001b[0;34m.\u001b[0m\u001b[0mvalues\u001b[0m\u001b[0;34m,\u001b[0m \u001b[0mtf\u001b[0m\u001b[0;34m.\u001b[0m\u001b[0mfloat32\u001b[0m\u001b[0;34m)\u001b[0m\u001b[0;34m,\u001b[0m\u001b[0;34m\u001b[0m\u001b[0;34m\u001b[0m\u001b[0m\n\u001b[1;32m      5\u001b[0m         \u001b[0mtf\u001b[0m\u001b[0;34m.\u001b[0m\u001b[0mcast\u001b[0m\u001b[0;34m(\u001b[0m\u001b[0mtrain\u001b[0m\u001b[0;34m[\u001b[0m\u001b[0;34m\"target\"\u001b[0m\u001b[0;34m]\u001b[0m\u001b[0;34m.\u001b[0m\u001b[0mvalues\u001b[0m\u001b[0;34m,\u001b[0m \u001b[0mtf\u001b[0m\u001b[0;34m.\u001b[0m\u001b[0mint16\u001b[0m\u001b[0;34m)\u001b[0m\u001b[0;34m\u001b[0m\u001b[0;34m\u001b[0m\u001b[0m\n",
      "\u001b[0;32m/home/luisp/development/spotify-genre-prediction/env/lib/python3.8/site-packages/tensorflow/python/util/traceback_utils.py\u001b[0m in \u001b[0;36merror_handler\u001b[0;34m(*args, **kwargs)\u001b[0m\n\u001b[1;32m    151\u001b[0m     \u001b[0;32mexcept\u001b[0m \u001b[0mException\u001b[0m \u001b[0;32mas\u001b[0m \u001b[0me\u001b[0m\u001b[0;34m:\u001b[0m\u001b[0;34m\u001b[0m\u001b[0;34m\u001b[0m\u001b[0m\n\u001b[1;32m    152\u001b[0m       \u001b[0mfiltered_tb\u001b[0m \u001b[0;34m=\u001b[0m \u001b[0m_process_traceback_frames\u001b[0m\u001b[0;34m(\u001b[0m\u001b[0me\u001b[0m\u001b[0;34m.\u001b[0m\u001b[0m__traceback__\u001b[0m\u001b[0;34m)\u001b[0m\u001b[0;34m\u001b[0m\u001b[0;34m\u001b[0m\u001b[0m\n\u001b[0;32m--> 153\u001b[0;31m       \u001b[0;32mraise\u001b[0m \u001b[0me\u001b[0m\u001b[0;34m.\u001b[0m\u001b[0mwith_traceback\u001b[0m\u001b[0;34m(\u001b[0m\u001b[0mfiltered_tb\u001b[0m\u001b[0;34m)\u001b[0m \u001b[0;32mfrom\u001b[0m \u001b[0;32mNone\u001b[0m\u001b[0;34m\u001b[0m\u001b[0;34m\u001b[0m\u001b[0m\n\u001b[0m\u001b[1;32m    154\u001b[0m     \u001b[0;32mfinally\u001b[0m\u001b[0;34m:\u001b[0m\u001b[0;34m\u001b[0m\u001b[0;34m\u001b[0m\u001b[0m\n\u001b[1;32m    155\u001b[0m       \u001b[0;32mdel\u001b[0m \u001b[0mfiltered_tb\u001b[0m\u001b[0;34m\u001b[0m\u001b[0;34m\u001b[0m\u001b[0m\n",
      "\u001b[0;32m/home/luisp/development/spotify-genre-prediction/env/lib/python3.8/site-packages/tensorflow/python/framework/ops.py\u001b[0m in \u001b[0;36mraise_from_not_ok_status\u001b[0;34m(e, name)\u001b[0m\n\u001b[1;32m   7105\u001b[0m \u001b[0;32mdef\u001b[0m \u001b[0mraise_from_not_ok_status\u001b[0m\u001b[0;34m(\u001b[0m\u001b[0me\u001b[0m\u001b[0;34m,\u001b[0m \u001b[0mname\u001b[0m\u001b[0;34m)\u001b[0m\u001b[0;34m:\u001b[0m\u001b[0;34m\u001b[0m\u001b[0;34m\u001b[0m\u001b[0m\n\u001b[1;32m   7106\u001b[0m   \u001b[0me\u001b[0m\u001b[0;34m.\u001b[0m\u001b[0mmessage\u001b[0m \u001b[0;34m+=\u001b[0m \u001b[0;34m(\u001b[0m\u001b[0;34m\" name: \"\u001b[0m \u001b[0;34m+\u001b[0m \u001b[0mname\u001b[0m \u001b[0;32mif\u001b[0m \u001b[0mname\u001b[0m \u001b[0;32mis\u001b[0m \u001b[0;32mnot\u001b[0m \u001b[0;32mNone\u001b[0m \u001b[0;32melse\u001b[0m \u001b[0;34m\"\"\u001b[0m\u001b[0;34m)\u001b[0m\u001b[0;34m\u001b[0m\u001b[0;34m\u001b[0m\u001b[0m\n\u001b[0;32m-> 7107\u001b[0;31m   \u001b[0;32mraise\u001b[0m \u001b[0mcore\u001b[0m\u001b[0;34m.\u001b[0m\u001b[0m_status_to_exception\u001b[0m\u001b[0;34m(\u001b[0m\u001b[0me\u001b[0m\u001b[0;34m)\u001b[0m \u001b[0;32mfrom\u001b[0m \u001b[0;32mNone\u001b[0m  \u001b[0;31m# pylint: disable=protected-access\u001b[0m\u001b[0;34m\u001b[0m\u001b[0;34m\u001b[0m\u001b[0m\n\u001b[0m\u001b[1;32m   7108\u001b[0m \u001b[0;34m\u001b[0m\u001b[0m\n\u001b[1;32m   7109\u001b[0m \u001b[0;34m\u001b[0m\u001b[0m\n",
      "\u001b[0;31mUnimplementedError\u001b[0m: Cast string to int16 is not supported [Op:Cast]"
     ]
    }
   ],
   "source": [
    "tf.data.Dataset.from_tensor_slices(\n",
    "    (\n",
    "        tf.cast(train[CATEGORICAL_FEATURES].values, tf.int16),\n",
    "        tf.cast(train[NUMERIC_FEATURES].values, tf.float32),\n",
    "        tf.cast(train[\"target\"].values, tf.int16)\n",
    "    )\n",
    ")"
   ]
  },
  {
   "cell_type": "code",
   "execution_count": 9,
   "metadata": {},
   "outputs": [
    {
     "name": "stdout",
     "output_type": "stream",
     "text": [
      "[VocabularyListCategoricalColumn(key='feature_key', vocabulary_list=('0', '5', '8', '4', '9', '11', '2', '10', '1', '7', '6', '3'), dtype=tf.string, default_value=-1, num_oov_buckets=0), VocabularyListCategoricalColumn(key='feature_mode', vocabulary_list=('1', '0'), dtype=tf.string, default_value=-1, num_oov_buckets=0), VocabularyListCategoricalColumn(key='feature_time_signature', vocabulary_list=('4', '3', '1', '5'), dtype=tf.string, default_value=-1, num_oov_buckets=0), NumericColumn(key='feature_danceability', shape=(1,), default_value=None, dtype=tf.float32, normalizer_fn=None), NumericColumn(key='feature_energy', shape=(1,), default_value=None, dtype=tf.float32, normalizer_fn=None), NumericColumn(key='feature_loudness', shape=(1,), default_value=None, dtype=tf.float32, normalizer_fn=None), NumericColumn(key='feature_speechiness', shape=(1,), default_value=None, dtype=tf.float32, normalizer_fn=None), NumericColumn(key='feature_acousticness', shape=(1,), default_value=None, dtype=tf.float32, normalizer_fn=None), NumericColumn(key='feature_instrumentalness', shape=(1,), default_value=None, dtype=tf.float32, normalizer_fn=None), NumericColumn(key='feature_liveness', shape=(1,), default_value=None, dtype=tf.float32, normalizer_fn=None), NumericColumn(key='feature_valence', shape=(1,), default_value=None, dtype=tf.float32, normalizer_fn=None), NumericColumn(key='feature_tempo', shape=(1,), default_value=None, dtype=tf.float32, normalizer_fn=None), NumericColumn(key='feature_duration_ms', shape=(1,), default_value=None, dtype=tf.float32, normalizer_fn=None)]\n"
     ]
    }
   ],
   "source": [
    "feature_columns = []\n",
    "for feature_name in CATEGORICAL_FEATURES:\n",
    "  vocabulary = train[feature_name].unique()  # gets a list of all unique values from given feature column\n",
    "  feature_columns.append(tf.feature_column.categorical_column_with_vocabulary_list(feature_name, vocabulary))\n",
    "\n",
    "for feature_name in NUMERIC_FEATURES:\n",
    "  feature_columns.append(tf.feature_column.numeric_column(feature_name, dtype=tf.float32))\n",
    "\n",
    "print(feature_columns)"
   ]
  },
  {
   "cell_type": "code",
   "execution_count": 94,
   "metadata": {},
   "outputs": [],
   "source": [
    "tf.data.Dataset.from_tensor_\n",
    "# y contains list of target values\n",
    "y_train = train[\"target\"]\n",
    "y_test = test[\"target\"]\n",
    "y_all = df_target_shuffled[\"target\"]\n",
    "\n",
    "# X contains dataframe with feature columns\n",
    "X_train = train[features]\n",
    "X_test = test[features]\n",
    "X_all = df_target_shuffled[features]\n"
   ]
  },
  {
   "cell_type": "code",
   "execution_count": 90,
   "metadata": {},
   "outputs": [
    {
     "data": {
      "text/html": [
       "<div>\n",
       "<style scoped>\n",
       "    .dataframe tbody tr th:only-of-type {\n",
       "        vertical-align: middle;\n",
       "    }\n",
       "\n",
       "    .dataframe tbody tr th {\n",
       "        vertical-align: top;\n",
       "    }\n",
       "\n",
       "    .dataframe thead th {\n",
       "        text-align: right;\n",
       "    }\n",
       "</style>\n",
       "<table border=\"1\" class=\"dataframe\">\n",
       "  <thead>\n",
       "    <tr style=\"text-align: right;\">\n",
       "      <th></th>\n",
       "      <th>target</th>\n",
       "      <th>category</th>\n",
       "    </tr>\n",
       "  </thead>\n",
       "  <tbody>\n",
       "    <tr>\n",
       "      <th>0</th>\n",
       "      <td>0</td>\n",
       "      <td>hiphop</td>\n",
       "    </tr>\n",
       "    <tr>\n",
       "      <th>1</th>\n",
       "      <td>0</td>\n",
       "      <td>hiphop</td>\n",
       "    </tr>\n",
       "    <tr>\n",
       "      <th>2</th>\n",
       "      <td>0</td>\n",
       "      <td>hiphop</td>\n",
       "    </tr>\n",
       "    <tr>\n",
       "      <th>3</th>\n",
       "      <td>0</td>\n",
       "      <td>hiphop</td>\n",
       "    </tr>\n",
       "    <tr>\n",
       "      <th>4</th>\n",
       "      <td>0</td>\n",
       "      <td>hiphop</td>\n",
       "    </tr>\n",
       "  </tbody>\n",
       "</table>\n",
       "</div>"
      ],
      "text/plain": [
       "   target category\n",
       "0       0   hiphop\n",
       "1       0   hiphop\n",
       "2       0   hiphop\n",
       "3       0   hiphop\n",
       "4       0   hiphop"
      ]
     },
     "execution_count": 90,
     "metadata": {},
     "output_type": "execute_result"
    }
   ],
   "source": [
    "# sklearn takes the features and labels as seperate lists\n",
    "# df needs to be split\n",
    "def encode_target(df, target_column):\n",
    "\n",
    "    df_mod = df.copy()\n",
    "    map_to_int = {name: n for n, name in enumerate(df_mod[\"category\"].unique())}\n",
    "    df_mod[\"target\"] = df_mod[target_column].replace(map_to_int)\n",
    "\n",
    "    return (df_mod)\n",
    "\n",
    "df_target = encode_target(df, \"category\")\n",
    "\n",
    "# Target to category mapping\n",
    "df_target[[\"target\", \"category\"]].head()"
   ]
  },
  {
   "cell_type": "code",
   "execution_count": 91,
   "metadata": {},
   "outputs": [
    {
     "data": {
      "text/plain": [
       "array(['hiphop', 'rock', 'jazz'], dtype=object)"
      ]
     },
     "execution_count": 91,
     "metadata": {},
     "output_type": "execute_result"
    }
   ],
   "source": [
    "# Possible values for category\n",
    "targets = df_target[\"category\"].unique()\n",
    "targets"
   ]
  },
  {
   "cell_type": "markdown",
   "metadata": {},
   "source": [
    "### Train model"
   ]
  },
  {
   "cell_type": "code",
   "execution_count": 93,
   "metadata": {},
   "outputs": [
    {
     "data": {
      "text/plain": [
       "['feature_danceability',\n",
       " 'feature_energy',\n",
       " 'feature_key',\n",
       " 'feature_loudness',\n",
       " 'feature_mode',\n",
       " 'feature_speechiness',\n",
       " 'feature_acousticness',\n",
       " 'feature_instrumentalness',\n",
       " 'feature_liveness',\n",
       " 'feature_valence',\n",
       " 'feature_tempo',\n",
       " 'feature_duration_ms',\n",
       " 'feature_time_signature']"
      ]
     },
     "execution_count": 93,
     "metadata": {},
     "output_type": "execute_result"
    }
   ],
   "source": [
    "# List of feature names\n",
    "\n",
    "features = list(train.columns[1:14])\n",
    "features"
   ]
  },
  {
   "cell_type": "code",
   "execution_count": null,
   "metadata": {},
   "outputs": [],
   "source": []
  }
 ],
 "metadata": {
  "interpreter": {
   "hash": "ad8ea1ca2c3100f837f77f5359f58fe369343b03ee98bfa1f205f8bd1ca00237"
  },
  "kernelspec": {
   "display_name": "Python 3.8.10 64-bit ('env': venv)",
   "language": "python",
   "name": "python3"
  },
  "language_info": {
   "codemirror_mode": {
    "name": "ipython",
    "version": 3
   },
   "file_extension": ".py",
   "mimetype": "text/x-python",
   "name": "python",
   "nbconvert_exporter": "python",
   "pygments_lexer": "ipython3",
   "version": "3.8.12"
  },
  "orig_nbformat": 4
 },
 "nbformat": 4,
 "nbformat_minor": 2
}
